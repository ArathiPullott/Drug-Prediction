{
 "cells": [
  {
   "cell_type": "markdown",
   "id": "89a7bee8",
   "metadata": {},
   "source": [
    "# <div style=\"text-align: center; background-color:#80ced6; font-family:Impact; color: black; padding: 20px; line-height: 1;border-radius:20px\">Drug_Classification 🕊️</div>"
   ]
  },
  {
   "cell_type": "markdown",
   "id": "92fac70a",
   "metadata": {},
   "source": [
    "<div id='2.2' style='background-color:#80ced6;text-align:center;padding:4px;border-radius:25px'>\n",
    "    <h3 style='color:black;font-family:Impact'> About Dataset</h3>\n",
    "</div>\n"
   ]
  },
  {
   "cell_type": "markdown",
   "id": "5353b5fb",
   "metadata": {},
   "source": [
    "* Age: Numeric input field.\n",
    "* Sex: Radio buttons for 'F' and 'M'.\n",
    "* Blood Pressure (BP): Dropdown menu with options for 'HIGH', 'LOW', and 'NORMAL'.\n",
    "* Cholesterol: Dropdown menu with options for 'HIGH', 'LOW', and 'NORMAL'.\n",
    "* Na_to_K: Numeric input field for the Sodium-to-Potassium ratio.\n",
    "\n"
   ]
  },
  {
   "cell_type": "markdown",
   "id": "1afb4bad",
   "metadata": {},
   "source": [
    "<div id='2.1' style='background-color:#80ced6;text-align:center;padding:4px;border-radius:25px'>\n",
    "    <h3 style='color:black;font-family:Impact'> Import Libraries </h3>\n",
    "</div>\n",
    " "
   ]
  },
  {
   "cell_type": "code",
   "execution_count": 1,
   "id": "e3cf2b38",
   "metadata": {},
   "outputs": [],
   "source": [
    "import numpy as np\n",
    "import pandas as pd\n",
    "import missingno as msno\n",
    "import seaborn as sns\n",
    "import matplotlib.pyplot as plt\n",
    "import warnings\n",
    "warnings.filterwarnings('ignore')"
   ]
  },
  {
   "cell_type": "code",
   "execution_count": 249,
   "id": "517dc16a",
   "metadata": {},
   "outputs": [],
   "source": [
    "data=pd.read_csv('drug200.csv')"
   ]
  },
  {
   "cell_type": "code",
   "execution_count": 3,
   "id": "84ffce58",
   "metadata": {},
   "outputs": [
    {
     "data": {
      "text/html": [
       "<div>\n",
       "<style scoped>\n",
       "    .dataframe tbody tr th:only-of-type {\n",
       "        vertical-align: middle;\n",
       "    }\n",
       "\n",
       "    .dataframe tbody tr th {\n",
       "        vertical-align: top;\n",
       "    }\n",
       "\n",
       "    .dataframe thead th {\n",
       "        text-align: right;\n",
       "    }\n",
       "</style>\n",
       "<table border=\"1\" class=\"dataframe\">\n",
       "  <thead>\n",
       "    <tr style=\"text-align: right;\">\n",
       "      <th></th>\n",
       "      <th>Age</th>\n",
       "      <th>Sex</th>\n",
       "      <th>BP</th>\n",
       "      <th>Cholesterol</th>\n",
       "      <th>Na_to_K</th>\n",
       "      <th>Drug</th>\n",
       "    </tr>\n",
       "  </thead>\n",
       "  <tbody>\n",
       "    <tr>\n",
       "      <th>0</th>\n",
       "      <td>23</td>\n",
       "      <td>F</td>\n",
       "      <td>HIGH</td>\n",
       "      <td>HIGH</td>\n",
       "      <td>25.355</td>\n",
       "      <td>DrugY</td>\n",
       "    </tr>\n",
       "    <tr>\n",
       "      <th>1</th>\n",
       "      <td>47</td>\n",
       "      <td>M</td>\n",
       "      <td>LOW</td>\n",
       "      <td>HIGH</td>\n",
       "      <td>13.093</td>\n",
       "      <td>drugC</td>\n",
       "    </tr>\n",
       "    <tr>\n",
       "      <th>2</th>\n",
       "      <td>47</td>\n",
       "      <td>M</td>\n",
       "      <td>LOW</td>\n",
       "      <td>HIGH</td>\n",
       "      <td>10.114</td>\n",
       "      <td>drugC</td>\n",
       "    </tr>\n",
       "    <tr>\n",
       "      <th>3</th>\n",
       "      <td>28</td>\n",
       "      <td>F</td>\n",
       "      <td>NORMAL</td>\n",
       "      <td>HIGH</td>\n",
       "      <td>7.798</td>\n",
       "      <td>drugX</td>\n",
       "    </tr>\n",
       "    <tr>\n",
       "      <th>4</th>\n",
       "      <td>61</td>\n",
       "      <td>F</td>\n",
       "      <td>LOW</td>\n",
       "      <td>HIGH</td>\n",
       "      <td>18.043</td>\n",
       "      <td>DrugY</td>\n",
       "    </tr>\n",
       "    <tr>\n",
       "      <th>...</th>\n",
       "      <td>...</td>\n",
       "      <td>...</td>\n",
       "      <td>...</td>\n",
       "      <td>...</td>\n",
       "      <td>...</td>\n",
       "      <td>...</td>\n",
       "    </tr>\n",
       "    <tr>\n",
       "      <th>195</th>\n",
       "      <td>56</td>\n",
       "      <td>F</td>\n",
       "      <td>LOW</td>\n",
       "      <td>HIGH</td>\n",
       "      <td>11.567</td>\n",
       "      <td>drugC</td>\n",
       "    </tr>\n",
       "    <tr>\n",
       "      <th>196</th>\n",
       "      <td>16</td>\n",
       "      <td>M</td>\n",
       "      <td>LOW</td>\n",
       "      <td>HIGH</td>\n",
       "      <td>12.006</td>\n",
       "      <td>drugC</td>\n",
       "    </tr>\n",
       "    <tr>\n",
       "      <th>197</th>\n",
       "      <td>52</td>\n",
       "      <td>M</td>\n",
       "      <td>NORMAL</td>\n",
       "      <td>HIGH</td>\n",
       "      <td>9.894</td>\n",
       "      <td>drugX</td>\n",
       "    </tr>\n",
       "    <tr>\n",
       "      <th>198</th>\n",
       "      <td>23</td>\n",
       "      <td>M</td>\n",
       "      <td>NORMAL</td>\n",
       "      <td>NORMAL</td>\n",
       "      <td>14.020</td>\n",
       "      <td>drugX</td>\n",
       "    </tr>\n",
       "    <tr>\n",
       "      <th>199</th>\n",
       "      <td>40</td>\n",
       "      <td>F</td>\n",
       "      <td>LOW</td>\n",
       "      <td>NORMAL</td>\n",
       "      <td>11.349</td>\n",
       "      <td>drugX</td>\n",
       "    </tr>\n",
       "  </tbody>\n",
       "</table>\n",
       "<p>200 rows × 6 columns</p>\n",
       "</div>"
      ],
      "text/plain": [
       "     Age Sex      BP Cholesterol  Na_to_K   Drug\n",
       "0     23   F    HIGH        HIGH   25.355  DrugY\n",
       "1     47   M     LOW        HIGH   13.093  drugC\n",
       "2     47   M     LOW        HIGH   10.114  drugC\n",
       "3     28   F  NORMAL        HIGH    7.798  drugX\n",
       "4     61   F     LOW        HIGH   18.043  DrugY\n",
       "..   ...  ..     ...         ...      ...    ...\n",
       "195   56   F     LOW        HIGH   11.567  drugC\n",
       "196   16   M     LOW        HIGH   12.006  drugC\n",
       "197   52   M  NORMAL        HIGH    9.894  drugX\n",
       "198   23   M  NORMAL      NORMAL   14.020  drugX\n",
       "199   40   F     LOW      NORMAL   11.349  drugX\n",
       "\n",
       "[200 rows x 6 columns]"
      ]
     },
     "execution_count": 3,
     "metadata": {},
     "output_type": "execute_result"
    }
   ],
   "source": [
    "data"
   ]
  },
  {
   "cell_type": "markdown",
   "id": "106a70fd",
   "metadata": {},
   "source": [
    "<div id='2.3' style='background-color:#80ced6;text-align:center;padding:4px;border-radius:25px'>\n",
    "    <h3 style='color:black;font-family:Impact'> Exploratory Data Analysis </h3>\n",
    "</div>\n"
   ]
  },
  {
   "cell_type": "code",
   "execution_count": 4,
   "id": "c04f282d",
   "metadata": {},
   "outputs": [
    {
     "data": {
      "text/plain": [
       "(200, 6)"
      ]
     },
     "execution_count": 4,
     "metadata": {},
     "output_type": "execute_result"
    }
   ],
   "source": [
    "data.shape"
   ]
  },
  {
   "cell_type": "code",
   "execution_count": 5,
   "id": "3745c886",
   "metadata": {},
   "outputs": [
    {
     "name": "stdout",
     "output_type": "stream",
     "text": [
      "<class 'pandas.core.frame.DataFrame'>\n",
      "RangeIndex: 200 entries, 0 to 199\n",
      "Data columns (total 6 columns):\n",
      " #   Column       Non-Null Count  Dtype  \n",
      "---  ------       --------------  -----  \n",
      " 0   Age          200 non-null    int64  \n",
      " 1   Sex          200 non-null    object \n",
      " 2   BP           200 non-null    object \n",
      " 3   Cholesterol  200 non-null    object \n",
      " 4   Na_to_K      200 non-null    float64\n",
      " 5   Drug         200 non-null    object \n",
      "dtypes: float64(1), int64(1), object(4)\n",
      "memory usage: 9.5+ KB\n"
     ]
    }
   ],
   "source": [
    "data.info()"
   ]
  },
  {
   "cell_type": "code",
   "execution_count": 6,
   "id": "7b071c40",
   "metadata": {},
   "outputs": [
    {
     "data": {
      "text/html": [
       "<div>\n",
       "<style scoped>\n",
       "    .dataframe tbody tr th:only-of-type {\n",
       "        vertical-align: middle;\n",
       "    }\n",
       "\n",
       "    .dataframe tbody tr th {\n",
       "        vertical-align: top;\n",
       "    }\n",
       "\n",
       "    .dataframe thead th {\n",
       "        text-align: right;\n",
       "    }\n",
       "</style>\n",
       "<table border=\"1\" class=\"dataframe\">\n",
       "  <thead>\n",
       "    <tr style=\"text-align: right;\">\n",
       "      <th></th>\n",
       "      <th>count</th>\n",
       "      <th>unique</th>\n",
       "      <th>top</th>\n",
       "      <th>freq</th>\n",
       "      <th>mean</th>\n",
       "      <th>std</th>\n",
       "      <th>min</th>\n",
       "      <th>25%</th>\n",
       "      <th>50%</th>\n",
       "      <th>75%</th>\n",
       "      <th>max</th>\n",
       "    </tr>\n",
       "  </thead>\n",
       "  <tbody>\n",
       "    <tr>\n",
       "      <th>Age</th>\n",
       "      <td>200.0</td>\n",
       "      <td>NaN</td>\n",
       "      <td>NaN</td>\n",
       "      <td>NaN</td>\n",
       "      <td>44.315</td>\n",
       "      <td>16.544315</td>\n",
       "      <td>15.0</td>\n",
       "      <td>31.0</td>\n",
       "      <td>45.0</td>\n",
       "      <td>58.0</td>\n",
       "      <td>74.0</td>\n",
       "    </tr>\n",
       "    <tr>\n",
       "      <th>Sex</th>\n",
       "      <td>200</td>\n",
       "      <td>2</td>\n",
       "      <td>M</td>\n",
       "      <td>104</td>\n",
       "      <td>NaN</td>\n",
       "      <td>NaN</td>\n",
       "      <td>NaN</td>\n",
       "      <td>NaN</td>\n",
       "      <td>NaN</td>\n",
       "      <td>NaN</td>\n",
       "      <td>NaN</td>\n",
       "    </tr>\n",
       "    <tr>\n",
       "      <th>BP</th>\n",
       "      <td>200</td>\n",
       "      <td>3</td>\n",
       "      <td>HIGH</td>\n",
       "      <td>77</td>\n",
       "      <td>NaN</td>\n",
       "      <td>NaN</td>\n",
       "      <td>NaN</td>\n",
       "      <td>NaN</td>\n",
       "      <td>NaN</td>\n",
       "      <td>NaN</td>\n",
       "      <td>NaN</td>\n",
       "    </tr>\n",
       "    <tr>\n",
       "      <th>Cholesterol</th>\n",
       "      <td>200</td>\n",
       "      <td>2</td>\n",
       "      <td>HIGH</td>\n",
       "      <td>103</td>\n",
       "      <td>NaN</td>\n",
       "      <td>NaN</td>\n",
       "      <td>NaN</td>\n",
       "      <td>NaN</td>\n",
       "      <td>NaN</td>\n",
       "      <td>NaN</td>\n",
       "      <td>NaN</td>\n",
       "    </tr>\n",
       "    <tr>\n",
       "      <th>Na_to_K</th>\n",
       "      <td>200.0</td>\n",
       "      <td>NaN</td>\n",
       "      <td>NaN</td>\n",
       "      <td>NaN</td>\n",
       "      <td>16.084485</td>\n",
       "      <td>7.223956</td>\n",
       "      <td>6.269</td>\n",
       "      <td>10.4455</td>\n",
       "      <td>13.9365</td>\n",
       "      <td>19.38</td>\n",
       "      <td>38.247</td>\n",
       "    </tr>\n",
       "    <tr>\n",
       "      <th>Drug</th>\n",
       "      <td>200</td>\n",
       "      <td>5</td>\n",
       "      <td>DrugY</td>\n",
       "      <td>91</td>\n",
       "      <td>NaN</td>\n",
       "      <td>NaN</td>\n",
       "      <td>NaN</td>\n",
       "      <td>NaN</td>\n",
       "      <td>NaN</td>\n",
       "      <td>NaN</td>\n",
       "      <td>NaN</td>\n",
       "    </tr>\n",
       "  </tbody>\n",
       "</table>\n",
       "</div>"
      ],
      "text/plain": [
       "             count unique    top freq       mean        std    min      25%  \\\n",
       "Age          200.0    NaN    NaN  NaN     44.315  16.544315   15.0     31.0   \n",
       "Sex            200      2      M  104        NaN        NaN    NaN      NaN   \n",
       "BP             200      3   HIGH   77        NaN        NaN    NaN      NaN   \n",
       "Cholesterol    200      2   HIGH  103        NaN        NaN    NaN      NaN   \n",
       "Na_to_K      200.0    NaN    NaN  NaN  16.084485   7.223956  6.269  10.4455   \n",
       "Drug           200      5  DrugY   91        NaN        NaN    NaN      NaN   \n",
       "\n",
       "                 50%    75%     max  \n",
       "Age             45.0   58.0    74.0  \n",
       "Sex              NaN    NaN     NaN  \n",
       "BP               NaN    NaN     NaN  \n",
       "Cholesterol      NaN    NaN     NaN  \n",
       "Na_to_K      13.9365  19.38  38.247  \n",
       "Drug             NaN    NaN     NaN  "
      ]
     },
     "execution_count": 6,
     "metadata": {},
     "output_type": "execute_result"
    }
   ],
   "source": [
    "data.describe(include='all').T"
   ]
  },
  {
   "cell_type": "code",
   "execution_count": 7,
   "id": "fe1dc2bb",
   "metadata": {},
   "outputs": [
    {
     "data": {
      "text/plain": [
       "Age            0\n",
       "Sex            0\n",
       "BP             0\n",
       "Cholesterol    0\n",
       "Na_to_K        0\n",
       "Drug           0\n",
       "dtype: int64"
      ]
     },
     "execution_count": 7,
     "metadata": {},
     "output_type": "execute_result"
    }
   ],
   "source": [
    "data.isnull().sum()"
   ]
  },
  {
   "cell_type": "code",
   "execution_count": 8,
   "id": "1a500c85",
   "metadata": {},
   "outputs": [
    {
     "data": {
      "text/plain": [
       "<Axes: >"
      ]
     },
     "execution_count": 8,
     "metadata": {},
     "output_type": "execute_result"
    },
    {
     "data": {
      "image/png": "[encoded data removed]",
      "text/plain": [
       "<Figure size 2500x1000 with 3 Axes>"
      ]
     },
     "metadata": {},
     "output_type": "display_data"
    }
   ],
   "source": [
    "msno.bar(data)"
   ]
  },
  {
   "cell_type": "code",
   "execution_count": 9,
   "id": "b466a875",
   "metadata": {},
   "outputs": [
    {
     "name": "stdout",
     "output_type": "stream",
     "text": [
      "Age : 57\n",
      "Sex : 2\n",
      "BP : 3\n",
      "Cholesterol : 2\n",
      "Na_to_K : 198\n",
      "Drug : 5\n"
     ]
    }
   ],
   "source": [
    "for i in data.columns:\n",
    "    print(i,':',data[i].nunique())"
   ]
  },
  {
   "cell_type": "code",
   "execution_count": 10,
   "id": "61abcb8e",
   "metadata": {},
   "outputs": [],
   "source": [
    "duplicates = data.duplicated()"
   ]
  },
  {
   "cell_type": "code",
   "execution_count": 11,
   "id": "d036187b",
   "metadata": {},
   "outputs": [
    {
     "data": {
      "text/plain": [
       "0      False\n",
       "1      False\n",
       "2      False\n",
       "3      False\n",
       "4      False\n",
       "       ...  \n",
       "195    False\n",
       "196    False\n",
       "197    False\n",
       "198    False\n",
       "199    False\n",
       "Length: 200, dtype: bool"
      ]
     },
     "execution_count": 11,
     "metadata": {},
     "output_type": "execute_result"
    }
   ],
   "source": [
    "duplicates"
   ]
  },
  {
   "cell_type": "code",
   "execution_count": 12,
   "id": "070ef720",
   "metadata": {},
   "outputs": [
    {
     "data": {
      "text/html": [
       "<div>\n",
       "<style scoped>\n",
       "    .dataframe tbody tr th:only-of-type {\n",
       "        vertical-align: middle;\n",
       "    }\n",
       "\n",
       "    .dataframe tbody tr th {\n",
       "        vertical-align: top;\n",
       "    }\n",
       "\n",
       "    .dataframe thead th {\n",
       "        text-align: right;\n",
       "    }\n",
       "</style>\n",
       "<table border=\"1\" class=\"dataframe\">\n",
       "  <thead>\n",
       "    <tr style=\"text-align: right;\">\n",
       "      <th></th>\n",
       "      <th>Age</th>\n",
       "      <th>Sex</th>\n",
       "      <th>BP</th>\n",
       "      <th>Cholesterol</th>\n",
       "      <th>Na_to_K</th>\n",
       "      <th>Drug</th>\n",
       "    </tr>\n",
       "  </thead>\n",
       "  <tbody>\n",
       "    <tr>\n",
       "      <th>0</th>\n",
       "      <td>23</td>\n",
       "      <td>F</td>\n",
       "      <td>HIGH</td>\n",
       "      <td>HIGH</td>\n",
       "      <td>25.355</td>\n",
       "      <td>DrugY</td>\n",
       "    </tr>\n",
       "    <tr>\n",
       "      <th>1</th>\n",
       "      <td>47</td>\n",
       "      <td>M</td>\n",
       "      <td>LOW</td>\n",
       "      <td>HIGH</td>\n",
       "      <td>13.093</td>\n",
       "      <td>drugC</td>\n",
       "    </tr>\n",
       "    <tr>\n",
       "      <th>2</th>\n",
       "      <td>47</td>\n",
       "      <td>M</td>\n",
       "      <td>LOW</td>\n",
       "      <td>HIGH</td>\n",
       "      <td>10.114</td>\n",
       "      <td>drugC</td>\n",
       "    </tr>\n",
       "    <tr>\n",
       "      <th>3</th>\n",
       "      <td>28</td>\n",
       "      <td>F</td>\n",
       "      <td>NORMAL</td>\n",
       "      <td>HIGH</td>\n",
       "      <td>7.798</td>\n",
       "      <td>drugX</td>\n",
       "    </tr>\n",
       "    <tr>\n",
       "      <th>4</th>\n",
       "      <td>61</td>\n",
       "      <td>F</td>\n",
       "      <td>LOW</td>\n",
       "      <td>HIGH</td>\n",
       "      <td>18.043</td>\n",
       "      <td>DrugY</td>\n",
       "    </tr>\n",
       "    <tr>\n",
       "      <th>...</th>\n",
       "      <td>...</td>\n",
       "      <td>...</td>\n",
       "      <td>...</td>\n",
       "      <td>...</td>\n",
       "      <td>...</td>\n",
       "      <td>...</td>\n",
       "    </tr>\n",
       "    <tr>\n",
       "      <th>195</th>\n",
       "      <td>56</td>\n",
       "      <td>F</td>\n",
       "      <td>LOW</td>\n",
       "      <td>HIGH</td>\n",
       "      <td>11.567</td>\n",
       "      <td>drugC</td>\n",
       "    </tr>\n",
       "    <tr>\n",
       "      <th>196</th>\n",
       "      <td>16</td>\n",
       "      <td>M</td>\n",
       "      <td>LOW</td>\n",
       "      <td>HIGH</td>\n",
       "      <td>12.006</td>\n",
       "      <td>drugC</td>\n",
       "    </tr>\n",
       "    <tr>\n",
       "      <th>197</th>\n",
       "      <td>52</td>\n",
       "      <td>M</td>\n",
       "      <td>NORMAL</td>\n",
       "      <td>HIGH</td>\n",
       "      <td>9.894</td>\n",
       "      <td>drugX</td>\n",
       "    </tr>\n",
       "    <tr>\n",
       "      <th>198</th>\n",
       "      <td>23</td>\n",
       "      <td>M</td>\n",
       "      <td>NORMAL</td>\n",
       "      <td>NORMAL</td>\n",
       "      <td>14.020</td>\n",
       "      <td>drugX</td>\n",
       "    </tr>\n",
       "    <tr>\n",
       "      <th>199</th>\n",
       "      <td>40</td>\n",
       "      <td>F</td>\n",
       "      <td>LOW</td>\n",
       "      <td>NORMAL</td>\n",
       "      <td>11.349</td>\n",
       "      <td>drugX</td>\n",
       "    </tr>\n",
       "  </tbody>\n",
       "</table>\n",
       "<p>200 rows × 6 columns</p>\n",
       "</div>"
      ],
      "text/plain": [
       "     Age Sex      BP Cholesterol  Na_to_K   Drug\n",
       "0     23   F    HIGH        HIGH   25.355  DrugY\n",
       "1     47   M     LOW        HIGH   13.093  drugC\n",
       "2     47   M     LOW        HIGH   10.114  drugC\n",
       "3     28   F  NORMAL        HIGH    7.798  drugX\n",
       "4     61   F     LOW        HIGH   18.043  DrugY\n",
       "..   ...  ..     ...         ...      ...    ...\n",
       "195   56   F     LOW        HIGH   11.567  drugC\n",
       "196   16   M     LOW        HIGH   12.006  drugC\n",
       "197   52   M  NORMAL        HIGH    9.894  drugX\n",
       "198   23   M  NORMAL      NORMAL   14.020  drugX\n",
       "199   40   F     LOW      NORMAL   11.349  drugX\n",
       "\n",
       "[200 rows x 6 columns]"
      ]
     },
     "execution_count": 12,
     "metadata": {},
     "output_type": "execute_result"
    }
   ],
   "source": [
    "data"
   ]
  },
  {
   "cell_type": "code",
   "execution_count": 19,
   "id": "c0de1101",
   "metadata": {},
   "outputs": [
    {
     "data": {
      "text/plain": [
       "<Axes: xlabel='Sex', ylabel='count'>"
      ]
     },
     "execution_count": 19,
     "metadata": {},
     "output_type": "execute_result"
    },
    {
     "data": {
      "image/png": "[encoded data removed]",
      "text/plain": [
       "<Figure size 640x480 with 1 Axes>"
      ]
     },
     "metadata": {},
     "output_type": "display_data"
    }
   ],
   "source": [
    "sns.set_theme(style=\"darkgrid\")\n",
    "sns.countplot(data=data,x='Sex')"
   ]
  },
  {
   "cell_type": "code",
   "execution_count": 15,
   "id": "12de23ac",
   "metadata": {},
   "outputs": [
    {
     "data": {
      "image/png": "[encoded data removed]",
      "text/plain": [
       "<Figure size 640x480 with 1 Axes>"
      ]
     },
     "metadata": {},
     "output_type": "display_data"
    }
   ],
   "source": [
    "plt.title('Cholesterol Distribution')\n",
    "data['Cholesterol'].value_counts().plot(kind='pie',explode=(0,0.1),shadow=True,autopct=\"%.0f%%\")\n",
    "plt.show()"
   ]
  },
  {
   "cell_type": "code",
   "execution_count": 18,
   "id": "0d1e4426",
   "metadata": {},
   "outputs": [
    {
     "data": {
      "text/plain": [
       "[]"
      ]
     },
     "execution_count": 18,
     "metadata": {},
     "output_type": "execute_result"
    },
    {
     "data": {
      "image/png": "[encoded data removed]",
      "text/plain": [
       "<Figure size 640x480 with 1 Axes>"
      ]
     },
     "metadata": {},
     "output_type": "display_data"
    }
   ],
   "source": [
    "plt.title('Drug Distribution')\n",
    "sns.countplot(data=data,x='Drug',palette=\"flare\")\n",
    "plt.plot()"
   ]
  },
  {
   "cell_type": "markdown",
   "id": "35b3e9af",
   "metadata": {},
   "source": [
    "* From this diagram we can say distributions of target variable  \"drug\" is imbalenced"
   ]
  },
  {
   "cell_type": "code",
   "execution_count": 21,
   "id": "89f05be2",
   "metadata": {},
   "outputs": [
    {
     "data": {
      "image/png": "[encoded data removed]",
      "text/plain": [
       "<Figure size 640x480 with 1 Axes>"
      ]
     },
     "metadata": {},
     "output_type": "display_data"
    }
   ],
   "source": [
    "plt.title('BP Distribution')\n",
    "data['BP'].value_counts().plot(kind='pie',explode=(0,0,0.1),shadow=True,autopct=\"%.0f%%\")\n",
    "plt.show()"
   ]
  },
  {
   "cell_type": "code",
   "execution_count": 24,
   "id": "bad35a18",
   "metadata": {},
   "outputs": [
    {
     "data": {
      "text/plain": [
       "<Axes: xlabel='Na_to_K', ylabel='Density'>"
      ]
     },
     "execution_count": 24,
     "metadata": {},
     "output_type": "execute_result"
    },
    {
     "data": {
      "image/png": "[encoded data removed]",
      "text/plain": [
       "<Figure size 640x480 with 1 Axes>"
      ]
     },
     "metadata": {},
     "output_type": "display_data"
    }
   ],
   "source": [
    "sns.distplot(data['Na_to_K'],hist=True)"
   ]
  },
  {
   "cell_type": "code",
   "execution_count": 27,
   "id": "a8529ea0",
   "metadata": {},
   "outputs": [
    {
     "data": {
      "text/plain": [
       "<Axes: xlabel='Age', ylabel='Count'>"
      ]
     },
     "execution_count": 27,
     "metadata": {},
     "output_type": "execute_result"
    },
    {
     "data": {
      "image/png": "[encoded data removed]",
      "text/plain": [
       "<Figure size 640x480 with 1 Axes>"
      ]
     },
     "metadata": {},
     "output_type": "display_data"
    }
   ],
   "source": [
    "sns.histplot(data['Age'],kde=True)"
   ]
  },
  {
   "cell_type": "code",
   "execution_count": 142,
   "id": "3a996dbf",
   "metadata": {},
   "outputs": [
    {
     "data": {
      "text/plain": [
       "[]"
      ]
     },
     "execution_count": 142,
     "metadata": {},
     "output_type": "execute_result"
    },
    {
     "data": {
      "image/png": "[encoded data removed]",
      "text/plain": [
       "<Figure size 640x480 with 1 Axes>"
      ]
     },
     "metadata": {},
     "output_type": "display_data"
    }
   ],
   "source": [
    "sns.barplot(x='BP',y='Na_to_K',data=data,hue='Cholesterol',palette=\"mako_r\")\n",
    "plt.plot()"
   ]
  },
  {
   "cell_type": "code",
   "execution_count": 65,
   "id": "62bc6a12",
   "metadata": {},
   "outputs": [
    {
     "data": {
      "text/plain": [
       "<Axes: xlabel='Cholesterol,BP'>"
      ]
     },
     "execution_count": 65,
     "metadata": {},
     "output_type": "execute_result"
    },
    {
     "data": {
      "image/png": "[encoded data removed]",
      "text/plain": [
       "<Figure size 1500x600 with 1 Axes>"
      ]
     },
     "metadata": {},
     "output_type": "display_data"
    }
   ],
   "source": [
    "data.groupby(['Cholesterol'])['BP'].value_counts().plot(kind=\"bar\",figsize=(15,6),color=['#58508d','#bc5090','#68504d'])"
   ]
  },
  {
   "cell_type": "code",
   "execution_count": 60,
   "id": "eb9204da",
   "metadata": {},
   "outputs": [
    {
     "data": {
      "text/html": [
       "<div>\n",
       "<style scoped>\n",
       "    .dataframe tbody tr th:only-of-type {\n",
       "        vertical-align: middle;\n",
       "    }\n",
       "\n",
       "    .dataframe tbody tr th {\n",
       "        vertical-align: top;\n",
       "    }\n",
       "\n",
       "    .dataframe thead th {\n",
       "        text-align: right;\n",
       "    }\n",
       "</style>\n",
       "<table border=\"1\" class=\"dataframe\">\n",
       "  <thead>\n",
       "    <tr style=\"text-align: right;\">\n",
       "      <th>Drug</th>\n",
       "      <th>DrugY</th>\n",
       "      <th>drugA</th>\n",
       "      <th>drugB</th>\n",
       "      <th>drugC</th>\n",
       "      <th>drugX</th>\n",
       "    </tr>\n",
       "    <tr>\n",
       "      <th>Sex</th>\n",
       "      <th></th>\n",
       "      <th></th>\n",
       "      <th></th>\n",
       "      <th></th>\n",
       "      <th></th>\n",
       "    </tr>\n",
       "  </thead>\n",
       "  <tbody>\n",
       "    <tr>\n",
       "      <th>F</th>\n",
       "      <td>47</td>\n",
       "      <td>9</td>\n",
       "      <td>6</td>\n",
       "      <td>7</td>\n",
       "      <td>27</td>\n",
       "    </tr>\n",
       "    <tr>\n",
       "      <th>M</th>\n",
       "      <td>44</td>\n",
       "      <td>14</td>\n",
       "      <td>10</td>\n",
       "      <td>9</td>\n",
       "      <td>27</td>\n",
       "    </tr>\n",
       "  </tbody>\n",
       "</table>\n",
       "</div>"
      ],
      "text/plain": [
       "Drug  DrugY  drugA  drugB  drugC  drugX\n",
       "Sex                                    \n",
       "F        47      9      6      7     27\n",
       "M        44     14     10      9     27"
      ]
     },
     "execution_count": 60,
     "metadata": {},
     "output_type": "execute_result"
    }
   ],
   "source": [
    "pd.crosstab(data.Sex,data.Drug)"
   ]
  },
  {
   "cell_type": "code",
   "execution_count": 62,
   "id": "1e321049",
   "metadata": {},
   "outputs": [
    {
     "data": {
      "text/plain": [
       "[]"
      ]
     },
     "execution_count": 62,
     "metadata": {},
     "output_type": "execute_result"
    },
    {
     "data": {
      "image/png": "[encoded data removed]",
      "text/plain": [
       "<Figure size 1500x600 with 1 Axes>"
      ]
     },
     "metadata": {},
     "output_type": "display_data"
    }
   ],
   "source": [
    "plt.title('Gender distribution based on Drug type')\n",
    "data.groupby(['Sex'])['Drug'].value_counts().plot(kind=\"bar\",figsize=(15,6),color=['#003f5c','#ffa600','#58506d','#bc5080','#ff6361'])\n",
    "plt.plot()"
   ]
  },
  {
   "cell_type": "code",
   "execution_count": 99,
   "id": "1bf72ce4",
   "metadata": {},
   "outputs": [
    {
     "data": {
      "text/plain": [
       "[]"
      ]
     },
     "execution_count": 99,
     "metadata": {},
     "output_type": "execute_result"
    },
    {
     "data": {
      "image/png": "[encoded data removed]",
      "text/plain": [
       "<Figure size 1500x600 with 1 Axes>"
      ]
     },
     "metadata": {},
     "output_type": "display_data"
    }
   ],
   "source": [
    "pd.crosstab(data.Sex,data.BP).plot(kind=\"bar\",figsize=(15,6),color=['#003f5c','#dfa600','#58506d'])\n",
    "plt.title('Gender distribution based on BP type')\n",
    "plt.plot()"
   ]
  },
  {
   "cell_type": "code",
   "execution_count": null,
   "id": "2ac95f17",
   "metadata": {},
   "outputs": [],
   "source": []
  },
  {
   "cell_type": "code",
   "execution_count": 77,
   "id": "0c863113",
   "metadata": {},
   "outputs": [
    {
     "data": {
      "text/plain": [
       "[]"
      ]
     },
     "execution_count": 77,
     "metadata": {},
     "output_type": "execute_result"
    },
    {
     "data": {
      "image/png": "[encoded data removed]",
      "text/plain": [
       "<Figure size 1500x600 with 1 Axes>"
      ]
     },
     "metadata": {},
     "output_type": "display_data"
    }
   ],
   "source": [
    "pd.crosstab(data.Sex,data.Cholesterol).plot(kind=\"bar\",figsize=(15,6),color=['#58506d','#bc5080'])\n",
    "plt.title('Gender distribution based on Cholesterol type')\n",
    "plt.plot()"
   ]
  },
  {
   "cell_type": "code",
   "execution_count": 83,
   "id": "02597f62",
   "metadata": {},
   "outputs": [
    {
     "data": {
      "text/html": [
       "<div>\n",
       "<style scoped>\n",
       "    .dataframe tbody tr th:only-of-type {\n",
       "        vertical-align: middle;\n",
       "    }\n",
       "\n",
       "    .dataframe tbody tr th {\n",
       "        vertical-align: top;\n",
       "    }\n",
       "\n",
       "    .dataframe thead th {\n",
       "        text-align: right;\n",
       "    }\n",
       "</style>\n",
       "<table border=\"1\" class=\"dataframe\">\n",
       "  <thead>\n",
       "    <tr style=\"text-align: right;\">\n",
       "      <th>BP</th>\n",
       "      <th>HIGH</th>\n",
       "      <th>LOW</th>\n",
       "      <th>NORMAL</th>\n",
       "    </tr>\n",
       "    <tr>\n",
       "      <th>Drug</th>\n",
       "      <th></th>\n",
       "      <th></th>\n",
       "      <th></th>\n",
       "    </tr>\n",
       "  </thead>\n",
       "  <tbody>\n",
       "    <tr>\n",
       "      <th>DrugY</th>\n",
       "      <td>38</td>\n",
       "      <td>30</td>\n",
       "      <td>23</td>\n",
       "    </tr>\n",
       "    <tr>\n",
       "      <th>drugA</th>\n",
       "      <td>23</td>\n",
       "      <td>0</td>\n",
       "      <td>0</td>\n",
       "    </tr>\n",
       "    <tr>\n",
       "      <th>drugB</th>\n",
       "      <td>16</td>\n",
       "      <td>0</td>\n",
       "      <td>0</td>\n",
       "    </tr>\n",
       "    <tr>\n",
       "      <th>drugC</th>\n",
       "      <td>0</td>\n",
       "      <td>16</td>\n",
       "      <td>0</td>\n",
       "    </tr>\n",
       "    <tr>\n",
       "      <th>drugX</th>\n",
       "      <td>0</td>\n",
       "      <td>18</td>\n",
       "      <td>36</td>\n",
       "    </tr>\n",
       "  </tbody>\n",
       "</table>\n",
       "</div>"
      ],
      "text/plain": [
       "BP     HIGH  LOW  NORMAL\n",
       "Drug                    \n",
       "DrugY    38   30      23\n",
       "drugA    23    0       0\n",
       "drugB    16    0       0\n",
       "drugC     0   16       0\n",
       "drugX     0   18      36"
      ]
     },
     "execution_count": 83,
     "metadata": {},
     "output_type": "execute_result"
    }
   ],
   "source": [
    "pd.crosstab(data.Drug,data.BP)"
   ]
  },
  {
   "cell_type": "code",
   "execution_count": 84,
   "id": "67ef71c0",
   "metadata": {},
   "outputs": [
    {
     "data": {
      "text/plain": [
       "[]"
      ]
     },
     "execution_count": 84,
     "metadata": {},
     "output_type": "execute_result"
    },
    {
     "data": {
      "image/png": "[encoded data removed]",
      "text/plain": [
       "<Figure size 1500x600 with 1 Axes>"
      ]
     },
     "metadata": {},
     "output_type": "display_data"
    }
   ],
   "source": [
    "pd.crosstab(data.Drug,data.BP).plot(kind=\"bar\",figsize=(15,6),color=['#003f5c','#ffa600','#58506d'])\n",
    "plt.title('Drug distribution based on BP type')\n",
    "plt.plot()"
   ]
  },
  {
   "cell_type": "code",
   "execution_count": 98,
   "id": "fae02b80",
   "metadata": {},
   "outputs": [
    {
     "data": {
      "text/plain": [
       "[]"
      ]
     },
     "execution_count": 98,
     "metadata": {},
     "output_type": "execute_result"
    },
    {
     "data": {
      "image/png": "[encoded data removed]",
      "text/plain": [
       "<Figure size 1500x600 with 1 Axes>"
      ]
     },
     "metadata": {},
     "output_type": "display_data"
    }
   ],
   "source": [
    "pd.crosstab(data.Drug,data.Cholesterol).plot(kind=\"bar\",figsize=(15,6),color=['#003f4c','#bca900','#58509d'])\n",
    "plt.title('Drug distribution based on Cholesterol type')\n",
    "plt.plot()"
   ]
  },
  {
   "cell_type": "code",
   "execution_count": 93,
   "id": "cad30097",
   "metadata": {},
   "outputs": [
    {
     "data": {
      "text/plain": [
       "[]"
      ]
     },
     "execution_count": 93,
     "metadata": {},
     "output_type": "execute_result"
    },
    {
     "data": {
      "image/png": "[encoded data removed]",
      "text/plain": [
       "<Figure size 640x480 with 1 Axes>"
      ]
     },
     "metadata": {},
     "output_type": "display_data"
    }
   ],
   "source": [
    "sns.barplot(x=data.Drug,y=data.Na_to_K,hue=data['BP'])\n",
    "plt.title('Drug distribution based on Na_to_K  and BP type')\n",
    "plt.plot()"
   ]
  },
  {
   "cell_type": "code",
   "execution_count": 96,
   "id": "612acb67",
   "metadata": {},
   "outputs": [
    {
     "data": {
      "text/plain": [
       "[]"
      ]
     },
     "execution_count": 96,
     "metadata": {},
     "output_type": "execute_result"
    },
    {
     "data": {
      "image/png": "[encoded data removed]",
      "text/plain": [
       "<Figure size 640x480 with 1 Axes>"
      ]
     },
     "metadata": {},
     "output_type": "display_data"
    }
   ],
   "source": [
    "sns.barplot(x=data.Drug,y=data.Na_to_K,hue=data['Cholesterol'],palette=\"crest\")\n",
    "plt.title('Drug distribution based on Na_to_K  and Cholesterol type')\n",
    "plt.plot()"
   ]
  },
  {
   "cell_type": "code",
   "execution_count": 59,
   "id": "6ce38560",
   "metadata": {},
   "outputs": [
    {
     "data": {
      "text/plain": [
       "Drug   Sex\n",
       "DrugY  F      47\n",
       "       M      44\n",
       "drugA  M      14\n",
       "       F       9\n",
       "drugB  M      10\n",
       "       F       6\n",
       "drugC  M       9\n",
       "       F       7\n",
       "drugX  F      27\n",
       "       M      27\n",
       "Name: Sex, dtype: int64"
      ]
     },
     "execution_count": 59,
     "metadata": {},
     "output_type": "execute_result"
    }
   ],
   "source": [
    "data.groupby(['Drug'])['Sex'].value_counts()"
   ]
  },
  {
   "cell_type": "code",
   "execution_count": 97,
   "id": "a1d147fd",
   "metadata": {},
   "outputs": [
    {
     "data": {
      "text/plain": [
       "[]"
      ]
     },
     "execution_count": 97,
     "metadata": {},
     "output_type": "execute_result"
    },
    {
     "data": {
      "image/png": "[encoded data removed]",
      "text/plain": [
       "<Figure size 640x480 with 1 Axes>"
      ]
     },
     "metadata": {},
     "output_type": "display_data"
    }
   ],
   "source": [
    "sns.barplot(x=data.Drug,y=data.Age,palette=\"rocket\")\n",
    "plt.title('Drug distribution based on Age')\n",
    "plt.plot()"
   ]
  },
  {
   "cell_type": "code",
   "execution_count": 103,
   "id": "9ec108e5",
   "metadata": {},
   "outputs": [
    {
     "data": {
      "text/plain": [
       "<Axes: xlabel='Drug', ylabel='Na_to_K'>"
      ]
     },
     "execution_count": 103,
     "metadata": {},
     "output_type": "execute_result"
    },
    {
     "data": {
      "image/png": "[encoded data removed]",
      "text/plain": [
       "<Figure size 640x480 with 1 Axes>"
      ]
     },
     "metadata": {},
     "output_type": "display_data"
    }
   ],
   "source": [
    "sns.lineplot(data=data,x='Drug',y='Na_to_K', hue='Sex')"
   ]
  },
  {
   "cell_type": "code",
   "execution_count": 105,
   "id": "52d683ff",
   "metadata": {},
   "outputs": [
    {
     "data": {
      "text/plain": [
       "<Axes: xlabel='Age', ylabel='Na_to_K'>"
      ]
     },
     "execution_count": 105,
     "metadata": {},
     "output_type": "execute_result"
    },
    {
     "data": {
      "image/png": "[encoded data removed]",
      "text/plain": [
       "<Figure size 640x480 with 1 Axes>"
      ]
     },
     "metadata": {},
     "output_type": "display_data"
    }
   ],
   "source": [
    "sns.scatterplot(data=data,x='Age',y='Na_to_K', hue='Drug')"
   ]
  },
  {
   "cell_type": "code",
   "execution_count": 81,
   "id": "4902e30b",
   "metadata": {},
   "outputs": [
    {
     "data": {
      "text/plain": [
       "Drug   BP      Cholesterol\n",
       "DrugY  HIGH    NORMAL         23\n",
       "       NORMAL  HIGH           17\n",
       "       HIGH    HIGH           15\n",
       "       LOW     HIGH           15\n",
       "               NORMAL         15\n",
       "       NORMAL  NORMAL          6\n",
       "drugA  HIGH    HIGH           12\n",
       "               NORMAL         11\n",
       "drugB  HIGH    HIGH            8\n",
       "               NORMAL          8\n",
       "drugC  LOW     HIGH           16\n",
       "drugX  NORMAL  HIGH           20\n",
       "       LOW     NORMAL         18\n",
       "       NORMAL  NORMAL         16\n",
       "dtype: int64"
      ]
     },
     "execution_count": 81,
     "metadata": {},
     "output_type": "execute_result"
    }
   ],
   "source": [
    "data.groupby(['Drug'])['BP','Cholesterol'].value_counts()"
   ]
  },
  {
   "cell_type": "code",
   "execution_count": 107,
   "id": "f2a30bee",
   "metadata": {},
   "outputs": [
    {
     "data": {
      "text/plain": [
       "<Axes: xlabel='BP', ylabel='Na_to_K'>"
      ]
     },
     "execution_count": 107,
     "metadata": {},
     "output_type": "execute_result"
    },
    {
     "data": {
      "image/png": "[encoded data removed]",
      "text/plain": [
       "<Figure size 640x480 with 1 Axes>"
      ]
     },
     "metadata": {},
     "output_type": "display_data"
    }
   ],
   "source": [
    "sns.boxplot(data=data,x='BP',y='Na_to_K', hue='Drug')"
   ]
  },
  {
   "cell_type": "code",
   "execution_count": 108,
   "id": "07113c57",
   "metadata": {},
   "outputs": [
    {
     "data": {
      "text/plain": [
       "<Axes: xlabel='Cholesterol', ylabel='Na_to_K'>"
      ]
     },
     "execution_count": 108,
     "metadata": {},
     "output_type": "execute_result"
    },
    {
     "data": {
      "image/png": "[encoded data removed]",
      "text/plain": [
       "<Figure size 640x480 with 1 Axes>"
      ]
     },
     "metadata": {},
     "output_type": "display_data"
    }
   ],
   "source": [
    "sns.boxplot(data=data,x='Cholesterol',y='Na_to_K', hue='Drug')"
   ]
  },
  {
   "cell_type": "code",
   "execution_count": 48,
   "id": "88d43a9a",
   "metadata": {},
   "outputs": [
    {
     "data": {
      "text/plain": [
       "Index(['Age', 'Sex', 'BP', 'Cholesterol', 'Na_to_K', 'Drug'], dtype='object')"
      ]
     },
     "execution_count": 48,
     "metadata": {},
     "output_type": "execute_result"
    }
   ],
   "source": [
    "data.columns"
   ]
  },
  {
   "cell_type": "markdown",
   "id": "e9e5a2b9",
   "metadata": {},
   "source": [
    "<div id='2.3' style='background-color:#80ced6;text-align:center;padding:4px;border-radius:25px'>\n",
    "    <h3 style='color:black;font-family:Impact'> Model Building </h3>\n",
    "</div>"
   ]
  },
  {
   "cell_type": "code",
   "execution_count": 250,
   "id": "0601c9c5",
   "metadata": {},
   "outputs": [
    {
     "data": {
      "text/html": [
       "<div>\n",
       "<style scoped>\n",
       "    .dataframe tbody tr th:only-of-type {\n",
       "        vertical-align: middle;\n",
       "    }\n",
       "\n",
       "    .dataframe tbody tr th {\n",
       "        vertical-align: top;\n",
       "    }\n",
       "\n",
       "    .dataframe thead th {\n",
       "        text-align: right;\n",
       "    }\n",
       "</style>\n",
       "<table border=\"1\" class=\"dataframe\">\n",
       "  <thead>\n",
       "    <tr style=\"text-align: right;\">\n",
       "      <th></th>\n",
       "      <th>Age</th>\n",
       "      <th>Sex</th>\n",
       "      <th>BP</th>\n",
       "      <th>Cholesterol</th>\n",
       "      <th>Na_to_K</th>\n",
       "      <th>Drug</th>\n",
       "    </tr>\n",
       "  </thead>\n",
       "  <tbody>\n",
       "    <tr>\n",
       "      <th>0</th>\n",
       "      <td>23</td>\n",
       "      <td>F</td>\n",
       "      <td>HIGH</td>\n",
       "      <td>HIGH</td>\n",
       "      <td>25.355</td>\n",
       "      <td>DrugY</td>\n",
       "    </tr>\n",
       "    <tr>\n",
       "      <th>1</th>\n",
       "      <td>47</td>\n",
       "      <td>M</td>\n",
       "      <td>LOW</td>\n",
       "      <td>HIGH</td>\n",
       "      <td>13.093</td>\n",
       "      <td>drugC</td>\n",
       "    </tr>\n",
       "    <tr>\n",
       "      <th>2</th>\n",
       "      <td>47</td>\n",
       "      <td>M</td>\n",
       "      <td>LOW</td>\n",
       "      <td>HIGH</td>\n",
       "      <td>10.114</td>\n",
       "      <td>drugC</td>\n",
       "    </tr>\n",
       "    <tr>\n",
       "      <th>3</th>\n",
       "      <td>28</td>\n",
       "      <td>F</td>\n",
       "      <td>NORMAL</td>\n",
       "      <td>HIGH</td>\n",
       "      <td>7.798</td>\n",
       "      <td>drugX</td>\n",
       "    </tr>\n",
       "    <tr>\n",
       "      <th>4</th>\n",
       "      <td>61</td>\n",
       "      <td>F</td>\n",
       "      <td>LOW</td>\n",
       "      <td>HIGH</td>\n",
       "      <td>18.043</td>\n",
       "      <td>DrugY</td>\n",
       "    </tr>\n",
       "    <tr>\n",
       "      <th>...</th>\n",
       "      <td>...</td>\n",
       "      <td>...</td>\n",
       "      <td>...</td>\n",
       "      <td>...</td>\n",
       "      <td>...</td>\n",
       "      <td>...</td>\n",
       "    </tr>\n",
       "    <tr>\n",
       "      <th>195</th>\n",
       "      <td>56</td>\n",
       "      <td>F</td>\n",
       "      <td>LOW</td>\n",
       "      <td>HIGH</td>\n",
       "      <td>11.567</td>\n",
       "      <td>drugC</td>\n",
       "    </tr>\n",
       "    <tr>\n",
       "      <th>196</th>\n",
       "      <td>16</td>\n",
       "      <td>M</td>\n",
       "      <td>LOW</td>\n",
       "      <td>HIGH</td>\n",
       "      <td>12.006</td>\n",
       "      <td>drugC</td>\n",
       "    </tr>\n",
       "    <tr>\n",
       "      <th>197</th>\n",
       "      <td>52</td>\n",
       "      <td>M</td>\n",
       "      <td>NORMAL</td>\n",
       "      <td>HIGH</td>\n",
       "      <td>9.894</td>\n",
       "      <td>drugX</td>\n",
       "    </tr>\n",
       "    <tr>\n",
       "      <th>198</th>\n",
       "      <td>23</td>\n",
       "      <td>M</td>\n",
       "      <td>NORMAL</td>\n",
       "      <td>NORMAL</td>\n",
       "      <td>14.020</td>\n",
       "      <td>drugX</td>\n",
       "    </tr>\n",
       "    <tr>\n",
       "      <th>199</th>\n",
       "      <td>40</td>\n",
       "      <td>F</td>\n",
       "      <td>LOW</td>\n",
       "      <td>NORMAL</td>\n",
       "      <td>11.349</td>\n",
       "      <td>drugX</td>\n",
       "    </tr>\n",
       "  </tbody>\n",
       "</table>\n",
       "<p>200 rows × 6 columns</p>\n",
       "</div>"
      ],
      "text/plain": [
       "     Age Sex      BP Cholesterol  Na_to_K   Drug\n",
       "0     23   F    HIGH        HIGH   25.355  DrugY\n",
       "1     47   M     LOW        HIGH   13.093  drugC\n",
       "2     47   M     LOW        HIGH   10.114  drugC\n",
       "3     28   F  NORMAL        HIGH    7.798  drugX\n",
       "4     61   F     LOW        HIGH   18.043  DrugY\n",
       "..   ...  ..     ...         ...      ...    ...\n",
       "195   56   F     LOW        HIGH   11.567  drugC\n",
       "196   16   M     LOW        HIGH   12.006  drugC\n",
       "197   52   M  NORMAL        HIGH    9.894  drugX\n",
       "198   23   M  NORMAL      NORMAL   14.020  drugX\n",
       "199   40   F     LOW      NORMAL   11.349  drugX\n",
       "\n",
       "[200 rows x 6 columns]"
      ]
     },
     "execution_count": 250,
     "metadata": {},
     "output_type": "execute_result"
    }
   ],
   "source": [
    "data"
   ]
  },
  {
   "cell_type": "markdown",
   "id": "abed67a6",
   "metadata": {},
   "source": [
    "<div id='2.3' style='background-color:;text-align:centre;padding:5px;border-radius:35px'>\n",
    "    <h2 style='color:#003f5c;font-family:Impact'> One Hot Encoding </h2>\n",
    "</div>"
   ]
  },
  {
   "cell_type": "code",
   "execution_count": 251,
   "id": "589cf1a8",
   "metadata": {},
   "outputs": [],
   "source": [
    "data['Sex']=pd.get_dummies(data['Sex'],drop_first=True)"
   ]
  },
  {
   "cell_type": "code",
   "execution_count": 252,
   "id": "8eea9c16",
   "metadata": {},
   "outputs": [],
   "source": [
    "mapping = {'LOW': 0, 'NORMAL': 1, 'HIGH': 2}\n",
    "data['BP'] = data['BP'].replace(mapping)\n",
    "data['Cholesterol']=pd.get_dummies(data['Cholesterol'],drop_first=True)\n"
   ]
  },
  {
   "cell_type": "code",
   "execution_count": 253,
   "id": "68231458",
   "metadata": {},
   "outputs": [
    {
     "data": {
      "text/html": [
       "<div>\n",
       "<style scoped>\n",
       "    .dataframe tbody tr th:only-of-type {\n",
       "        vertical-align: middle;\n",
       "    }\n",
       "\n",
       "    .dataframe tbody tr th {\n",
       "        vertical-align: top;\n",
       "    }\n",
       "\n",
       "    .dataframe thead th {\n",
       "        text-align: right;\n",
       "    }\n",
       "</style>\n",
       "<table border=\"1\" class=\"dataframe\">\n",
       "  <thead>\n",
       "    <tr style=\"text-align: right;\">\n",
       "      <th></th>\n",
       "      <th>Age</th>\n",
       "      <th>Sex</th>\n",
       "      <th>BP</th>\n",
       "      <th>Cholesterol</th>\n",
       "      <th>Na_to_K</th>\n",
       "      <th>Drug</th>\n",
       "    </tr>\n",
       "  </thead>\n",
       "  <tbody>\n",
       "    <tr>\n",
       "      <th>0</th>\n",
       "      <td>23</td>\n",
       "      <td>0</td>\n",
       "      <td>2</td>\n",
       "      <td>0</td>\n",
       "      <td>25.355</td>\n",
       "      <td>DrugY</td>\n",
       "    </tr>\n",
       "    <tr>\n",
       "      <th>1</th>\n",
       "      <td>47</td>\n",
       "      <td>1</td>\n",
       "      <td>0</td>\n",
       "      <td>0</td>\n",
       "      <td>13.093</td>\n",
       "      <td>drugC</td>\n",
       "    </tr>\n",
       "    <tr>\n",
       "      <th>2</th>\n",
       "      <td>47</td>\n",
       "      <td>1</td>\n",
       "      <td>0</td>\n",
       "      <td>0</td>\n",
       "      <td>10.114</td>\n",
       "      <td>drugC</td>\n",
       "    </tr>\n",
       "    <tr>\n",
       "      <th>3</th>\n",
       "      <td>28</td>\n",
       "      <td>0</td>\n",
       "      <td>1</td>\n",
       "      <td>0</td>\n",
       "      <td>7.798</td>\n",
       "      <td>drugX</td>\n",
       "    </tr>\n",
       "    <tr>\n",
       "      <th>4</th>\n",
       "      <td>61</td>\n",
       "      <td>0</td>\n",
       "      <td>0</td>\n",
       "      <td>0</td>\n",
       "      <td>18.043</td>\n",
       "      <td>DrugY</td>\n",
       "    </tr>\n",
       "    <tr>\n",
       "      <th>...</th>\n",
       "      <td>...</td>\n",
       "      <td>...</td>\n",
       "      <td>...</td>\n",
       "      <td>...</td>\n",
       "      <td>...</td>\n",
       "      <td>...</td>\n",
       "    </tr>\n",
       "    <tr>\n",
       "      <th>195</th>\n",
       "      <td>56</td>\n",
       "      <td>0</td>\n",
       "      <td>0</td>\n",
       "      <td>0</td>\n",
       "      <td>11.567</td>\n",
       "      <td>drugC</td>\n",
       "    </tr>\n",
       "    <tr>\n",
       "      <th>196</th>\n",
       "      <td>16</td>\n",
       "      <td>1</td>\n",
       "      <td>0</td>\n",
       "      <td>0</td>\n",
       "      <td>12.006</td>\n",
       "      <td>drugC</td>\n",
       "    </tr>\n",
       "    <tr>\n",
       "      <th>197</th>\n",
       "      <td>52</td>\n",
       "      <td>1</td>\n",
       "      <td>1</td>\n",
       "      <td>0</td>\n",
       "      <td>9.894</td>\n",
       "      <td>drugX</td>\n",
       "    </tr>\n",
       "    <tr>\n",
       "      <th>198</th>\n",
       "      <td>23</td>\n",
       "      <td>1</td>\n",
       "      <td>1</td>\n",
       "      <td>1</td>\n",
       "      <td>14.020</td>\n",
       "      <td>drugX</td>\n",
       "    </tr>\n",
       "    <tr>\n",
       "      <th>199</th>\n",
       "      <td>40</td>\n",
       "      <td>0</td>\n",
       "      <td>0</td>\n",
       "      <td>1</td>\n",
       "      <td>11.349</td>\n",
       "      <td>drugX</td>\n",
       "    </tr>\n",
       "  </tbody>\n",
       "</table>\n",
       "<p>200 rows × 6 columns</p>\n",
       "</div>"
      ],
      "text/plain": [
       "     Age  Sex  BP  Cholesterol  Na_to_K   Drug\n",
       "0     23    0   2            0   25.355  DrugY\n",
       "1     47    1   0            0   13.093  drugC\n",
       "2     47    1   0            0   10.114  drugC\n",
       "3     28    0   1            0    7.798  drugX\n",
       "4     61    0   0            0   18.043  DrugY\n",
       "..   ...  ...  ..          ...      ...    ...\n",
       "195   56    0   0            0   11.567  drugC\n",
       "196   16    1   0            0   12.006  drugC\n",
       "197   52    1   1            0    9.894  drugX\n",
       "198   23    1   1            1   14.020  drugX\n",
       "199   40    0   0            1   11.349  drugX\n",
       "\n",
       "[200 rows x 6 columns]"
      ]
     },
     "execution_count": 253,
     "metadata": {},
     "output_type": "execute_result"
    }
   ],
   "source": [
    "data"
   ]
  },
  {
   "cell_type": "code",
   "execution_count": 254,
   "id": "fe710b34",
   "metadata": {},
   "outputs": [
    {
     "data": {
      "text/html": [
       "<div>\n",
       "<style scoped>\n",
       "    .dataframe tbody tr th:only-of-type {\n",
       "        vertical-align: middle;\n",
       "    }\n",
       "\n",
       "    .dataframe tbody tr th {\n",
       "        vertical-align: top;\n",
       "    }\n",
       "\n",
       "    .dataframe thead th {\n",
       "        text-align: right;\n",
       "    }\n",
       "</style>\n",
       "<table border=\"1\" class=\"dataframe\">\n",
       "  <thead>\n",
       "    <tr style=\"text-align: right;\">\n",
       "      <th></th>\n",
       "      <th>Age</th>\n",
       "      <th>Sex</th>\n",
       "      <th>BP</th>\n",
       "      <th>Cholesterol</th>\n",
       "      <th>Na_to_K</th>\n",
       "    </tr>\n",
       "  </thead>\n",
       "  <tbody>\n",
       "    <tr>\n",
       "      <th>0</th>\n",
       "      <td>23</td>\n",
       "      <td>0</td>\n",
       "      <td>2</td>\n",
       "      <td>0</td>\n",
       "      <td>25.355</td>\n",
       "    </tr>\n",
       "    <tr>\n",
       "      <th>1</th>\n",
       "      <td>47</td>\n",
       "      <td>1</td>\n",
       "      <td>0</td>\n",
       "      <td>0</td>\n",
       "      <td>13.093</td>\n",
       "    </tr>\n",
       "    <tr>\n",
       "      <th>2</th>\n",
       "      <td>47</td>\n",
       "      <td>1</td>\n",
       "      <td>0</td>\n",
       "      <td>0</td>\n",
       "      <td>10.114</td>\n",
       "    </tr>\n",
       "    <tr>\n",
       "      <th>3</th>\n",
       "      <td>28</td>\n",
       "      <td>0</td>\n",
       "      <td>1</td>\n",
       "      <td>0</td>\n",
       "      <td>7.798</td>\n",
       "    </tr>\n",
       "    <tr>\n",
       "      <th>4</th>\n",
       "      <td>61</td>\n",
       "      <td>0</td>\n",
       "      <td>0</td>\n",
       "      <td>0</td>\n",
       "      <td>18.043</td>\n",
       "    </tr>\n",
       "    <tr>\n",
       "      <th>...</th>\n",
       "      <td>...</td>\n",
       "      <td>...</td>\n",
       "      <td>...</td>\n",
       "      <td>...</td>\n",
       "      <td>...</td>\n",
       "    </tr>\n",
       "    <tr>\n",
       "      <th>195</th>\n",
       "      <td>56</td>\n",
       "      <td>0</td>\n",
       "      <td>0</td>\n",
       "      <td>0</td>\n",
       "      <td>11.567</td>\n",
       "    </tr>\n",
       "    <tr>\n",
       "      <th>196</th>\n",
       "      <td>16</td>\n",
       "      <td>1</td>\n",
       "      <td>0</td>\n",
       "      <td>0</td>\n",
       "      <td>12.006</td>\n",
       "    </tr>\n",
       "    <tr>\n",
       "      <th>197</th>\n",
       "      <td>52</td>\n",
       "      <td>1</td>\n",
       "      <td>1</td>\n",
       "      <td>0</td>\n",
       "      <td>9.894</td>\n",
       "    </tr>\n",
       "    <tr>\n",
       "      <th>198</th>\n",
       "      <td>23</td>\n",
       "      <td>1</td>\n",
       "      <td>1</td>\n",
       "      <td>1</td>\n",
       "      <td>14.020</td>\n",
       "    </tr>\n",
       "    <tr>\n",
       "      <th>199</th>\n",
       "      <td>40</td>\n",
       "      <td>0</td>\n",
       "      <td>0</td>\n",
       "      <td>1</td>\n",
       "      <td>11.349</td>\n",
       "    </tr>\n",
       "  </tbody>\n",
       "</table>\n",
       "<p>200 rows × 5 columns</p>\n",
       "</div>"
      ],
      "text/plain": [
       "     Age  Sex  BP  Cholesterol  Na_to_K\n",
       "0     23    0   2            0   25.355\n",
       "1     47    1   0            0   13.093\n",
       "2     47    1   0            0   10.114\n",
       "3     28    0   1            0    7.798\n",
       "4     61    0   0            0   18.043\n",
       "..   ...  ...  ..          ...      ...\n",
       "195   56    0   0            0   11.567\n",
       "196   16    1   0            0   12.006\n",
       "197   52    1   1            0    9.894\n",
       "198   23    1   1            1   14.020\n",
       "199   40    0   0            1   11.349\n",
       "\n",
       "[200 rows x 5 columns]"
      ]
     },
     "execution_count": 254,
     "metadata": {},
     "output_type": "execute_result"
    }
   ],
   "source": [
    "x=data.iloc[:,0:5]\n",
    "x"
   ]
  },
  {
   "cell_type": "code",
   "execution_count": 255,
   "id": "9bf36b4a",
   "metadata": {},
   "outputs": [
    {
     "data": {
      "text/plain": [
       "0      DrugY\n",
       "1      drugC\n",
       "2      drugC\n",
       "3      drugX\n",
       "4      DrugY\n",
       "       ...  \n",
       "195    drugC\n",
       "196    drugC\n",
       "197    drugX\n",
       "198    drugX\n",
       "199    drugX\n",
       "Name: Drug, Length: 200, dtype: object"
      ]
     },
     "execution_count": 255,
     "metadata": {},
     "output_type": "execute_result"
    }
   ],
   "source": [
    "y=data['Drug']\n",
    "y"
   ]
  },
  {
   "cell_type": "markdown",
   "id": "4852b106",
   "metadata": {},
   "source": [
    "<div id='2.3' style='background-color:;text-align:centre;padding:5px;border-radius:35px'>\n",
    "    <h2 style='color:#003f5c;font-family:Impact'> Train_Test_Split </h2>\n",
    "</div>"
   ]
  },
  {
   "cell_type": "code",
   "execution_count": 256,
   "id": "4eb3cfdd",
   "metadata": {},
   "outputs": [],
   "source": [
    "from sklearn.model_selection import train_test_split\n",
    "x_train,x_test,y_train,y_test=train_test_split(x,y,test_size=0.3,random_state=0)"
   ]
  },
  {
   "cell_type": "code",
   "execution_count": 257,
   "id": "0d6b596c",
   "metadata": {},
   "outputs": [
    {
     "data": {
      "text/html": [
       "<div>\n",
       "<style scoped>\n",
       "    .dataframe tbody tr th:only-of-type {\n",
       "        vertical-align: middle;\n",
       "    }\n",
       "\n",
       "    .dataframe tbody tr th {\n",
       "        vertical-align: top;\n",
       "    }\n",
       "\n",
       "    .dataframe thead th {\n",
       "        text-align: right;\n",
       "    }\n",
       "</style>\n",
       "<table border=\"1\" class=\"dataframe\">\n",
       "  <thead>\n",
       "    <tr style=\"text-align: right;\">\n",
       "      <th></th>\n",
       "      <th>Age</th>\n",
       "      <th>Sex</th>\n",
       "      <th>BP</th>\n",
       "      <th>Cholesterol</th>\n",
       "      <th>Na_to_K</th>\n",
       "    </tr>\n",
       "  </thead>\n",
       "  <tbody>\n",
       "    <tr>\n",
       "      <th>131</th>\n",
       "      <td>52</td>\n",
       "      <td>1</td>\n",
       "      <td>0</td>\n",
       "      <td>1</td>\n",
       "      <td>32.922</td>\n",
       "    </tr>\n",
       "    <tr>\n",
       "      <th>96</th>\n",
       "      <td>58</td>\n",
       "      <td>0</td>\n",
       "      <td>0</td>\n",
       "      <td>0</td>\n",
       "      <td>38.247</td>\n",
       "    </tr>\n",
       "    <tr>\n",
       "      <th>181</th>\n",
       "      <td>59</td>\n",
       "      <td>0</td>\n",
       "      <td>1</td>\n",
       "      <td>0</td>\n",
       "      <td>13.884</td>\n",
       "    </tr>\n",
       "    <tr>\n",
       "      <th>19</th>\n",
       "      <td>32</td>\n",
       "      <td>0</td>\n",
       "      <td>2</td>\n",
       "      <td>1</td>\n",
       "      <td>25.974</td>\n",
       "    </tr>\n",
       "    <tr>\n",
       "      <th>153</th>\n",
       "      <td>72</td>\n",
       "      <td>0</td>\n",
       "      <td>0</td>\n",
       "      <td>1</td>\n",
       "      <td>14.642</td>\n",
       "    </tr>\n",
       "    <tr>\n",
       "      <th>...</th>\n",
       "      <td>...</td>\n",
       "      <td>...</td>\n",
       "      <td>...</td>\n",
       "      <td>...</td>\n",
       "      <td>...</td>\n",
       "    </tr>\n",
       "    <tr>\n",
       "      <th>67</th>\n",
       "      <td>17</td>\n",
       "      <td>1</td>\n",
       "      <td>1</td>\n",
       "      <td>1</td>\n",
       "      <td>10.832</td>\n",
       "    </tr>\n",
       "    <tr>\n",
       "      <th>192</th>\n",
       "      <td>72</td>\n",
       "      <td>1</td>\n",
       "      <td>0</td>\n",
       "      <td>0</td>\n",
       "      <td>16.310</td>\n",
       "    </tr>\n",
       "    <tr>\n",
       "      <th>117</th>\n",
       "      <td>40</td>\n",
       "      <td>0</td>\n",
       "      <td>1</td>\n",
       "      <td>0</td>\n",
       "      <td>10.103</td>\n",
       "    </tr>\n",
       "    <tr>\n",
       "      <th>47</th>\n",
       "      <td>68</td>\n",
       "      <td>1</td>\n",
       "      <td>0</td>\n",
       "      <td>0</td>\n",
       "      <td>10.291</td>\n",
       "    </tr>\n",
       "    <tr>\n",
       "      <th>172</th>\n",
       "      <td>39</td>\n",
       "      <td>0</td>\n",
       "      <td>1</td>\n",
       "      <td>1</td>\n",
       "      <td>17.225</td>\n",
       "    </tr>\n",
       "  </tbody>\n",
       "</table>\n",
       "<p>140 rows × 5 columns</p>\n",
       "</div>"
      ],
      "text/plain": [
       "     Age  Sex  BP  Cholesterol  Na_to_K\n",
       "131   52    1   0            1   32.922\n",
       "96    58    0   0            0   38.247\n",
       "181   59    0   1            0   13.884\n",
       "19    32    0   2            1   25.974\n",
       "153   72    0   0            1   14.642\n",
       "..   ...  ...  ..          ...      ...\n",
       "67    17    1   1            1   10.832\n",
       "192   72    1   0            0   16.310\n",
       "117   40    0   1            0   10.103\n",
       "47    68    1   0            0   10.291\n",
       "172   39    0   1            1   17.225\n",
       "\n",
       "[140 rows x 5 columns]"
      ]
     },
     "execution_count": 257,
     "metadata": {},
     "output_type": "execute_result"
    }
   ],
   "source": [
    "x_train"
   ]
  },
  {
   "cell_type": "code",
   "execution_count": 258,
   "id": "338233ee",
   "metadata": {},
   "outputs": [
    {
     "data": {
      "text/html": [
       "<div>\n",
       "<style scoped>\n",
       "    .dataframe tbody tr th:only-of-type {\n",
       "        vertical-align: middle;\n",
       "    }\n",
       "\n",
       "    .dataframe tbody tr th {\n",
       "        vertical-align: top;\n",
       "    }\n",
       "\n",
       "    .dataframe thead th {\n",
       "        text-align: right;\n",
       "    }\n",
       "</style>\n",
       "<table border=\"1\" class=\"dataframe\">\n",
       "  <thead>\n",
       "    <tr style=\"text-align: right;\">\n",
       "      <th></th>\n",
       "      <th>Age</th>\n",
       "      <th>Sex</th>\n",
       "      <th>BP</th>\n",
       "      <th>Cholesterol</th>\n",
       "      <th>Na_to_K</th>\n",
       "    </tr>\n",
       "  </thead>\n",
       "  <tbody>\n",
       "    <tr>\n",
       "      <th>18</th>\n",
       "      <td>23</td>\n",
       "      <td>1</td>\n",
       "      <td>0</td>\n",
       "      <td>0</td>\n",
       "      <td>7.298</td>\n",
       "    </tr>\n",
       "    <tr>\n",
       "      <th>170</th>\n",
       "      <td>28</td>\n",
       "      <td>0</td>\n",
       "      <td>1</td>\n",
       "      <td>0</td>\n",
       "      <td>12.879</td>\n",
       "    </tr>\n",
       "    <tr>\n",
       "      <th>107</th>\n",
       "      <td>42</td>\n",
       "      <td>1</td>\n",
       "      <td>0</td>\n",
       "      <td>0</td>\n",
       "      <td>20.013</td>\n",
       "    </tr>\n",
       "    <tr>\n",
       "      <th>98</th>\n",
       "      <td>20</td>\n",
       "      <td>1</td>\n",
       "      <td>2</td>\n",
       "      <td>1</td>\n",
       "      <td>35.639</td>\n",
       "    </tr>\n",
       "    <tr>\n",
       "      <th>177</th>\n",
       "      <td>25</td>\n",
       "      <td>1</td>\n",
       "      <td>1</td>\n",
       "      <td>0</td>\n",
       "      <td>19.011</td>\n",
       "    </tr>\n",
       "    <tr>\n",
       "      <th>182</th>\n",
       "      <td>20</td>\n",
       "      <td>0</td>\n",
       "      <td>0</td>\n",
       "      <td>1</td>\n",
       "      <td>11.686</td>\n",
       "    </tr>\n",
       "    <tr>\n",
       "      <th>5</th>\n",
       "      <td>22</td>\n",
       "      <td>0</td>\n",
       "      <td>1</td>\n",
       "      <td>0</td>\n",
       "      <td>8.607</td>\n",
       "    </tr>\n",
       "    <tr>\n",
       "      <th>146</th>\n",
       "      <td>37</td>\n",
       "      <td>0</td>\n",
       "      <td>0</td>\n",
       "      <td>1</td>\n",
       "      <td>12.006</td>\n",
       "    </tr>\n",
       "    <tr>\n",
       "      <th>12</th>\n",
       "      <td>43</td>\n",
       "      <td>1</td>\n",
       "      <td>0</td>\n",
       "      <td>0</td>\n",
       "      <td>15.376</td>\n",
       "    </tr>\n",
       "    <tr>\n",
       "      <th>152</th>\n",
       "      <td>55</td>\n",
       "      <td>1</td>\n",
       "      <td>1</td>\n",
       "      <td>1</td>\n",
       "      <td>7.261</td>\n",
       "    </tr>\n",
       "    <tr>\n",
       "      <th>61</th>\n",
       "      <td>24</td>\n",
       "      <td>1</td>\n",
       "      <td>2</td>\n",
       "      <td>1</td>\n",
       "      <td>9.475</td>\n",
       "    </tr>\n",
       "    <tr>\n",
       "      <th>125</th>\n",
       "      <td>19</td>\n",
       "      <td>0</td>\n",
       "      <td>2</td>\n",
       "      <td>1</td>\n",
       "      <td>25.969</td>\n",
       "    </tr>\n",
       "    <tr>\n",
       "      <th>180</th>\n",
       "      <td>22</td>\n",
       "      <td>0</td>\n",
       "      <td>2</td>\n",
       "      <td>1</td>\n",
       "      <td>22.818</td>\n",
       "    </tr>\n",
       "    <tr>\n",
       "      <th>154</th>\n",
       "      <td>37</td>\n",
       "      <td>1</td>\n",
       "      <td>0</td>\n",
       "      <td>1</td>\n",
       "      <td>16.724</td>\n",
       "    </tr>\n",
       "    <tr>\n",
       "      <th>80</th>\n",
       "      <td>60</td>\n",
       "      <td>1</td>\n",
       "      <td>2</td>\n",
       "      <td>0</td>\n",
       "      <td>13.934</td>\n",
       "    </tr>\n",
       "    <tr>\n",
       "      <th>7</th>\n",
       "      <td>41</td>\n",
       "      <td>1</td>\n",
       "      <td>0</td>\n",
       "      <td>0</td>\n",
       "      <td>11.037</td>\n",
       "    </tr>\n",
       "    <tr>\n",
       "      <th>33</th>\n",
       "      <td>65</td>\n",
       "      <td>0</td>\n",
       "      <td>2</td>\n",
       "      <td>1</td>\n",
       "      <td>31.876</td>\n",
       "    </tr>\n",
       "    <tr>\n",
       "      <th>130</th>\n",
       "      <td>70</td>\n",
       "      <td>0</td>\n",
       "      <td>1</td>\n",
       "      <td>0</td>\n",
       "      <td>20.489</td>\n",
       "    </tr>\n",
       "    <tr>\n",
       "      <th>37</th>\n",
       "      <td>39</td>\n",
       "      <td>1</td>\n",
       "      <td>0</td>\n",
       "      <td>1</td>\n",
       "      <td>13.938</td>\n",
       "    </tr>\n",
       "    <tr>\n",
       "      <th>74</th>\n",
       "      <td>31</td>\n",
       "      <td>1</td>\n",
       "      <td>2</td>\n",
       "      <td>1</td>\n",
       "      <td>17.069</td>\n",
       "    </tr>\n",
       "    <tr>\n",
       "      <th>183</th>\n",
       "      <td>36</td>\n",
       "      <td>0</td>\n",
       "      <td>2</td>\n",
       "      <td>1</td>\n",
       "      <td>15.490</td>\n",
       "    </tr>\n",
       "    <tr>\n",
       "      <th>145</th>\n",
       "      <td>61</td>\n",
       "      <td>1</td>\n",
       "      <td>1</td>\n",
       "      <td>0</td>\n",
       "      <td>9.443</td>\n",
       "    </tr>\n",
       "    <tr>\n",
       "      <th>45</th>\n",
       "      <td>66</td>\n",
       "      <td>0</td>\n",
       "      <td>1</td>\n",
       "      <td>1</td>\n",
       "      <td>8.107</td>\n",
       "    </tr>\n",
       "    <tr>\n",
       "      <th>159</th>\n",
       "      <td>34</td>\n",
       "      <td>0</td>\n",
       "      <td>0</td>\n",
       "      <td>1</td>\n",
       "      <td>12.923</td>\n",
       "    </tr>\n",
       "    <tr>\n",
       "      <th>60</th>\n",
       "      <td>38</td>\n",
       "      <td>0</td>\n",
       "      <td>0</td>\n",
       "      <td>1</td>\n",
       "      <td>29.875</td>\n",
       "    </tr>\n",
       "    <tr>\n",
       "      <th>123</th>\n",
       "      <td>36</td>\n",
       "      <td>0</td>\n",
       "      <td>1</td>\n",
       "      <td>0</td>\n",
       "      <td>16.753</td>\n",
       "    </tr>\n",
       "    <tr>\n",
       "      <th>179</th>\n",
       "      <td>67</td>\n",
       "      <td>0</td>\n",
       "      <td>1</td>\n",
       "      <td>0</td>\n",
       "      <td>15.891</td>\n",
       "    </tr>\n",
       "    <tr>\n",
       "      <th>185</th>\n",
       "      <td>57</td>\n",
       "      <td>0</td>\n",
       "      <td>1</td>\n",
       "      <td>1</td>\n",
       "      <td>25.893</td>\n",
       "    </tr>\n",
       "    <tr>\n",
       "      <th>122</th>\n",
       "      <td>34</td>\n",
       "      <td>1</td>\n",
       "      <td>1</td>\n",
       "      <td>0</td>\n",
       "      <td>22.456</td>\n",
       "    </tr>\n",
       "    <tr>\n",
       "      <th>44</th>\n",
       "      <td>50</td>\n",
       "      <td>0</td>\n",
       "      <td>1</td>\n",
       "      <td>1</td>\n",
       "      <td>12.295</td>\n",
       "    </tr>\n",
       "    <tr>\n",
       "      <th>16</th>\n",
       "      <td>69</td>\n",
       "      <td>1</td>\n",
       "      <td>0</td>\n",
       "      <td>1</td>\n",
       "      <td>11.455</td>\n",
       "    </tr>\n",
       "    <tr>\n",
       "      <th>55</th>\n",
       "      <td>26</td>\n",
       "      <td>0</td>\n",
       "      <td>0</td>\n",
       "      <td>0</td>\n",
       "      <td>14.160</td>\n",
       "    </tr>\n",
       "    <tr>\n",
       "      <th>150</th>\n",
       "      <td>49</td>\n",
       "      <td>1</td>\n",
       "      <td>2</td>\n",
       "      <td>1</td>\n",
       "      <td>8.700</td>\n",
       "    </tr>\n",
       "    <tr>\n",
       "      <th>111</th>\n",
       "      <td>47</td>\n",
       "      <td>0</td>\n",
       "      <td>1</td>\n",
       "      <td>1</td>\n",
       "      <td>6.683</td>\n",
       "    </tr>\n",
       "    <tr>\n",
       "      <th>22</th>\n",
       "      <td>47</td>\n",
       "      <td>1</td>\n",
       "      <td>0</td>\n",
       "      <td>1</td>\n",
       "      <td>30.568</td>\n",
       "    </tr>\n",
       "    <tr>\n",
       "      <th>189</th>\n",
       "      <td>64</td>\n",
       "      <td>1</td>\n",
       "      <td>2</td>\n",
       "      <td>1</td>\n",
       "      <td>20.932</td>\n",
       "    </tr>\n",
       "    <tr>\n",
       "      <th>129</th>\n",
       "      <td>32</td>\n",
       "      <td>0</td>\n",
       "      <td>1</td>\n",
       "      <td>0</td>\n",
       "      <td>7.477</td>\n",
       "    </tr>\n",
       "    <tr>\n",
       "      <th>4</th>\n",
       "      <td>61</td>\n",
       "      <td>0</td>\n",
       "      <td>0</td>\n",
       "      <td>0</td>\n",
       "      <td>18.043</td>\n",
       "    </tr>\n",
       "    <tr>\n",
       "      <th>83</th>\n",
       "      <td>38</td>\n",
       "      <td>0</td>\n",
       "      <td>2</td>\n",
       "      <td>1</td>\n",
       "      <td>11.326</td>\n",
       "    </tr>\n",
       "    <tr>\n",
       "      <th>106</th>\n",
       "      <td>22</td>\n",
       "      <td>1</td>\n",
       "      <td>1</td>\n",
       "      <td>0</td>\n",
       "      <td>11.953</td>\n",
       "    </tr>\n",
       "    <tr>\n",
       "      <th>134</th>\n",
       "      <td>42</td>\n",
       "      <td>0</td>\n",
       "      <td>2</td>\n",
       "      <td>0</td>\n",
       "      <td>21.036</td>\n",
       "    </tr>\n",
       "    <tr>\n",
       "      <th>66</th>\n",
       "      <td>29</td>\n",
       "      <td>1</td>\n",
       "      <td>2</td>\n",
       "      <td>0</td>\n",
       "      <td>12.856</td>\n",
       "    </tr>\n",
       "    <tr>\n",
       "      <th>26</th>\n",
       "      <td>31</td>\n",
       "      <td>1</td>\n",
       "      <td>2</td>\n",
       "      <td>0</td>\n",
       "      <td>30.366</td>\n",
       "    </tr>\n",
       "    <tr>\n",
       "      <th>113</th>\n",
       "      <td>65</td>\n",
       "      <td>0</td>\n",
       "      <td>0</td>\n",
       "      <td>1</td>\n",
       "      <td>13.769</td>\n",
       "    </tr>\n",
       "    <tr>\n",
       "      <th>168</th>\n",
       "      <td>51</td>\n",
       "      <td>0</td>\n",
       "      <td>0</td>\n",
       "      <td>1</td>\n",
       "      <td>23.003</td>\n",
       "    </tr>\n",
       "    <tr>\n",
       "      <th>63</th>\n",
       "      <td>45</td>\n",
       "      <td>1</td>\n",
       "      <td>0</td>\n",
       "      <td>1</td>\n",
       "      <td>8.370</td>\n",
       "    </tr>\n",
       "    <tr>\n",
       "      <th>8</th>\n",
       "      <td>60</td>\n",
       "      <td>1</td>\n",
       "      <td>1</td>\n",
       "      <td>0</td>\n",
       "      <td>15.171</td>\n",
       "    </tr>\n",
       "    <tr>\n",
       "      <th>75</th>\n",
       "      <td>26</td>\n",
       "      <td>1</td>\n",
       "      <td>0</td>\n",
       "      <td>1</td>\n",
       "      <td>20.909</td>\n",
       "    </tr>\n",
       "    <tr>\n",
       "      <th>118</th>\n",
       "      <td>32</td>\n",
       "      <td>0</td>\n",
       "      <td>2</td>\n",
       "      <td>1</td>\n",
       "      <td>10.292</td>\n",
       "    </tr>\n",
       "    <tr>\n",
       "      <th>143</th>\n",
       "      <td>74</td>\n",
       "      <td>1</td>\n",
       "      <td>2</td>\n",
       "      <td>1</td>\n",
       "      <td>15.436</td>\n",
       "    </tr>\n",
       "    <tr>\n",
       "      <th>71</th>\n",
       "      <td>28</td>\n",
       "      <td>0</td>\n",
       "      <td>1</td>\n",
       "      <td>0</td>\n",
       "      <td>19.675</td>\n",
       "    </tr>\n",
       "    <tr>\n",
       "      <th>124</th>\n",
       "      <td>53</td>\n",
       "      <td>0</td>\n",
       "      <td>2</td>\n",
       "      <td>1</td>\n",
       "      <td>12.495</td>\n",
       "    </tr>\n",
       "    <tr>\n",
       "      <th>184</th>\n",
       "      <td>18</td>\n",
       "      <td>0</td>\n",
       "      <td>2</td>\n",
       "      <td>0</td>\n",
       "      <td>37.188</td>\n",
       "    </tr>\n",
       "    <tr>\n",
       "      <th>97</th>\n",
       "      <td>56</td>\n",
       "      <td>0</td>\n",
       "      <td>2</td>\n",
       "      <td>0</td>\n",
       "      <td>25.395</td>\n",
       "    </tr>\n",
       "    <tr>\n",
       "      <th>149</th>\n",
       "      <td>22</td>\n",
       "      <td>1</td>\n",
       "      <td>0</td>\n",
       "      <td>0</td>\n",
       "      <td>8.151</td>\n",
       "    </tr>\n",
       "    <tr>\n",
       "      <th>24</th>\n",
       "      <td>33</td>\n",
       "      <td>0</td>\n",
       "      <td>0</td>\n",
       "      <td>0</td>\n",
       "      <td>33.486</td>\n",
       "    </tr>\n",
       "    <tr>\n",
       "      <th>30</th>\n",
       "      <td>18</td>\n",
       "      <td>0</td>\n",
       "      <td>1</td>\n",
       "      <td>1</td>\n",
       "      <td>8.750</td>\n",
       "    </tr>\n",
       "    <tr>\n",
       "      <th>160</th>\n",
       "      <td>30</td>\n",
       "      <td>0</td>\n",
       "      <td>1</td>\n",
       "      <td>0</td>\n",
       "      <td>10.443</td>\n",
       "    </tr>\n",
       "    <tr>\n",
       "      <th>40</th>\n",
       "      <td>73</td>\n",
       "      <td>0</td>\n",
       "      <td>1</td>\n",
       "      <td>0</td>\n",
       "      <td>19.221</td>\n",
       "    </tr>\n",
       "    <tr>\n",
       "      <th>56</th>\n",
       "      <td>65</td>\n",
       "      <td>1</td>\n",
       "      <td>2</td>\n",
       "      <td>1</td>\n",
       "      <td>11.340</td>\n",
       "    </tr>\n",
       "  </tbody>\n",
       "</table>\n",
       "</div>"
      ],
      "text/plain": [
       "     Age  Sex  BP  Cholesterol  Na_to_K\n",
       "18    23    1   0            0    7.298\n",
       "170   28    0   1            0   12.879\n",
       "107   42    1   0            0   20.013\n",
       "98    20    1   2            1   35.639\n",
       "177   25    1   1            0   19.011\n",
       "182   20    0   0            1   11.686\n",
       "5     22    0   1            0    8.607\n",
       "146   37    0   0            1   12.006\n",
       "12    43    1   0            0   15.376\n",
       "152   55    1   1            1    7.261\n",
       "61    24    1   2            1    9.475\n",
       "125   19    0   2            1   25.969\n",
       "180   22    0   2            1   22.818\n",
       "154   37    1   0            1   16.724\n",
       "80    60    1   2            0   13.934\n",
       "7     41    1   0            0   11.037\n",
       "33    65    0   2            1   31.876\n",
       "130   70    0   1            0   20.489\n",
       "37    39    1   0            1   13.938\n",
       "74    31    1   2            1   17.069\n",
       "183   36    0   2            1   15.490\n",
       "145   61    1   1            0    9.443\n",
       "45    66    0   1            1    8.107\n",
       "159   34    0   0            1   12.923\n",
       "60    38    0   0            1   29.875\n",
       "123   36    0   1            0   16.753\n",
       "179   67    0   1            0   15.891\n",
       "185   57    0   1            1   25.893\n",
       "122   34    1   1            0   22.456\n",
       "44    50    0   1            1   12.295\n",
       "16    69    1   0            1   11.455\n",
       "55    26    0   0            0   14.160\n",
       "150   49    1   2            1    8.700\n",
       "111   47    0   1            1    6.683\n",
       "22    47    1   0            1   30.568\n",
       "189   64    1   2            1   20.932\n",
       "129   32    0   1            0    7.477\n",
       "4     61    0   0            0   18.043\n",
       "83    38    0   2            1   11.326\n",
       "106   22    1   1            0   11.953\n",
       "134   42    0   2            0   21.036\n",
       "66    29    1   2            0   12.856\n",
       "26    31    1   2            0   30.366\n",
       "113   65    0   0            1   13.769\n",
       "168   51    0   0            1   23.003\n",
       "63    45    1   0            1    8.370\n",
       "8     60    1   1            0   15.171\n",
       "75    26    1   0            1   20.909\n",
       "118   32    0   2            1   10.292\n",
       "143   74    1   2            1   15.436\n",
       "71    28    0   1            0   19.675\n",
       "124   53    0   2            1   12.495\n",
       "184   18    0   2            0   37.188\n",
       "97    56    0   2            0   25.395\n",
       "149   22    1   0            0    8.151\n",
       "24    33    0   0            0   33.486\n",
       "30    18    0   1            1    8.750\n",
       "160   30    0   1            0   10.443\n",
       "40    73    0   1            0   19.221\n",
       "56    65    1   2            1   11.340"
      ]
     },
     "execution_count": 258,
     "metadata": {},
     "output_type": "execute_result"
    }
   ],
   "source": [
    "x_test"
   ]
  },
  {
   "cell_type": "code",
   "execution_count": 259,
   "id": "c6077e65",
   "metadata": {},
   "outputs": [
    {
     "data": {
      "text/plain": [
       "Drug \n",
       "DrugY    61\n",
       "drugX    36\n",
       "drugA    18\n",
       "drugB    13\n",
       "drugC    12\n",
       "dtype: int64"
      ]
     },
     "execution_count": 259,
     "metadata": {},
     "output_type": "execute_result"
    }
   ],
   "source": [
    "y_train.to_frame().value_counts()"
   ]
  },
  {
   "cell_type": "code",
   "execution_count": 260,
   "id": "c5e7b6db",
   "metadata": {},
   "outputs": [
    {
     "data": {
      "text/plain": [
       "131    DrugY\n",
       "96     DrugY\n",
       "181    drugX\n",
       "19     DrugY\n",
       "153    drugX\n",
       "       ...  \n",
       "67     drugX\n",
       "192    DrugY\n",
       "117    drugX\n",
       "47     drugC\n",
       "172    DrugY\n",
       "Name: Drug, Length: 140, dtype: object"
      ]
     },
     "execution_count": 260,
     "metadata": {},
     "output_type": "execute_result"
    }
   ],
   "source": [
    "y_train"
   ]
  },
  {
   "cell_type": "code",
   "execution_count": 261,
   "id": "87cc2f4d",
   "metadata": {},
   "outputs": [
    {
     "data": {
      "text/plain": [
       "Drug \n",
       "DrugY    30\n",
       "drugX    18\n",
       "drugA     5\n",
       "drugC     4\n",
       "drugB     3\n",
       "dtype: int64"
      ]
     },
     "execution_count": 261,
     "metadata": {},
     "output_type": "execute_result"
    }
   ],
   "source": [
    "y_test.to_frame().value_counts()"
   ]
  },
  {
   "cell_type": "markdown",
   "id": "498598c6",
   "metadata": {},
   "source": [
    "* Where target variables are imbalenced in test and train data so we need to balence."
   ]
  },
  {
   "cell_type": "markdown",
   "id": "46311b20",
   "metadata": {},
   "source": [
    "<div id='2.3' style='background-color:;text-align:centre;padding:5px;border-radius:35px'>\n",
    "    <h2 style='color:#003f5c;font-family:Impact'> Balencing Data Using Oversampling SMOT </h2>\n",
    "</div>"
   ]
  },
  {
   "cell_type": "code",
   "execution_count": 262,
   "id": "a7bf5422",
   "metadata": {},
   "outputs": [],
   "source": [
    "from imblearn.over_sampling import SMOTE\n",
    "smote = SMOTE(random_state=42)"
   ]
  },
  {
   "cell_type": "code",
   "execution_count": 263,
   "id": "1210e82c",
   "metadata": {},
   "outputs": [],
   "source": [
    "x_train_s, y_train_s = smote.fit_resample(x_train, y_train)"
   ]
  },
  {
   "cell_type": "code",
   "execution_count": 264,
   "id": "09e4e012",
   "metadata": {},
   "outputs": [
    {
     "data": {
      "text/html": [
       "<div>\n",
       "<style scoped>\n",
       "    .dataframe tbody tr th:only-of-type {\n",
       "        vertical-align: middle;\n",
       "    }\n",
       "\n",
       "    .dataframe tbody tr th {\n",
       "        vertical-align: top;\n",
       "    }\n",
       "\n",
       "    .dataframe thead th {\n",
       "        text-align: right;\n",
       "    }\n",
       "</style>\n",
       "<table border=\"1\" class=\"dataframe\">\n",
       "  <thead>\n",
       "    <tr style=\"text-align: right;\">\n",
       "      <th></th>\n",
       "      <th>Age</th>\n",
       "      <th>Sex</th>\n",
       "      <th>BP</th>\n",
       "      <th>Cholesterol</th>\n",
       "      <th>Na_to_K</th>\n",
       "    </tr>\n",
       "  </thead>\n",
       "  <tbody>\n",
       "    <tr>\n",
       "      <th>0</th>\n",
       "      <td>52</td>\n",
       "      <td>1</td>\n",
       "      <td>0</td>\n",
       "      <td>1</td>\n",
       "      <td>32.922000</td>\n",
       "    </tr>\n",
       "    <tr>\n",
       "      <th>1</th>\n",
       "      <td>58</td>\n",
       "      <td>0</td>\n",
       "      <td>0</td>\n",
       "      <td>0</td>\n",
       "      <td>38.247000</td>\n",
       "    </tr>\n",
       "    <tr>\n",
       "      <th>2</th>\n",
       "      <td>59</td>\n",
       "      <td>0</td>\n",
       "      <td>1</td>\n",
       "      <td>0</td>\n",
       "      <td>13.884000</td>\n",
       "    </tr>\n",
       "    <tr>\n",
       "      <th>3</th>\n",
       "      <td>32</td>\n",
       "      <td>0</td>\n",
       "      <td>2</td>\n",
       "      <td>1</td>\n",
       "      <td>25.974000</td>\n",
       "    </tr>\n",
       "    <tr>\n",
       "      <th>4</th>\n",
       "      <td>72</td>\n",
       "      <td>0</td>\n",
       "      <td>0</td>\n",
       "      <td>1</td>\n",
       "      <td>14.642000</td>\n",
       "    </tr>\n",
       "    <tr>\n",
       "      <th>...</th>\n",
       "      <td>...</td>\n",
       "      <td>...</td>\n",
       "      <td>...</td>\n",
       "      <td>...</td>\n",
       "      <td>...</td>\n",
       "    </tr>\n",
       "    <tr>\n",
       "      <th>300</th>\n",
       "      <td>17</td>\n",
       "      <td>1</td>\n",
       "      <td>1</td>\n",
       "      <td>0</td>\n",
       "      <td>10.051453</td>\n",
       "    </tr>\n",
       "    <tr>\n",
       "      <th>301</th>\n",
       "      <td>51</td>\n",
       "      <td>0</td>\n",
       "      <td>1</td>\n",
       "      <td>0</td>\n",
       "      <td>10.168361</td>\n",
       "    </tr>\n",
       "    <tr>\n",
       "      <th>302</th>\n",
       "      <td>37</td>\n",
       "      <td>0</td>\n",
       "      <td>1</td>\n",
       "      <td>1</td>\n",
       "      <td>9.120410</td>\n",
       "    </tr>\n",
       "    <tr>\n",
       "      <th>303</th>\n",
       "      <td>68</td>\n",
       "      <td>0</td>\n",
       "      <td>1</td>\n",
       "      <td>0</td>\n",
       "      <td>9.822476</td>\n",
       "    </tr>\n",
       "    <tr>\n",
       "      <th>304</th>\n",
       "      <td>60</td>\n",
       "      <td>0</td>\n",
       "      <td>0</td>\n",
       "      <td>1</td>\n",
       "      <td>9.755273</td>\n",
       "    </tr>\n",
       "  </tbody>\n",
       "</table>\n",
       "<p>305 rows × 5 columns</p>\n",
       "</div>"
      ],
      "text/plain": [
       "     Age  Sex  BP  Cholesterol    Na_to_K\n",
       "0     52    1   0            1  32.922000\n",
       "1     58    0   0            0  38.247000\n",
       "2     59    0   1            0  13.884000\n",
       "3     32    0   2            1  25.974000\n",
       "4     72    0   0            1  14.642000\n",
       "..   ...  ...  ..          ...        ...\n",
       "300   17    1   1            0  10.051453\n",
       "301   51    0   1            0  10.168361\n",
       "302   37    0   1            1   9.120410\n",
       "303   68    0   1            0   9.822476\n",
       "304   60    0   0            1   9.755273\n",
       "\n",
       "[305 rows x 5 columns]"
      ]
     },
     "execution_count": 264,
     "metadata": {},
     "output_type": "execute_result"
    }
   ],
   "source": [
    "x_train_s"
   ]
  },
  {
   "cell_type": "code",
   "execution_count": 265,
   "id": "13a54151",
   "metadata": {},
   "outputs": [
    {
     "data": {
      "text/plain": [
       "0      DrugY\n",
       "1      DrugY\n",
       "2      drugX\n",
       "3      DrugY\n",
       "4      drugX\n",
       "       ...  \n",
       "300    drugX\n",
       "301    drugX\n",
       "302    drugX\n",
       "303    drugX\n",
       "304    drugX\n",
       "Name: Drug, Length: 305, dtype: object"
      ]
     },
     "execution_count": 265,
     "metadata": {},
     "output_type": "execute_result"
    }
   ],
   "source": [
    "y_train_s"
   ]
  },
  {
   "cell_type": "code",
   "execution_count": 266,
   "id": "bf9b4d57",
   "metadata": {},
   "outputs": [
    {
     "data": {
      "text/plain": [
       "[]"
      ]
     },
     "execution_count": 266,
     "metadata": {},
     "output_type": "execute_result"
    },
    {
     "data": {
      "image/png": "[encoded data removed]",
      "text/plain": [
       "<Figure size 640x480 with 1 Axes>"
      ]
     },
     "metadata": {},
     "output_type": "display_data"
    }
   ],
   "source": [
    "y_train_s.to_frame().value_counts().plot(kind='bar',color=['#003f5c'])\n",
    "plt.plot()"
   ]
  },
  {
   "cell_type": "markdown",
   "id": "7391ba0a",
   "metadata": {},
   "source": [
    "* Here we can see the distribution of 'drug' feature is balenced."
   ]
  },
  {
   "cell_type": "markdown",
   "id": "ac606f65",
   "metadata": {},
   "source": [
    "<div id='2.3' style='background-color:;text-align:centre;padding:5px;border-radius:35px'>\n",
    "    <h2 style='color:#003f5c;font-family:Impact'> Scaling Data Using StandardScaler </h2>\n",
    "</div>"
   ]
  },
  {
   "cell_type": "code",
   "execution_count": 267,
   "id": "6403b210",
   "metadata": {},
   "outputs": [],
   "source": [
    "from sklearn.preprocessing import StandardScaler\n",
    "scaler=StandardScaler()\n",
    "x_train_s_1=scaler.fit_transform(x_train_s)\n",
    "x_train=pd.DataFrame(x_train_s_1,columns=x_train_s.columns)"
   ]
  },
  {
   "cell_type": "code",
   "execution_count": 268,
   "id": "c2768b71",
   "metadata": {},
   "outputs": [],
   "source": [
    "x_test_1=scaler.transform(x_test)\n",
    "x_test=pd.DataFrame(x_test_1,columns=x_test.columns)"
   ]
  },
  {
   "cell_type": "code",
   "execution_count": 269,
   "id": "0d125c22",
   "metadata": {},
   "outputs": [
    {
     "data": {
      "text/html": [
       "<div>\n",
       "<style scoped>\n",
       "    .dataframe tbody tr th:only-of-type {\n",
       "        vertical-align: middle;\n",
       "    }\n",
       "\n",
       "    .dataframe tbody tr th {\n",
       "        vertical-align: top;\n",
       "    }\n",
       "\n",
       "    .dataframe thead th {\n",
       "        text-align: right;\n",
       "    }\n",
       "</style>\n",
       "<table border=\"1\" class=\"dataframe\">\n",
       "  <thead>\n",
       "    <tr style=\"text-align: right;\">\n",
       "      <th></th>\n",
       "      <th>Age</th>\n",
       "      <th>Sex</th>\n",
       "      <th>BP</th>\n",
       "      <th>Cholesterol</th>\n",
       "      <th>Na_to_K</th>\n",
       "    </tr>\n",
       "  </thead>\n",
       "  <tbody>\n",
       "    <tr>\n",
       "      <th>0</th>\n",
       "      <td>0.251961</td>\n",
       "      <td>1.100066</td>\n",
       "      <td>-1.268048</td>\n",
       "      <td>1.431782</td>\n",
       "      <td>3.644597</td>\n",
       "    </tr>\n",
       "    <tr>\n",
       "      <th>1</th>\n",
       "      <td>0.643046</td>\n",
       "      <td>-0.909036</td>\n",
       "      <td>-1.268048</td>\n",
       "      <td>-0.698430</td>\n",
       "      <td>4.629561</td>\n",
       "    </tr>\n",
       "    <tr>\n",
       "      <th>2</th>\n",
       "      <td>0.708226</td>\n",
       "      <td>-0.909036</td>\n",
       "      <td>-0.156684</td>\n",
       "      <td>-0.698430</td>\n",
       "      <td>0.123146</td>\n",
       "    </tr>\n",
       "    <tr>\n",
       "      <th>3</th>\n",
       "      <td>-1.051654</td>\n",
       "      <td>-0.909036</td>\n",
       "      <td>0.954680</td>\n",
       "      <td>1.431782</td>\n",
       "      <td>2.359429</td>\n",
       "    </tr>\n",
       "    <tr>\n",
       "      <th>4</th>\n",
       "      <td>1.555576</td>\n",
       "      <td>-0.909036</td>\n",
       "      <td>-1.268048</td>\n",
       "      <td>1.431782</td>\n",
       "      <td>0.263353</td>\n",
       "    </tr>\n",
       "    <tr>\n",
       "      <th>...</th>\n",
       "      <td>...</td>\n",
       "      <td>...</td>\n",
       "      <td>...</td>\n",
       "      <td>...</td>\n",
       "      <td>...</td>\n",
       "    </tr>\n",
       "    <tr>\n",
       "      <th>300</th>\n",
       "      <td>-2.029366</td>\n",
       "      <td>1.100066</td>\n",
       "      <td>-0.156684</td>\n",
       "      <td>-0.698430</td>\n",
       "      <td>-0.585758</td>\n",
       "    </tr>\n",
       "    <tr>\n",
       "      <th>301</th>\n",
       "      <td>0.186780</td>\n",
       "      <td>-0.909036</td>\n",
       "      <td>-0.156684</td>\n",
       "      <td>-0.698430</td>\n",
       "      <td>-0.564134</td>\n",
       "    </tr>\n",
       "    <tr>\n",
       "      <th>302</th>\n",
       "      <td>-0.725750</td>\n",
       "      <td>-0.909036</td>\n",
       "      <td>-0.156684</td>\n",
       "      <td>1.431782</td>\n",
       "      <td>-0.757973</td>\n",
       "    </tr>\n",
       "    <tr>\n",
       "      <th>303</th>\n",
       "      <td>1.294853</td>\n",
       "      <td>-0.909036</td>\n",
       "      <td>-0.156684</td>\n",
       "      <td>-0.698430</td>\n",
       "      <td>-0.628112</td>\n",
       "    </tr>\n",
       "    <tr>\n",
       "      <th>304</th>\n",
       "      <td>0.773407</td>\n",
       "      <td>-0.909036</td>\n",
       "      <td>-1.268048</td>\n",
       "      <td>1.431782</td>\n",
       "      <td>-0.640543</td>\n",
       "    </tr>\n",
       "  </tbody>\n",
       "</table>\n",
       "<p>305 rows × 5 columns</p>\n",
       "</div>"
      ],
      "text/plain": [
       "          Age       Sex        BP  Cholesterol   Na_to_K\n",
       "0    0.251961  1.100066 -1.268048     1.431782  3.644597\n",
       "1    0.643046 -0.909036 -1.268048    -0.698430  4.629561\n",
       "2    0.708226 -0.909036 -0.156684    -0.698430  0.123146\n",
       "3   -1.051654 -0.909036  0.954680     1.431782  2.359429\n",
       "4    1.555576 -0.909036 -1.268048     1.431782  0.263353\n",
       "..        ...       ...       ...          ...       ...\n",
       "300 -2.029366  1.100066 -0.156684    -0.698430 -0.585758\n",
       "301  0.186780 -0.909036 -0.156684    -0.698430 -0.564134\n",
       "302 -0.725750 -0.909036 -0.156684     1.431782 -0.757973\n",
       "303  1.294853 -0.909036 -0.156684    -0.698430 -0.628112\n",
       "304  0.773407 -0.909036 -1.268048     1.431782 -0.640543\n",
       "\n",
       "[305 rows x 5 columns]"
      ]
     },
     "execution_count": 269,
     "metadata": {},
     "output_type": "execute_result"
    }
   ],
   "source": [
    "x_train"
   ]
  },
  {
   "cell_type": "code",
   "execution_count": 270,
   "id": "8ce81f41",
   "metadata": {},
   "outputs": [
    {
     "data": {
      "text/html": [
       "<div>\n",
       "<style scoped>\n",
       "    .dataframe tbody tr th:only-of-type {\n",
       "        vertical-align: middle;\n",
       "    }\n",
       "\n",
       "    .dataframe tbody tr th {\n",
       "        vertical-align: top;\n",
       "    }\n",
       "\n",
       "    .dataframe thead th {\n",
       "        text-align: right;\n",
       "    }\n",
       "</style>\n",
       "<table border=\"1\" class=\"dataframe\">\n",
       "  <thead>\n",
       "    <tr style=\"text-align: right;\">\n",
       "      <th></th>\n",
       "      <th>Age</th>\n",
       "      <th>Sex</th>\n",
       "      <th>BP</th>\n",
       "      <th>Cholesterol</th>\n",
       "      <th>Na_to_K</th>\n",
       "    </tr>\n",
       "  </thead>\n",
       "  <tbody>\n",
       "    <tr>\n",
       "      <th>0</th>\n",
       "      <td>-1.638281</td>\n",
       "      <td>1.100066</td>\n",
       "      <td>-1.268048</td>\n",
       "      <td>-0.698430</td>\n",
       "      <td>-1.095063</td>\n",
       "    </tr>\n",
       "    <tr>\n",
       "      <th>1</th>\n",
       "      <td>-1.312377</td>\n",
       "      <td>-0.909036</td>\n",
       "      <td>-0.156684</td>\n",
       "      <td>-0.698430</td>\n",
       "      <td>-0.062748</td>\n",
       "    </tr>\n",
       "    <tr>\n",
       "      <th>2</th>\n",
       "      <td>-0.399847</td>\n",
       "      <td>1.100066</td>\n",
       "      <td>-1.268048</td>\n",
       "      <td>-0.698430</td>\n",
       "      <td>1.256825</td>\n",
       "    </tr>\n",
       "    <tr>\n",
       "      <th>3</th>\n",
       "      <td>-1.833824</td>\n",
       "      <td>1.100066</td>\n",
       "      <td>0.954680</td>\n",
       "      <td>1.431782</td>\n",
       "      <td>4.147160</td>\n",
       "    </tr>\n",
       "    <tr>\n",
       "      <th>4</th>\n",
       "      <td>-1.507920</td>\n",
       "      <td>1.100066</td>\n",
       "      <td>-0.156684</td>\n",
       "      <td>-0.698430</td>\n",
       "      <td>1.071485</td>\n",
       "    </tr>\n",
       "    <tr>\n",
       "      <th>5</th>\n",
       "      <td>-1.833824</td>\n",
       "      <td>-0.909036</td>\n",
       "      <td>-1.268048</td>\n",
       "      <td>1.431782</td>\n",
       "      <td>-0.283417</td>\n",
       "    </tr>\n",
       "    <tr>\n",
       "      <th>6</th>\n",
       "      <td>-1.703462</td>\n",
       "      <td>-0.909036</td>\n",
       "      <td>-0.156684</td>\n",
       "      <td>-0.698430</td>\n",
       "      <td>-0.852938</td>\n",
       "    </tr>\n",
       "    <tr>\n",
       "      <th>7</th>\n",
       "      <td>-0.725750</td>\n",
       "      <td>-0.909036</td>\n",
       "      <td>-1.268048</td>\n",
       "      <td>1.431782</td>\n",
       "      <td>-0.224226</td>\n",
       "    </tr>\n",
       "    <tr>\n",
       "      <th>8</th>\n",
       "      <td>-0.334666</td>\n",
       "      <td>1.100066</td>\n",
       "      <td>-1.268048</td>\n",
       "      <td>-0.698430</td>\n",
       "      <td>0.399121</td>\n",
       "    </tr>\n",
       "    <tr>\n",
       "      <th>9</th>\n",
       "      <td>0.447503</td>\n",
       "      <td>1.100066</td>\n",
       "      <td>-0.156684</td>\n",
       "      <td>1.431782</td>\n",
       "      <td>-1.101907</td>\n",
       "    </tr>\n",
       "    <tr>\n",
       "      <th>10</th>\n",
       "      <td>-1.573100</td>\n",
       "      <td>1.100066</td>\n",
       "      <td>0.954680</td>\n",
       "      <td>1.431782</td>\n",
       "      <td>-0.692385</td>\n",
       "    </tr>\n",
       "    <tr>\n",
       "      <th>11</th>\n",
       "      <td>-1.899004</td>\n",
       "      <td>-0.909036</td>\n",
       "      <td>0.954680</td>\n",
       "      <td>1.431782</td>\n",
       "      <td>2.358504</td>\n",
       "    </tr>\n",
       "    <tr>\n",
       "      <th>12</th>\n",
       "      <td>-1.703462</td>\n",
       "      <td>-0.909036</td>\n",
       "      <td>0.954680</td>\n",
       "      <td>1.431782</td>\n",
       "      <td>1.775665</td>\n",
       "    </tr>\n",
       "    <tr>\n",
       "      <th>13</th>\n",
       "      <td>-0.725750</td>\n",
       "      <td>1.100066</td>\n",
       "      <td>-1.268048</td>\n",
       "      <td>1.431782</td>\n",
       "      <td>0.648460</td>\n",
       "    </tr>\n",
       "    <tr>\n",
       "      <th>14</th>\n",
       "      <td>0.773407</td>\n",
       "      <td>1.100066</td>\n",
       "      <td>0.954680</td>\n",
       "      <td>-0.698430</td>\n",
       "      <td>0.132395</td>\n",
       "    </tr>\n",
       "    <tr>\n",
       "      <th>15</th>\n",
       "      <td>-0.465027</td>\n",
       "      <td>1.100066</td>\n",
       "      <td>-1.268048</td>\n",
       "      <td>-0.698430</td>\n",
       "      <td>-0.403462</td>\n",
       "    </tr>\n",
       "    <tr>\n",
       "      <th>16</th>\n",
       "      <td>1.099311</td>\n",
       "      <td>-0.909036</td>\n",
       "      <td>0.954680</td>\n",
       "      <td>1.431782</td>\n",
       "      <td>3.451119</td>\n",
       "    </tr>\n",
       "    <tr>\n",
       "      <th>17</th>\n",
       "      <td>1.425215</td>\n",
       "      <td>-0.909036</td>\n",
       "      <td>-0.156684</td>\n",
       "      <td>-0.698430</td>\n",
       "      <td>1.344871</td>\n",
       "    </tr>\n",
       "    <tr>\n",
       "      <th>18</th>\n",
       "      <td>-0.595389</td>\n",
       "      <td>1.100066</td>\n",
       "      <td>-1.268048</td>\n",
       "      <td>1.431782</td>\n",
       "      <td>0.133135</td>\n",
       "    </tr>\n",
       "    <tr>\n",
       "      <th>19</th>\n",
       "      <td>-1.116835</td>\n",
       "      <td>1.100066</td>\n",
       "      <td>0.954680</td>\n",
       "      <td>1.431782</td>\n",
       "      <td>0.712275</td>\n",
       "    </tr>\n",
       "    <tr>\n",
       "      <th>20</th>\n",
       "      <td>-0.790931</td>\n",
       "      <td>-0.909036</td>\n",
       "      <td>0.954680</td>\n",
       "      <td>1.431782</td>\n",
       "      <td>0.420208</td>\n",
       "    </tr>\n",
       "    <tr>\n",
       "      <th>21</th>\n",
       "      <td>0.838588</td>\n",
       "      <td>1.100066</td>\n",
       "      <td>-0.156684</td>\n",
       "      <td>-0.698430</td>\n",
       "      <td>-0.698304</td>\n",
       "    </tr>\n",
       "    <tr>\n",
       "      <th>22</th>\n",
       "      <td>1.164492</td>\n",
       "      <td>-0.909036</td>\n",
       "      <td>-0.156684</td>\n",
       "      <td>1.431782</td>\n",
       "      <td>-0.945423</td>\n",
       "    </tr>\n",
       "    <tr>\n",
       "      <th>23</th>\n",
       "      <td>-0.921293</td>\n",
       "      <td>-0.909036</td>\n",
       "      <td>-1.268048</td>\n",
       "      <td>1.431782</td>\n",
       "      <td>-0.054609</td>\n",
       "    </tr>\n",
       "    <tr>\n",
       "      <th>24</th>\n",
       "      <td>-0.660570</td>\n",
       "      <td>-0.909036</td>\n",
       "      <td>-1.268048</td>\n",
       "      <td>1.431782</td>\n",
       "      <td>3.080995</td>\n",
       "    </tr>\n",
       "    <tr>\n",
       "      <th>25</th>\n",
       "      <td>-0.790931</td>\n",
       "      <td>-0.909036</td>\n",
       "      <td>-0.156684</td>\n",
       "      <td>-0.698430</td>\n",
       "      <td>0.653824</td>\n",
       "    </tr>\n",
       "    <tr>\n",
       "      <th>26</th>\n",
       "      <td>1.229673</td>\n",
       "      <td>-0.909036</td>\n",
       "      <td>-0.156684</td>\n",
       "      <td>-0.698430</td>\n",
       "      <td>0.494380</td>\n",
       "    </tr>\n",
       "    <tr>\n",
       "      <th>27</th>\n",
       "      <td>0.577865</td>\n",
       "      <td>-0.909036</td>\n",
       "      <td>-0.156684</td>\n",
       "      <td>1.431782</td>\n",
       "      <td>2.344446</td>\n",
       "    </tr>\n",
       "    <tr>\n",
       "      <th>28</th>\n",
       "      <td>-0.921293</td>\n",
       "      <td>1.100066</td>\n",
       "      <td>-0.156684</td>\n",
       "      <td>-0.698430</td>\n",
       "      <td>1.708706</td>\n",
       "    </tr>\n",
       "    <tr>\n",
       "      <th>29</th>\n",
       "      <td>0.121600</td>\n",
       "      <td>-0.909036</td>\n",
       "      <td>-0.156684</td>\n",
       "      <td>1.431782</td>\n",
       "      <td>-0.170770</td>\n",
       "    </tr>\n",
       "    <tr>\n",
       "      <th>30</th>\n",
       "      <td>1.360034</td>\n",
       "      <td>1.100066</td>\n",
       "      <td>-1.268048</td>\n",
       "      <td>1.431782</td>\n",
       "      <td>-0.326145</td>\n",
       "    </tr>\n",
       "    <tr>\n",
       "      <th>31</th>\n",
       "      <td>-1.442739</td>\n",
       "      <td>-0.909036</td>\n",
       "      <td>-1.268048</td>\n",
       "      <td>-0.698430</td>\n",
       "      <td>0.174198</td>\n",
       "    </tr>\n",
       "    <tr>\n",
       "      <th>32</th>\n",
       "      <td>0.056419</td>\n",
       "      <td>1.100066</td>\n",
       "      <td>0.954680</td>\n",
       "      <td>1.431782</td>\n",
       "      <td>-0.835736</td>\n",
       "    </tr>\n",
       "    <tr>\n",
       "      <th>33</th>\n",
       "      <td>-0.073943</td>\n",
       "      <td>-0.909036</td>\n",
       "      <td>-0.156684</td>\n",
       "      <td>1.431782</td>\n",
       "      <td>-1.208820</td>\n",
       "    </tr>\n",
       "    <tr>\n",
       "      <th>34</th>\n",
       "      <td>-0.073943</td>\n",
       "      <td>1.100066</td>\n",
       "      <td>-1.268048</td>\n",
       "      <td>1.431782</td>\n",
       "      <td>3.209179</td>\n",
       "    </tr>\n",
       "    <tr>\n",
       "      <th>35</th>\n",
       "      <td>1.034130</td>\n",
       "      <td>1.100066</td>\n",
       "      <td>0.954680</td>\n",
       "      <td>1.431782</td>\n",
       "      <td>1.426812</td>\n",
       "    </tr>\n",
       "    <tr>\n",
       "      <th>36</th>\n",
       "      <td>-1.051654</td>\n",
       "      <td>-0.909036</td>\n",
       "      <td>-0.156684</td>\n",
       "      <td>-0.698430</td>\n",
       "      <td>-1.061954</td>\n",
       "    </tr>\n",
       "    <tr>\n",
       "      <th>37</th>\n",
       "      <td>0.838588</td>\n",
       "      <td>-0.909036</td>\n",
       "      <td>-1.268048</td>\n",
       "      <td>-0.698430</td>\n",
       "      <td>0.892435</td>\n",
       "    </tr>\n",
       "    <tr>\n",
       "      <th>38</th>\n",
       "      <td>-0.660570</td>\n",
       "      <td>-0.909036</td>\n",
       "      <td>0.954680</td>\n",
       "      <td>1.431782</td>\n",
       "      <td>-0.350006</td>\n",
       "    </tr>\n",
       "    <tr>\n",
       "      <th>39</th>\n",
       "      <td>-1.703462</td>\n",
       "      <td>1.100066</td>\n",
       "      <td>-0.156684</td>\n",
       "      <td>-0.698430</td>\n",
       "      <td>-0.234030</td>\n",
       "    </tr>\n",
       "    <tr>\n",
       "      <th>40</th>\n",
       "      <td>-0.399847</td>\n",
       "      <td>-0.909036</td>\n",
       "      <td>0.954680</td>\n",
       "      <td>-0.698430</td>\n",
       "      <td>1.446049</td>\n",
       "    </tr>\n",
       "    <tr>\n",
       "      <th>41</th>\n",
       "      <td>-1.247197</td>\n",
       "      <td>1.100066</td>\n",
       "      <td>0.954680</td>\n",
       "      <td>-0.698430</td>\n",
       "      <td>-0.067002</td>\n",
       "    </tr>\n",
       "    <tr>\n",
       "      <th>42</th>\n",
       "      <td>-1.116835</td>\n",
       "      <td>1.100066</td>\n",
       "      <td>0.954680</td>\n",
       "      <td>-0.698430</td>\n",
       "      <td>3.171815</td>\n",
       "    </tr>\n",
       "    <tr>\n",
       "      <th>43</th>\n",
       "      <td>1.099311</td>\n",
       "      <td>-0.909036</td>\n",
       "      <td>-1.268048</td>\n",
       "      <td>1.431782</td>\n",
       "      <td>0.101875</td>\n",
       "    </tr>\n",
       "    <tr>\n",
       "      <th>44</th>\n",
       "      <td>0.186780</td>\n",
       "      <td>-0.909036</td>\n",
       "      <td>-1.268048</td>\n",
       "      <td>1.431782</td>\n",
       "      <td>1.809884</td>\n",
       "    </tr>\n",
       "    <tr>\n",
       "      <th>45</th>\n",
       "      <td>-0.204304</td>\n",
       "      <td>1.100066</td>\n",
       "      <td>-1.268048</td>\n",
       "      <td>1.431782</td>\n",
       "      <td>-0.896776</td>\n",
       "    </tr>\n",
       "    <tr>\n",
       "      <th>46</th>\n",
       "      <td>0.773407</td>\n",
       "      <td>1.100066</td>\n",
       "      <td>-0.156684</td>\n",
       "      <td>-0.698430</td>\n",
       "      <td>0.361202</td>\n",
       "    </tr>\n",
       "    <tr>\n",
       "      <th>47</th>\n",
       "      <td>-1.442739</td>\n",
       "      <td>1.100066</td>\n",
       "      <td>-1.268048</td>\n",
       "      <td>1.431782</td>\n",
       "      <td>1.422558</td>\n",
       "    </tr>\n",
       "    <tr>\n",
       "      <th>48</th>\n",
       "      <td>-1.051654</td>\n",
       "      <td>-0.909036</td>\n",
       "      <td>0.954680</td>\n",
       "      <td>1.431782</td>\n",
       "      <td>-0.541264</td>\n",
       "    </tr>\n",
       "    <tr>\n",
       "      <th>49</th>\n",
       "      <td>1.685938</td>\n",
       "      <td>1.100066</td>\n",
       "      <td>0.954680</td>\n",
       "      <td>1.431782</td>\n",
       "      <td>0.410219</td>\n",
       "    </tr>\n",
       "    <tr>\n",
       "      <th>50</th>\n",
       "      <td>-1.312377</td>\n",
       "      <td>-0.909036</td>\n",
       "      <td>-0.156684</td>\n",
       "      <td>-0.698430</td>\n",
       "      <td>1.194305</td>\n",
       "    </tr>\n",
       "    <tr>\n",
       "      <th>51</th>\n",
       "      <td>0.317142</td>\n",
       "      <td>-0.909036</td>\n",
       "      <td>0.954680</td>\n",
       "      <td>1.431782</td>\n",
       "      <td>-0.133776</td>\n",
       "    </tr>\n",
       "    <tr>\n",
       "      <th>52</th>\n",
       "      <td>-1.964185</td>\n",
       "      <td>-0.909036</td>\n",
       "      <td>0.954680</td>\n",
       "      <td>-0.698430</td>\n",
       "      <td>4.433678</td>\n",
       "    </tr>\n",
       "    <tr>\n",
       "      <th>53</th>\n",
       "      <td>0.512684</td>\n",
       "      <td>-0.909036</td>\n",
       "      <td>0.954680</td>\n",
       "      <td>-0.698430</td>\n",
       "      <td>2.252331</td>\n",
       "    </tr>\n",
       "    <tr>\n",
       "      <th>54</th>\n",
       "      <td>-1.703462</td>\n",
       "      <td>1.100066</td>\n",
       "      <td>-1.268048</td>\n",
       "      <td>-0.698430</td>\n",
       "      <td>-0.937284</td>\n",
       "    </tr>\n",
       "    <tr>\n",
       "      <th>55</th>\n",
       "      <td>-0.986474</td>\n",
       "      <td>-0.909036</td>\n",
       "      <td>-1.268048</td>\n",
       "      <td>-0.698430</td>\n",
       "      <td>3.748920</td>\n",
       "    </tr>\n",
       "    <tr>\n",
       "      <th>56</th>\n",
       "      <td>-1.964185</td>\n",
       "      <td>-0.909036</td>\n",
       "      <td>-0.156684</td>\n",
       "      <td>1.431782</td>\n",
       "      <td>-0.826487</td>\n",
       "    </tr>\n",
       "    <tr>\n",
       "      <th>57</th>\n",
       "      <td>-1.182016</td>\n",
       "      <td>-0.909036</td>\n",
       "      <td>-0.156684</td>\n",
       "      <td>-0.698430</td>\n",
       "      <td>-0.513334</td>\n",
       "    </tr>\n",
       "    <tr>\n",
       "      <th>58</th>\n",
       "      <td>1.620757</td>\n",
       "      <td>-0.909036</td>\n",
       "      <td>-0.156684</td>\n",
       "      <td>-0.698430</td>\n",
       "      <td>1.110329</td>\n",
       "    </tr>\n",
       "    <tr>\n",
       "      <th>59</th>\n",
       "      <td>1.099311</td>\n",
       "      <td>1.100066</td>\n",
       "      <td>0.954680</td>\n",
       "      <td>1.431782</td>\n",
       "      <td>-0.347416</td>\n",
       "    </tr>\n",
       "  </tbody>\n",
       "</table>\n",
       "</div>"
      ],
      "text/plain": [
       "         Age       Sex        BP  Cholesterol   Na_to_K\n",
       "0  -1.638281  1.100066 -1.268048    -0.698430 -1.095063\n",
       "1  -1.312377 -0.909036 -0.156684    -0.698430 -0.062748\n",
       "2  -0.399847  1.100066 -1.268048    -0.698430  1.256825\n",
       "3  -1.833824  1.100066  0.954680     1.431782  4.147160\n",
       "4  -1.507920  1.100066 -0.156684    -0.698430  1.071485\n",
       "5  -1.833824 -0.909036 -1.268048     1.431782 -0.283417\n",
       "6  -1.703462 -0.909036 -0.156684    -0.698430 -0.852938\n",
       "7  -0.725750 -0.909036 -1.268048     1.431782 -0.224226\n",
       "8  -0.334666  1.100066 -1.268048    -0.698430  0.399121\n",
       "9   0.447503  1.100066 -0.156684     1.431782 -1.101907\n",
       "10 -1.573100  1.100066  0.954680     1.431782 -0.692385\n",
       "11 -1.899004 -0.909036  0.954680     1.431782  2.358504\n",
       "12 -1.703462 -0.909036  0.954680     1.431782  1.775665\n",
       "13 -0.725750  1.100066 -1.268048     1.431782  0.648460\n",
       "14  0.773407  1.100066  0.954680    -0.698430  0.132395\n",
       "15 -0.465027  1.100066 -1.268048    -0.698430 -0.403462\n",
       "16  1.099311 -0.909036  0.954680     1.431782  3.451119\n",
       "17  1.425215 -0.909036 -0.156684    -0.698430  1.344871\n",
       "18 -0.595389  1.100066 -1.268048     1.431782  0.133135\n",
       "19 -1.116835  1.100066  0.954680     1.431782  0.712275\n",
       "20 -0.790931 -0.909036  0.954680     1.431782  0.420208\n",
       "21  0.838588  1.100066 -0.156684    -0.698430 -0.698304\n",
       "22  1.164492 -0.909036 -0.156684     1.431782 -0.945423\n",
       "23 -0.921293 -0.909036 -1.268048     1.431782 -0.054609\n",
       "24 -0.660570 -0.909036 -1.268048     1.431782  3.080995\n",
       "25 -0.790931 -0.909036 -0.156684    -0.698430  0.653824\n",
       "26  1.229673 -0.909036 -0.156684    -0.698430  0.494380\n",
       "27  0.577865 -0.909036 -0.156684     1.431782  2.344446\n",
       "28 -0.921293  1.100066 -0.156684    -0.698430  1.708706\n",
       "29  0.121600 -0.909036 -0.156684     1.431782 -0.170770\n",
       "30  1.360034  1.100066 -1.268048     1.431782 -0.326145\n",
       "31 -1.442739 -0.909036 -1.268048    -0.698430  0.174198\n",
       "32  0.056419  1.100066  0.954680     1.431782 -0.835736\n",
       "33 -0.073943 -0.909036 -0.156684     1.431782 -1.208820\n",
       "34 -0.073943  1.100066 -1.268048     1.431782  3.209179\n",
       "35  1.034130  1.100066  0.954680     1.431782  1.426812\n",
       "36 -1.051654 -0.909036 -0.156684    -0.698430 -1.061954\n",
       "37  0.838588 -0.909036 -1.268048    -0.698430  0.892435\n",
       "38 -0.660570 -0.909036  0.954680     1.431782 -0.350006\n",
       "39 -1.703462  1.100066 -0.156684    -0.698430 -0.234030\n",
       "40 -0.399847 -0.909036  0.954680    -0.698430  1.446049\n",
       "41 -1.247197  1.100066  0.954680    -0.698430 -0.067002\n",
       "42 -1.116835  1.100066  0.954680    -0.698430  3.171815\n",
       "43  1.099311 -0.909036 -1.268048     1.431782  0.101875\n",
       "44  0.186780 -0.909036 -1.268048     1.431782  1.809884\n",
       "45 -0.204304  1.100066 -1.268048     1.431782 -0.896776\n",
       "46  0.773407  1.100066 -0.156684    -0.698430  0.361202\n",
       "47 -1.442739  1.100066 -1.268048     1.431782  1.422558\n",
       "48 -1.051654 -0.909036  0.954680     1.431782 -0.541264\n",
       "49  1.685938  1.100066  0.954680     1.431782  0.410219\n",
       "50 -1.312377 -0.909036 -0.156684    -0.698430  1.194305\n",
       "51  0.317142 -0.909036  0.954680     1.431782 -0.133776\n",
       "52 -1.964185 -0.909036  0.954680    -0.698430  4.433678\n",
       "53  0.512684 -0.909036  0.954680    -0.698430  2.252331\n",
       "54 -1.703462  1.100066 -1.268048    -0.698430 -0.937284\n",
       "55 -0.986474 -0.909036 -1.268048    -0.698430  3.748920\n",
       "56 -1.964185 -0.909036 -0.156684     1.431782 -0.826487\n",
       "57 -1.182016 -0.909036 -0.156684    -0.698430 -0.513334\n",
       "58  1.620757 -0.909036 -0.156684    -0.698430  1.110329\n",
       "59  1.099311  1.100066  0.954680     1.431782 -0.347416"
      ]
     },
     "execution_count": 270,
     "metadata": {},
     "output_type": "execute_result"
    }
   ],
   "source": [
    "x_test"
   ]
  },
  {
   "cell_type": "markdown",
   "id": "9e34fc27",
   "metadata": {},
   "source": [
    "<div id='2.3' style='background-color:;text-align:centre;padding:5px;border-radius:35px'>\n",
    "    <h1 style='color:#002a4c;font-family:Impact'>MODELS</h1>\n",
    "</div>"
   ]
  },
  {
   "cell_type": "markdown",
   "id": "c42c9f62",
   "metadata": {},
   "source": [
    "<div id='2.3' style='background-color:;text-align:centre;padding:5px;border-radius:35px'>\n",
    "    <h2 style='color:#003f5c;font-family:Impact'>LogisticRegression </h2>\n",
    "</div>"
   ]
  },
  {
   "cell_type": "code",
   "execution_count": 272,
   "id": "c1d3c6dd",
   "metadata": {},
   "outputs": [
    {
     "data": {
      "text/html": [
       "<style>#sk-container-id-9 {color: black;background-color: white;}#sk-container-id-9 pre{padding: 0;}#sk-container-id-9 div.sk-toggleable {background-color: white;}#sk-container-id-9 label.sk-toggleable__label {cursor: pointer;display: block;width: 100%;margin-bottom: 0;padding: 0.3em;box-sizing: border-box;text-align: center;}#sk-container-id-9 label.sk-toggleable__label-arrow:before {content: \"▸\";float: left;margin-right: 0.25em;color: #696969;}#sk-container-id-9 label.sk-toggleable__label-arrow:hover:before {color: black;}#sk-container-id-9 div.sk-estimator:hover label.sk-toggleable__label-arrow:before {color: black;}#sk-container-id-9 div.sk-toggleable__content {max-height: 0;max-width: 0;overflow: hidden;text-align: left;background-color: #f0f8ff;}#sk-container-id-9 div.sk-toggleable__content pre {margin: 0.2em;color: black;border-radius: 0.25em;background-color: #f0f8ff;}#sk-container-id-9 input.sk-toggleable__control:checked~div.sk-toggleable__content {max-height: 200px;max-width: 100%;overflow: auto;}#sk-container-id-9 input.sk-toggleable__control:checked~label.sk-toggleable__label-arrow:before {content: \"▾\";}#sk-container-id-9 div.sk-estimator input.sk-toggleable__control:checked~label.sk-toggleable__label {background-color: #d4ebff;}#sk-container-id-9 div.sk-label input.sk-toggleable__control:checked~label.sk-toggleable__label {background-color: #d4ebff;}#sk-container-id-9 input.sk-hidden--visually {border: 0;clip: rect(1px 1px 1px 1px);clip: rect(1px, 1px, 1px, 1px);height: 1px;margin: -1px;overflow: hidden;padding: 0;position: absolute;width: 1px;}#sk-container-id-9 div.sk-estimator {font-family: monospace;background-color: #f0f8ff;border: 1px dotted black;border-radius: 0.25em;box-sizing: border-box;margin-bottom: 0.5em;}#sk-container-id-9 div.sk-estimator:hover {background-color: #d4ebff;}#sk-container-id-9 div.sk-parallel-item::after {content: \"\";width: 100%;border-bottom: 1px solid gray;flex-grow: 1;}#sk-container-id-9 div.sk-label:hover label.sk-toggleable__label {background-color: #d4ebff;}#sk-container-id-9 div.sk-serial::before {content: \"\";position: absolute;border-left: 1px solid gray;box-sizing: border-box;top: 0;bottom: 0;left: 50%;z-index: 0;}#sk-container-id-9 div.sk-serial {display: flex;flex-direction: column;align-items: center;background-color: white;padding-right: 0.2em;padding-left: 0.2em;position: relative;}#sk-container-id-9 div.sk-item {position: relative;z-index: 1;}#sk-container-id-9 div.sk-parallel {display: flex;align-items: stretch;justify-content: center;background-color: white;position: relative;}#sk-container-id-9 div.sk-item::before, #sk-container-id-9 div.sk-parallel-item::before {content: \"\";position: absolute;border-left: 1px solid gray;box-sizing: border-box;top: 0;bottom: 0;left: 50%;z-index: -1;}#sk-container-id-9 div.sk-parallel-item {display: flex;flex-direction: column;z-index: 1;position: relative;background-color: white;}#sk-container-id-9 div.sk-parallel-item:first-child::after {align-self: flex-end;width: 50%;}#sk-container-id-9 div.sk-parallel-item:last-child::after {align-self: flex-start;width: 50%;}#sk-container-id-9 div.sk-parallel-item:only-child::after {width: 0;}#sk-container-id-9 div.sk-dashed-wrapped {border: 1px dashed gray;margin: 0 0.4em 0.5em 0.4em;box-sizing: border-box;padding-bottom: 0.4em;background-color: white;}#sk-container-id-9 div.sk-label label {font-family: monospace;font-weight: bold;display: inline-block;line-height: 1.2em;}#sk-container-id-9 div.sk-label-container {text-align: center;}#sk-container-id-9 div.sk-container {/* jupyter's `normalize.less` sets `[hidden] { display: none; }` but bootstrap.min.css set `[hidden] { display: none !important; }` so we also need the `!important` here to be able to override the default hidden behavior on the sphinx rendered scikit-learn.org. See: https://github.com/scikit-learn/scikit-learn/issues/21755 */display: inline-block !important;position: relative;}#sk-container-id-9 div.sk-text-repr-fallback {display: none;}</style><div id=\"sk-container-id-9\" class=\"sk-top-container\"><div class=\"sk-text-repr-fallback\"><pre>LogisticRegression()</pre><b>In a Jupyter environment, please rerun this cell to show the HTML representation or trust the notebook. <br />On GitHub, the HTML representation is unable to render, please try loading this page with nbviewer.org.</b></div><div class=\"sk-container\" hidden><div class=\"sk-item\"><div class=\"sk-estimator sk-toggleable\"><input class=\"sk-toggleable__control sk-hidden--visually\" id=\"sk-estimator-id-9\" type=\"checkbox\" checked><label for=\"sk-estimator-id-9\" class=\"sk-toggleable__label sk-toggleable__label-arrow\">LogisticRegression</label><div class=\"sk-toggleable__content\"><pre>LogisticRegression()</pre></div></div></div></div></div>"
      ],
      "text/plain": [
       "LogisticRegression()"
      ]
     },
     "execution_count": 272,
     "metadata": {},
     "output_type": "execute_result"
    }
   ],
   "source": [
    "from sklearn.linear_model import LogisticRegression\n",
    "LR=LogisticRegression()\n",
    "LR.fit(x_train,y_train_s)"
   ]
  },
  {
   "cell_type": "code",
   "execution_count": 273,
   "id": "55405bbf",
   "metadata": {},
   "outputs": [
    {
     "data": {
      "text/plain": [
       "array(['DrugY', 'DrugY', 'drugX', 'DrugY', 'drugX', 'DrugY', 'drugB',\n",
       "       'DrugY', 'drugX', 'drugX', 'drugX', 'DrugY', 'drugA', 'drugA',\n",
       "       'drugA', 'DrugY', 'DrugY', 'drugX', 'drugX', 'DrugY', 'drugA',\n",
       "       'drugA', 'drugB', 'drugC', 'drugB', 'DrugY', 'drugC', 'DrugY',\n",
       "       'drugB', 'drugX', 'drugX', 'drugC', 'DrugY', 'DrugY', 'drugC',\n",
       "       'DrugY', 'drugB', 'drugB', 'DrugY', 'drugX', 'drugC', 'drugA',\n",
       "       'DrugY', 'DrugY', 'drugC', 'drugA', 'drugX', 'drugB', 'DrugY',\n",
       "       'drugB', 'DrugY', 'DrugY', 'DrugY', 'drugB', 'DrugY', 'drugB',\n",
       "       'drugC', 'drugB', 'drugX', 'DrugY', 'drugA', 'drugA', 'DrugY',\n",
       "       'DrugY', 'drugA', 'drugA', 'drugX', 'drugX', 'DrugY', 'drugX',\n",
       "       'DrugY', 'DrugY', 'drugC', 'DrugY', 'drugC', 'drugX', 'drugA',\n",
       "       'DrugY', 'drugX', 'DrugY', 'DrugY', 'drugC', 'drugX', 'DrugY',\n",
       "       'DrugY', 'drugC', 'DrugY', 'drugX', 'DrugY', 'drugX', 'drugX',\n",
       "       'DrugY', 'drugA', 'drugX', 'DrugY', 'DrugY', 'DrugY', 'DrugY',\n",
       "       'DrugY', 'DrugY', 'drugX', 'drugB', 'drugB', 'DrugY', 'drugX',\n",
       "       'drugA', 'drugX', 'drugB', 'drugA', 'drugA', 'DrugY', 'DrugY',\n",
       "       'drugC', 'drugX', 'DrugY', 'drugX', 'drugC', 'drugX', 'DrugY',\n",
       "       'DrugY', 'DrugY', 'drugX', 'DrugY', 'drugA', 'DrugY', 'drugA',\n",
       "       'drugX', 'drugA', 'DrugY', 'drugB', 'drugC', 'drugA', 'DrugY',\n",
       "       'DrugY', 'drugX', 'drugX', 'DrugY', 'drugX', 'drugC', 'DrugY',\n",
       "       'drugA', 'drugA', 'drugA', 'drugA', 'drugA', 'drugA', 'drugA',\n",
       "       'drugA', 'drugA', 'drugA', 'drugA', 'drugA', 'drugA', 'drugA',\n",
       "       'drugA', 'drugA', 'drugA', 'drugA', 'drugA', 'drugA', 'drugA',\n",
       "       'drugA', 'drugA', 'drugA', 'drugA', 'drugA', 'drugA', 'drugA',\n",
       "       'drugA', 'drugA', 'drugA', 'drugA', 'drugA', 'drugA', 'drugA',\n",
       "       'drugA', 'drugA', 'drugA', 'drugA', 'drugA', 'drugA', 'drugA',\n",
       "       'drugA', 'drugB', 'drugB', 'drugB', 'drugB', 'drugB', 'drugB',\n",
       "       'drugB', 'drugB', 'drugB', 'drugB', 'drugB', 'drugB', 'drugB',\n",
       "       'drugB', 'drugB', 'drugB', 'drugB', 'drugB', 'drugB', 'drugB',\n",
       "       'drugB', 'drugB', 'drugB', 'drugB', 'drugB', 'drugB', 'drugB',\n",
       "       'drugB', 'drugB', 'drugB', 'drugB', 'drugB', 'drugB', 'drugB',\n",
       "       'drugB', 'drugB', 'drugB', 'drugB', 'drugB', 'drugA', 'drugB',\n",
       "       'drugB', 'drugB', 'drugB', 'drugB', 'drugB', 'drugB', 'drugB',\n",
       "       'drugC', 'drugC', 'drugC', 'drugC', 'drugC', 'drugC', 'drugC',\n",
       "       'drugC', 'drugC', 'drugC', 'drugC', 'drugC', 'drugC', 'drugC',\n",
       "       'drugC', 'drugC', 'drugC', 'drugC', 'drugC', 'drugC', 'drugC',\n",
       "       'drugC', 'drugC', 'drugC', 'drugC', 'drugC', 'drugC', 'drugC',\n",
       "       'drugC', 'drugC', 'drugC', 'drugC', 'drugC', 'drugC', 'drugC',\n",
       "       'drugC', 'drugC', 'drugC', 'drugC', 'drugC', 'drugC', 'drugC',\n",
       "       'drugC', 'drugC', 'drugC', 'drugC', 'drugC', 'drugC', 'drugC',\n",
       "       'drugX', 'drugC', 'drugX', 'drugX', 'drugX', 'drugX', 'drugX',\n",
       "       'drugX', 'drugX', 'drugX', 'drugX', 'drugX', 'drugX', 'drugX',\n",
       "       'drugX', 'drugX', 'drugX', 'drugX', 'drugX', 'drugX', 'drugX',\n",
       "       'drugX', 'drugX', 'drugX', 'drugX'], dtype=object)"
      ]
     },
     "execution_count": 273,
     "metadata": {},
     "output_type": "execute_result"
    }
   ],
   "source": [
    "y_pred=LR.predict(x_train)\n",
    "y_pred"
   ]
  },
  {
   "cell_type": "code",
   "execution_count": 274,
   "id": "09af3f82",
   "metadata": {},
   "outputs": [
    {
     "data": {
      "text/plain": [
       "0.9639344262295082"
      ]
     },
     "execution_count": 274,
     "metadata": {},
     "output_type": "execute_result"
    }
   ],
   "source": [
    "accuracy=accuracy_score(y_train_s,y_pred)\n",
    "accuracy"
   ]
  },
  {
   "cell_type": "code",
   "execution_count": 275,
   "id": "e45c7fed",
   "metadata": {},
   "outputs": [
    {
     "name": "stdout",
     "output_type": "stream",
     "text": [
      "Classification Report:\n",
      "              precision    recall  f1-score   support\n",
      "\n",
      "       DrugY       0.96      0.90      0.93        61\n",
      "       drugA       0.95      1.00      0.98        61\n",
      "       drugB       0.97      0.98      0.98        61\n",
      "       drugC       0.94      1.00      0.97        61\n",
      "       drugX       1.00      0.93      0.97        61\n",
      "\n",
      "    accuracy                           0.96       305\n",
      "   macro avg       0.96      0.96      0.96       305\n",
      "weighted avg       0.96      0.96      0.96       305\n",
      "\n"
     ]
    }
   ],
   "source": [
    "report = classification_report(y_train_s, y_pred)\n",
    "print(\"Classification Report:\")\n",
    "print(report)"
   ]
  },
  {
   "cell_type": "code",
   "execution_count": 276,
   "id": "9879d3ab",
   "metadata": {},
   "outputs": [],
   "source": [
    "y_pred_=LR.predict(x_test)"
   ]
  },
  {
   "cell_type": "code",
   "execution_count": 277,
   "id": "d5dcf0d2",
   "metadata": {},
   "outputs": [
    {
     "data": {
      "text/plain": [
       "array(['drugC', 'drugX', 'DrugY', 'DrugY', 'DrugY', 'drugX', 'drugX',\n",
       "       'drugX', 'drugC', 'drugX', 'drugA', 'DrugY', 'DrugY', 'DrugY',\n",
       "       'drugB', 'drugC', 'DrugY', 'DrugY', 'drugX', 'DrugY', 'DrugY',\n",
       "       'drugX', 'drugX', 'drugX', 'DrugY', 'DrugY', 'DrugY', 'DrugY',\n",
       "       'DrugY', 'drugX', 'drugX', 'drugC', 'drugA', 'drugX', 'DrugY',\n",
       "       'DrugY', 'drugX', 'DrugY', 'drugA', 'drugX', 'DrugY', 'drugA',\n",
       "       'DrugY', 'drugX', 'DrugY', 'drugX', 'DrugY', 'DrugY', 'drugA',\n",
       "       'drugB', 'DrugY', 'drugB', 'DrugY', 'DrugY', 'drugC', 'DrugY',\n",
       "       'drugX', 'drugX', 'DrugY', 'drugB'], dtype=object)"
      ]
     },
     "execution_count": 277,
     "metadata": {},
     "output_type": "execute_result"
    }
   ],
   "source": [
    "y_pred_"
   ]
  },
  {
   "cell_type": "code",
   "execution_count": 278,
   "id": "4e924d2d",
   "metadata": {},
   "outputs": [],
   "source": [
    "from sklearn.metrics import accuracy_score,classification_report"
   ]
  },
  {
   "cell_type": "code",
   "execution_count": 279,
   "id": "67e3fbe0",
   "metadata": {},
   "outputs": [
    {
     "data": {
      "text/plain": [
       "0.9666666666666667"
      ]
     },
     "execution_count": 279,
     "metadata": {},
     "output_type": "execute_result"
    }
   ],
   "source": [
    "accuracy_lr=accuracy_score(y_test,y_pred_)\n",
    "accuracy_lr"
   ]
  },
  {
   "cell_type": "code",
   "execution_count": 280,
   "id": "77933076",
   "metadata": {},
   "outputs": [
    {
     "name": "stdout",
     "output_type": "stream",
     "text": [
      "Classification Report:\n",
      "              precision    recall  f1-score   support\n",
      "\n",
      "       DrugY       1.00      0.93      0.97        30\n",
      "       drugA       1.00      1.00      1.00         5\n",
      "       drugB       0.75      1.00      0.86         3\n",
      "       drugC       0.80      1.00      0.89         4\n",
      "       drugX       1.00      1.00      1.00        18\n",
      "\n",
      "    accuracy                           0.97        60\n",
      "   macro avg       0.91      0.99      0.94        60\n",
      "weighted avg       0.97      0.97      0.97        60\n",
      "\n"
     ]
    }
   ],
   "source": [
    "report = classification_report(y_test, y_pred_)\n",
    "print(\"Classification Report:\")\n",
    "print(report)"
   ]
  },
  {
   "cell_type": "markdown",
   "id": "b5425e4a",
   "metadata": {},
   "source": [
    "<div id='2.3' style='background-color:;text-align:centre;padding:5px;border-radius:35px'>\n",
    "    <h2 style='color:#003f5c;font-family:Impact'>KNeighbors Classifier </h2>\n",
    "</div>"
   ]
  },
  {
   "cell_type": "code",
   "execution_count": 281,
   "id": "1b741f9b",
   "metadata": {},
   "outputs": [
    {
     "data": {
      "text/html": [
       "<style>#sk-container-id-10 {color: black;background-color: white;}#sk-container-id-10 pre{padding: 0;}#sk-container-id-10 div.sk-toggleable {background-color: white;}#sk-container-id-10 label.sk-toggleable__label {cursor: pointer;display: block;width: 100%;margin-bottom: 0;padding: 0.3em;box-sizing: border-box;text-align: center;}#sk-container-id-10 label.sk-toggleable__label-arrow:before {content: \"▸\";float: left;margin-right: 0.25em;color: #696969;}#sk-container-id-10 label.sk-toggleable__label-arrow:hover:before {color: black;}#sk-container-id-10 div.sk-estimator:hover label.sk-toggleable__label-arrow:before {color: black;}#sk-container-id-10 div.sk-toggleable__content {max-height: 0;max-width: 0;overflow: hidden;text-align: left;background-color: #f0f8ff;}#sk-container-id-10 div.sk-toggleable__content pre {margin: 0.2em;color: black;border-radius: 0.25em;background-color: #f0f8ff;}#sk-container-id-10 input.sk-toggleable__control:checked~div.sk-toggleable__content {max-height: 200px;max-width: 100%;overflow: auto;}#sk-container-id-10 input.sk-toggleable__control:checked~label.sk-toggleable__label-arrow:before {content: \"▾\";}#sk-container-id-10 div.sk-estimator input.sk-toggleable__control:checked~label.sk-toggleable__label {background-color: #d4ebff;}#sk-container-id-10 div.sk-label input.sk-toggleable__control:checked~label.sk-toggleable__label {background-color: #d4ebff;}#sk-container-id-10 input.sk-hidden--visually {border: 0;clip: rect(1px 1px 1px 1px);clip: rect(1px, 1px, 1px, 1px);height: 1px;margin: -1px;overflow: hidden;padding: 0;position: absolute;width: 1px;}#sk-container-id-10 div.sk-estimator {font-family: monospace;background-color: #f0f8ff;border: 1px dotted black;border-radius: 0.25em;box-sizing: border-box;margin-bottom: 0.5em;}#sk-container-id-10 div.sk-estimator:hover {background-color: #d4ebff;}#sk-container-id-10 div.sk-parallel-item::after {content: \"\";width: 100%;border-bottom: 1px solid gray;flex-grow: 1;}#sk-container-id-10 div.sk-label:hover label.sk-toggleable__label {background-color: #d4ebff;}#sk-container-id-10 div.sk-serial::before {content: \"\";position: absolute;border-left: 1px solid gray;box-sizing: border-box;top: 0;bottom: 0;left: 50%;z-index: 0;}#sk-container-id-10 div.sk-serial {display: flex;flex-direction: column;align-items: center;background-color: white;padding-right: 0.2em;padding-left: 0.2em;position: relative;}#sk-container-id-10 div.sk-item {position: relative;z-index: 1;}#sk-container-id-10 div.sk-parallel {display: flex;align-items: stretch;justify-content: center;background-color: white;position: relative;}#sk-container-id-10 div.sk-item::before, #sk-container-id-10 div.sk-parallel-item::before {content: \"\";position: absolute;border-left: 1px solid gray;box-sizing: border-box;top: 0;bottom: 0;left: 50%;z-index: -1;}#sk-container-id-10 div.sk-parallel-item {display: flex;flex-direction: column;z-index: 1;position: relative;background-color: white;}#sk-container-id-10 div.sk-parallel-item:first-child::after {align-self: flex-end;width: 50%;}#sk-container-id-10 div.sk-parallel-item:last-child::after {align-self: flex-start;width: 50%;}#sk-container-id-10 div.sk-parallel-item:only-child::after {width: 0;}#sk-container-id-10 div.sk-dashed-wrapped {border: 1px dashed gray;margin: 0 0.4em 0.5em 0.4em;box-sizing: border-box;padding-bottom: 0.4em;background-color: white;}#sk-container-id-10 div.sk-label label {font-family: monospace;font-weight: bold;display: inline-block;line-height: 1.2em;}#sk-container-id-10 div.sk-label-container {text-align: center;}#sk-container-id-10 div.sk-container {/* jupyter's `normalize.less` sets `[hidden] { display: none; }` but bootstrap.min.css set `[hidden] { display: none !important; }` so we also need the `!important` here to be able to override the default hidden behavior on the sphinx rendered scikit-learn.org. See: https://github.com/scikit-learn/scikit-learn/issues/21755 */display: inline-block !important;position: relative;}#sk-container-id-10 div.sk-text-repr-fallback {display: none;}</style><div id=\"sk-container-id-10\" class=\"sk-top-container\"><div class=\"sk-text-repr-fallback\"><pre>KNeighborsClassifier(n_neighbors=10)</pre><b>In a Jupyter environment, please rerun this cell to show the HTML representation or trust the notebook. <br />On GitHub, the HTML representation is unable to render, please try loading this page with nbviewer.org.</b></div><div class=\"sk-container\" hidden><div class=\"sk-item\"><div class=\"sk-estimator sk-toggleable\"><input class=\"sk-toggleable__control sk-hidden--visually\" id=\"sk-estimator-id-10\" type=\"checkbox\" checked><label for=\"sk-estimator-id-10\" class=\"sk-toggleable__label sk-toggleable__label-arrow\">KNeighborsClassifier</label><div class=\"sk-toggleable__content\"><pre>KNeighborsClassifier(n_neighbors=10)</pre></div></div></div></div></div>"
      ],
      "text/plain": [
       "KNeighborsClassifier(n_neighbors=10)"
      ]
     },
     "execution_count": 281,
     "metadata": {},
     "output_type": "execute_result"
    }
   ],
   "source": [
    "from sklearn.neighbors import KNeighborsClassifier\n",
    "kn=KNeighborsClassifier(n_neighbors=10)\n",
    "kn.fit(x_train,y_train_s)"
   ]
  },
  {
   "cell_type": "code",
   "execution_count": 282,
   "id": "0c872d59",
   "metadata": {},
   "outputs": [
    {
     "data": {
      "text/plain": [
       "array(['drugC', 'drugC', 'DrugY', 'DrugY', 'DrugY', 'drugX', 'drugX',\n",
       "       'drugX', 'drugC', 'drugX', 'drugA', 'DrugY', 'DrugY', 'drugX',\n",
       "       'drugB', 'drugC', 'DrugY', 'DrugY', 'drugX', 'drugA', 'DrugY',\n",
       "       'drugX', 'drugB', 'drugX', 'DrugY', 'drugA', 'drugX', 'DrugY',\n",
       "       'DrugY', 'drugX', 'drugX', 'drugC', 'drugA', 'drugX', 'DrugY',\n",
       "       'DrugY', 'drugX', 'drugC', 'drugA', 'drugA', 'drugA', 'drugA',\n",
       "       'DrugY', 'drugX', 'DrugY', 'drugX', 'DrugY', 'drugX', 'drugA',\n",
       "       'drugX', 'DrugY', 'drugB', 'DrugY', 'DrugY', 'drugC', 'DrugY',\n",
       "       'drugA', 'drugX', 'DrugY', 'drugX'], dtype=object)"
      ]
     },
     "execution_count": 282,
     "metadata": {},
     "output_type": "execute_result"
    }
   ],
   "source": [
    "y_pred_kn=kn.predict(x_test)\n",
    "y_pred_kn"
   ]
  },
  {
   "cell_type": "code",
   "execution_count": 283,
   "id": "49bf1080",
   "metadata": {},
   "outputs": [
    {
     "data": {
      "text/plain": [
       "0.7666666666666667"
      ]
     },
     "execution_count": 283,
     "metadata": {},
     "output_type": "execute_result"
    }
   ],
   "source": [
    "accuracy_kn=accuracy_score(y_test,y_pred_kn)\n",
    "accuracy_kn"
   ]
  },
  {
   "cell_type": "code",
   "execution_count": 284,
   "id": "636ce754",
   "metadata": {},
   "outputs": [
    {
     "name": "stdout",
     "output_type": "stream",
     "text": [
      "Classification Report:\n",
      "              precision    recall  f1-score   support\n",
      "\n",
      "       DrugY       1.00      0.70      0.82        30\n",
      "       drugA       0.50      1.00      0.67         5\n",
      "       drugB       0.67      0.67      0.67         3\n",
      "       drugC       0.57      1.00      0.73         4\n",
      "       drugX       0.74      0.78      0.76        18\n",
      "\n",
      "    accuracy                           0.77        60\n",
      "   macro avg       0.69      0.83      0.73        60\n",
      "weighted avg       0.83      0.77      0.78        60\n",
      "\n"
     ]
    }
   ],
   "source": [
    "report = classification_report(y_test, y_pred_kn)\n",
    "print(\"Classification Report:\")\n",
    "print(report)"
   ]
  },
  {
   "cell_type": "markdown",
   "id": "3ba7a211",
   "metadata": {},
   "source": [
    "<div id='2.3' style='background-color:;text-align:centre;padding:5px;border-radius:35px'>\n",
    "    <h2 style='color:#003f5c;font-family:Impact'>Decision Tree Classifier </h2>\n",
    "</div>"
   ]
  },
  {
   "cell_type": "code",
   "execution_count": 285,
   "id": "02530285",
   "metadata": {},
   "outputs": [
    {
     "data": {
      "text/html": [
       "<style>#sk-container-id-11 {color: black;background-color: white;}#sk-container-id-11 pre{padding: 0;}#sk-container-id-11 div.sk-toggleable {background-color: white;}#sk-container-id-11 label.sk-toggleable__label {cursor: pointer;display: block;width: 100%;margin-bottom: 0;padding: 0.3em;box-sizing: border-box;text-align: center;}#sk-container-id-11 label.sk-toggleable__label-arrow:before {content: \"▸\";float: left;margin-right: 0.25em;color: #696969;}#sk-container-id-11 label.sk-toggleable__label-arrow:hover:before {color: black;}#sk-container-id-11 div.sk-estimator:hover label.sk-toggleable__label-arrow:before {color: black;}#sk-container-id-11 div.sk-toggleable__content {max-height: 0;max-width: 0;overflow: hidden;text-align: left;background-color: #f0f8ff;}#sk-container-id-11 div.sk-toggleable__content pre {margin: 0.2em;color: black;border-radius: 0.25em;background-color: #f0f8ff;}#sk-container-id-11 input.sk-toggleable__control:checked~div.sk-toggleable__content {max-height: 200px;max-width: 100%;overflow: auto;}#sk-container-id-11 input.sk-toggleable__control:checked~label.sk-toggleable__label-arrow:before {content: \"▾\";}#sk-container-id-11 div.sk-estimator input.sk-toggleable__control:checked~label.sk-toggleable__label {background-color: #d4ebff;}#sk-container-id-11 div.sk-label input.sk-toggleable__control:checked~label.sk-toggleable__label {background-color: #d4ebff;}#sk-container-id-11 input.sk-hidden--visually {border: 0;clip: rect(1px 1px 1px 1px);clip: rect(1px, 1px, 1px, 1px);height: 1px;margin: -1px;overflow: hidden;padding: 0;position: absolute;width: 1px;}#sk-container-id-11 div.sk-estimator {font-family: monospace;background-color: #f0f8ff;border: 1px dotted black;border-radius: 0.25em;box-sizing: border-box;margin-bottom: 0.5em;}#sk-container-id-11 div.sk-estimator:hover {background-color: #d4ebff;}#sk-container-id-11 div.sk-parallel-item::after {content: \"\";width: 100%;border-bottom: 1px solid gray;flex-grow: 1;}#sk-container-id-11 div.sk-label:hover label.sk-toggleable__label {background-color: #d4ebff;}#sk-container-id-11 div.sk-serial::before {content: \"\";position: absolute;border-left: 1px solid gray;box-sizing: border-box;top: 0;bottom: 0;left: 50%;z-index: 0;}#sk-container-id-11 div.sk-serial {display: flex;flex-direction: column;align-items: center;background-color: white;padding-right: 0.2em;padding-left: 0.2em;position: relative;}#sk-container-id-11 div.sk-item {position: relative;z-index: 1;}#sk-container-id-11 div.sk-parallel {display: flex;align-items: stretch;justify-content: center;background-color: white;position: relative;}#sk-container-id-11 div.sk-item::before, #sk-container-id-11 div.sk-parallel-item::before {content: \"\";position: absolute;border-left: 1px solid gray;box-sizing: border-box;top: 0;bottom: 0;left: 50%;z-index: -1;}#sk-container-id-11 div.sk-parallel-item {display: flex;flex-direction: column;z-index: 1;position: relative;background-color: white;}#sk-container-id-11 div.sk-parallel-item:first-child::after {align-self: flex-end;width: 50%;}#sk-container-id-11 div.sk-parallel-item:last-child::after {align-self: flex-start;width: 50%;}#sk-container-id-11 div.sk-parallel-item:only-child::after {width: 0;}#sk-container-id-11 div.sk-dashed-wrapped {border: 1px dashed gray;margin: 0 0.4em 0.5em 0.4em;box-sizing: border-box;padding-bottom: 0.4em;background-color: white;}#sk-container-id-11 div.sk-label label {font-family: monospace;font-weight: bold;display: inline-block;line-height: 1.2em;}#sk-container-id-11 div.sk-label-container {text-align: center;}#sk-container-id-11 div.sk-container {/* jupyter's `normalize.less` sets `[hidden] { display: none; }` but bootstrap.min.css set `[hidden] { display: none !important; }` so we also need the `!important` here to be able to override the default hidden behavior on the sphinx rendered scikit-learn.org. See: https://github.com/scikit-learn/scikit-learn/issues/21755 */display: inline-block !important;position: relative;}#sk-container-id-11 div.sk-text-repr-fallback {display: none;}</style><div id=\"sk-container-id-11\" class=\"sk-top-container\"><div class=\"sk-text-repr-fallback\"><pre>DecisionTreeClassifier(max_depth=5, random_state=42)</pre><b>In a Jupyter environment, please rerun this cell to show the HTML representation or trust the notebook. <br />On GitHub, the HTML representation is unable to render, please try loading this page with nbviewer.org.</b></div><div class=\"sk-container\" hidden><div class=\"sk-item\"><div class=\"sk-estimator sk-toggleable\"><input class=\"sk-toggleable__control sk-hidden--visually\" id=\"sk-estimator-id-11\" type=\"checkbox\" checked><label for=\"sk-estimator-id-11\" class=\"sk-toggleable__label sk-toggleable__label-arrow\">DecisionTreeClassifier</label><div class=\"sk-toggleable__content\"><pre>DecisionTreeClassifier(max_depth=5, random_state=42)</pre></div></div></div></div></div>"
      ],
      "text/plain": [
       "DecisionTreeClassifier(max_depth=5, random_state=42)"
      ]
     },
     "execution_count": 285,
     "metadata": {},
     "output_type": "execute_result"
    }
   ],
   "source": [
    "from sklearn.tree import DecisionTreeClassifier\n",
    "dt=DecisionTreeClassifier(criterion='gini',max_depth=5,random_state=42)\n",
    "dt.fit(x_train,y_train_s)"
   ]
  },
  {
   "cell_type": "code",
   "execution_count": 286,
   "id": "f53ff851",
   "metadata": {},
   "outputs": [
    {
     "data": {
      "text/plain": [
       "array(['DrugY', 'DrugY', 'drugX', 'DrugY', 'drugX', 'DrugY', 'drugB',\n",
       "       'DrugY', 'drugX', 'drugX', 'drugX', 'DrugY', 'drugA', 'drugA',\n",
       "       'drugA', 'DrugY', 'DrugY', 'drugX', 'drugX', 'DrugY', 'drugA',\n",
       "       'drugA', 'drugB', 'drugC', 'drugB', 'DrugY', 'drugC', 'DrugY',\n",
       "       'drugB', 'drugX', 'drugX', 'drugC', 'DrugY', 'DrugY', 'drugC',\n",
       "       'DrugY', 'DrugY', 'DrugY', 'DrugY', 'drugX', 'drugC', 'drugA',\n",
       "       'DrugY', 'DrugY', 'DrugY', 'drugA', 'drugX', 'drugB', 'drugX',\n",
       "       'drugB', 'DrugY', 'DrugY', 'DrugY', 'drugB', 'DrugY', 'drugB',\n",
       "       'DrugY', 'drugB', 'drugX', 'DrugY', 'DrugY', 'drugA', 'DrugY',\n",
       "       'DrugY', 'drugA', 'drugA', 'drugX', 'drugX', 'DrugY', 'drugX',\n",
       "       'DrugY', 'DrugY', 'drugC', 'DrugY', 'drugC', 'drugX', 'drugA',\n",
       "       'DrugY', 'drugX', 'DrugY', 'DrugY', 'drugC', 'drugX', 'DrugY',\n",
       "       'DrugY', 'drugC', 'DrugY', 'drugX', 'DrugY', 'drugX', 'drugX',\n",
       "       'DrugY', 'drugA', 'drugX', 'DrugY', 'DrugY', 'DrugY', 'DrugY',\n",
       "       'drugX', 'DrugY', 'drugX', 'drugB', 'drugB', 'DrugY', 'drugX',\n",
       "       'drugA', 'drugX', 'drugB', 'drugA', 'drugA', 'DrugY', 'DrugY',\n",
       "       'drugC', 'drugX', 'DrugY', 'drugX', 'drugC', 'drugX', 'DrugY',\n",
       "       'DrugY', 'DrugY', 'drugX', 'DrugY', 'drugA', 'DrugY', 'drugX',\n",
       "       'drugX', 'drugA', 'DrugY', 'drugB', 'DrugY', 'drugA', 'DrugY',\n",
       "       'DrugY', 'drugX', 'drugX', 'DrugY', 'drugX', 'drugC', 'DrugY',\n",
       "       'drugA', 'drugA', 'drugA', 'drugA', 'drugA', 'drugA', 'drugA',\n",
       "       'drugA', 'drugA', 'drugA', 'drugA', 'drugA', 'drugA', 'drugA',\n",
       "       'drugA', 'drugA', 'drugA', 'drugA', 'drugA', 'drugA', 'drugA',\n",
       "       'drugA', 'drugA', 'drugA', 'drugA', 'drugA', 'drugA', 'drugA',\n",
       "       'drugA', 'drugA', 'drugA', 'drugA', 'drugA', 'drugA', 'drugA',\n",
       "       'drugA', 'drugA', 'drugA', 'drugA', 'drugA', 'drugA', 'drugA',\n",
       "       'drugA', 'drugB', 'drugB', 'drugB', 'drugB', 'drugB', 'drugB',\n",
       "       'drugB', 'drugB', 'drugB', 'drugB', 'drugB', 'drugB', 'drugB',\n",
       "       'drugB', 'drugB', 'drugB', 'drugB', 'drugB', 'drugB', 'drugB',\n",
       "       'drugB', 'drugB', 'drugB', 'drugB', 'drugB', 'drugB', 'drugB',\n",
       "       'drugB', 'drugB', 'drugB', 'drugB', 'drugB', 'drugB', 'drugB',\n",
       "       'drugB', 'drugB', 'drugB', 'drugB', 'drugB', 'drugB', 'drugB',\n",
       "       'drugB', 'drugB', 'drugB', 'drugB', 'drugB', 'drugB', 'drugB',\n",
       "       'drugC', 'drugC', 'drugC', 'drugC', 'drugC', 'drugC', 'drugC',\n",
       "       'drugC', 'drugC', 'drugC', 'drugC', 'drugC', 'drugC', 'drugC',\n",
       "       'drugC', 'drugC', 'drugC', 'drugC', 'drugC', 'drugC', 'drugC',\n",
       "       'drugC', 'drugC', 'drugC', 'drugC', 'drugC', 'drugC', 'drugC',\n",
       "       'drugC', 'drugC', 'drugC', 'drugC', 'drugC', 'drugC', 'drugC',\n",
       "       'drugC', 'drugC', 'drugC', 'drugC', 'drugC', 'drugC', 'drugC',\n",
       "       'drugC', 'drugC', 'drugC', 'drugC', 'drugC', 'drugC', 'drugC',\n",
       "       'drugX', 'drugC', 'drugX', 'drugX', 'drugX', 'drugX', 'drugX',\n",
       "       'drugX', 'drugX', 'drugX', 'drugX', 'drugX', 'drugX', 'drugX',\n",
       "       'drugX', 'drugX', 'drugX', 'drugX', 'drugX', 'drugX', 'drugX',\n",
       "       'drugX', 'drugX', 'drugX', 'drugX'], dtype=object)"
      ]
     },
     "execution_count": 286,
     "metadata": {},
     "output_type": "execute_result"
    }
   ],
   "source": [
    "y_pred_dt1=dt.predict(x_train)\n",
    "y_pred_dt1"
   ]
  },
  {
   "cell_type": "code",
   "execution_count": 288,
   "id": "68fe6bd0",
   "metadata": {},
   "outputs": [
    {
     "data": {
      "text/plain": [
       "0.9967213114754099"
      ]
     },
     "execution_count": 288,
     "metadata": {},
     "output_type": "execute_result"
    }
   ],
   "source": [
    "accuracy_dt1=accuracy_score(y_train_s,y_pred_dt1)\n",
    "accuracy_dt1"
   ]
  },
  {
   "cell_type": "code",
   "execution_count": 287,
   "id": "c67df3de",
   "metadata": {},
   "outputs": [
    {
     "name": "stdout",
     "output_type": "stream",
     "text": [
      "Classification Report:\n",
      "              precision    recall  f1-score   support\n",
      "\n",
      "       DrugY       1.00      1.00      1.00        61\n",
      "       drugA       1.00      1.00      1.00        61\n",
      "       drugB       1.00      1.00      1.00        61\n",
      "       drugC       0.98      1.00      0.99        61\n",
      "       drugX       1.00      0.98      0.99        61\n",
      "\n",
      "    accuracy                           1.00       305\n",
      "   macro avg       1.00      1.00      1.00       305\n",
      "weighted avg       1.00      1.00      1.00       305\n",
      "\n"
     ]
    }
   ],
   "source": [
    "report = classification_report(y_train_s, y_pred_dt1)\n",
    "print(\"Classification Report:\")\n",
    "print(report)"
   ]
  },
  {
   "cell_type": "code",
   "execution_count": 208,
   "id": "620d33d5",
   "metadata": {},
   "outputs": [
    {
     "data": {
      "text/plain": [
       "array([3, 4, 0, 0, 0, 4, 4, 4, 0, 4, 1, 0, 0, 0, 2, 3, 0, 0, 4, 0, 0, 4,\n",
       "       4, 4, 0, 0, 0, 0, 0, 4, 4, 3, 1, 4, 0, 0, 4, 0, 1, 4, 0, 1, 0, 4,\n",
       "       0, 4, 0, 0, 1, 0, 0, 2, 0, 0, 3, 0, 4, 4, 0, 2])"
      ]
     },
     "execution_count": 208,
     "metadata": {},
     "output_type": "execute_result"
    }
   ],
   "source": [
    "y_pred_dt=dt.predict(x_test)\n",
    "y_pred_dt"
   ]
  },
  {
   "cell_type": "code",
   "execution_count": 234,
   "id": "2edcc321",
   "metadata": {},
   "outputs": [
    {
     "data": {
      "text/plain": [
       "1.0"
      ]
     },
     "execution_count": 234,
     "metadata": {},
     "output_type": "execute_result"
    }
   ],
   "source": [
    "accuracy_dt=accuracy_score(y_test,y_pred_dt)\n",
    "accuracy_dt"
   ]
  },
  {
   "cell_type": "code",
   "execution_count": 211,
   "id": "c056c24b",
   "metadata": {},
   "outputs": [
    {
     "name": "stdout",
     "output_type": "stream",
     "text": [
      "Classification Report:\n",
      "              precision    recall  f1-score   support\n",
      "\n",
      "           0       1.00      1.00      1.00        30\n",
      "           1       1.00      1.00      1.00         5\n",
      "           2       1.00      1.00      1.00         3\n",
      "           3       1.00      1.00      1.00         4\n",
      "           4       1.00      1.00      1.00        18\n",
      "\n",
      "    accuracy                           1.00        60\n",
      "   macro avg       1.00      1.00      1.00        60\n",
      "weighted avg       1.00      1.00      1.00        60\n",
      "\n"
     ]
    }
   ],
   "source": [
    "report = classification_report(y_test, y_pred_dt)\n",
    "print(\"Classification Report:\")\n",
    "print(report)"
   ]
  },
  {
   "cell_type": "markdown",
   "id": "e39fe92b",
   "metadata": {},
   "source": [
    "<div id='2.3' style='background-color:;text-align:centre;padding:5px;border-radius:35px'>\n",
    "    <h2 style='color:#003f5c;font-family:Impact'>Random Forest  Classifier </h2>\n",
    "</div>"
   ]
  },
  {
   "cell_type": "code",
   "execution_count": 289,
   "id": "9acde396",
   "metadata": {},
   "outputs": [
    {
     "data": {
      "text/html": [
       "<style>#sk-container-id-12 {color: black;background-color: white;}#sk-container-id-12 pre{padding: 0;}#sk-container-id-12 div.sk-toggleable {background-color: white;}#sk-container-id-12 label.sk-toggleable__label {cursor: pointer;display: block;width: 100%;margin-bottom: 0;padding: 0.3em;box-sizing: border-box;text-align: center;}#sk-container-id-12 label.sk-toggleable__label-arrow:before {content: \"▸\";float: left;margin-right: 0.25em;color: #696969;}#sk-container-id-12 label.sk-toggleable__label-arrow:hover:before {color: black;}#sk-container-id-12 div.sk-estimator:hover label.sk-toggleable__label-arrow:before {color: black;}#sk-container-id-12 div.sk-toggleable__content {max-height: 0;max-width: 0;overflow: hidden;text-align: left;background-color: #f0f8ff;}#sk-container-id-12 div.sk-toggleable__content pre {margin: 0.2em;color: black;border-radius: 0.25em;background-color: #f0f8ff;}#sk-container-id-12 input.sk-toggleable__control:checked~div.sk-toggleable__content {max-height: 200px;max-width: 100%;overflow: auto;}#sk-container-id-12 input.sk-toggleable__control:checked~label.sk-toggleable__label-arrow:before {content: \"▾\";}#sk-container-id-12 div.sk-estimator input.sk-toggleable__control:checked~label.sk-toggleable__label {background-color: #d4ebff;}#sk-container-id-12 div.sk-label input.sk-toggleable__control:checked~label.sk-toggleable__label {background-color: #d4ebff;}#sk-container-id-12 input.sk-hidden--visually {border: 0;clip: rect(1px 1px 1px 1px);clip: rect(1px, 1px, 1px, 1px);height: 1px;margin: -1px;overflow: hidden;padding: 0;position: absolute;width: 1px;}#sk-container-id-12 div.sk-estimator {font-family: monospace;background-color: #f0f8ff;border: 1px dotted black;border-radius: 0.25em;box-sizing: border-box;margin-bottom: 0.5em;}#sk-container-id-12 div.sk-estimator:hover {background-color: #d4ebff;}#sk-container-id-12 div.sk-parallel-item::after {content: \"\";width: 100%;border-bottom: 1px solid gray;flex-grow: 1;}#sk-container-id-12 div.sk-label:hover label.sk-toggleable__label {background-color: #d4ebff;}#sk-container-id-12 div.sk-serial::before {content: \"\";position: absolute;border-left: 1px solid gray;box-sizing: border-box;top: 0;bottom: 0;left: 50%;z-index: 0;}#sk-container-id-12 div.sk-serial {display: flex;flex-direction: column;align-items: center;background-color: white;padding-right: 0.2em;padding-left: 0.2em;position: relative;}#sk-container-id-12 div.sk-item {position: relative;z-index: 1;}#sk-container-id-12 div.sk-parallel {display: flex;align-items: stretch;justify-content: center;background-color: white;position: relative;}#sk-container-id-12 div.sk-item::before, #sk-container-id-12 div.sk-parallel-item::before {content: \"\";position: absolute;border-left: 1px solid gray;box-sizing: border-box;top: 0;bottom: 0;left: 50%;z-index: -1;}#sk-container-id-12 div.sk-parallel-item {display: flex;flex-direction: column;z-index: 1;position: relative;background-color: white;}#sk-container-id-12 div.sk-parallel-item:first-child::after {align-self: flex-end;width: 50%;}#sk-container-id-12 div.sk-parallel-item:last-child::after {align-self: flex-start;width: 50%;}#sk-container-id-12 div.sk-parallel-item:only-child::after {width: 0;}#sk-container-id-12 div.sk-dashed-wrapped {border: 1px dashed gray;margin: 0 0.4em 0.5em 0.4em;box-sizing: border-box;padding-bottom: 0.4em;background-color: white;}#sk-container-id-12 div.sk-label label {font-family: monospace;font-weight: bold;display: inline-block;line-height: 1.2em;}#sk-container-id-12 div.sk-label-container {text-align: center;}#sk-container-id-12 div.sk-container {/* jupyter's `normalize.less` sets `[hidden] { display: none; }` but bootstrap.min.css set `[hidden] { display: none !important; }` so we also need the `!important` here to be able to override the default hidden behavior on the sphinx rendered scikit-learn.org. See: https://github.com/scikit-learn/scikit-learn/issues/21755 */display: inline-block !important;position: relative;}#sk-container-id-12 div.sk-text-repr-fallback {display: none;}</style><div id=\"sk-container-id-12\" class=\"sk-top-container\"><div class=\"sk-text-repr-fallback\"><pre>RandomForestClassifier(random_state=42)</pre><b>In a Jupyter environment, please rerun this cell to show the HTML representation or trust the notebook. <br />On GitHub, the HTML representation is unable to render, please try loading this page with nbviewer.org.</b></div><div class=\"sk-container\" hidden><div class=\"sk-item\"><div class=\"sk-estimator sk-toggleable\"><input class=\"sk-toggleable__control sk-hidden--visually\" id=\"sk-estimator-id-12\" type=\"checkbox\" checked><label for=\"sk-estimator-id-12\" class=\"sk-toggleable__label sk-toggleable__label-arrow\">RandomForestClassifier</label><div class=\"sk-toggleable__content\"><pre>RandomForestClassifier(random_state=42)</pre></div></div></div></div></div>"
      ],
      "text/plain": [
       "RandomForestClassifier(random_state=42)"
      ]
     },
     "execution_count": 289,
     "metadata": {},
     "output_type": "execute_result"
    }
   ],
   "source": [
    "from sklearn.ensemble import RandomForestClassifier\n",
    "rf=RandomForestClassifier(n_estimators=100,random_state=42)\n",
    "rf.fit(x_train,y_train_s)"
   ]
  },
  {
   "cell_type": "code",
   "execution_count": 290,
   "id": "8f152115",
   "metadata": {},
   "outputs": [
    {
     "data": {
      "text/plain": [
       "array(['DrugY', 'DrugY', 'drugX', 'DrugY', 'drugX', 'DrugY', 'drugB',\n",
       "       'DrugY', 'drugX', 'drugX', 'drugX', 'DrugY', 'drugA', 'drugA',\n",
       "       'drugA', 'DrugY', 'DrugY', 'drugX', 'drugX', 'DrugY', 'drugA',\n",
       "       'drugA', 'drugB', 'drugC', 'drugB', 'DrugY', 'drugC', 'DrugY',\n",
       "       'drugB', 'drugX', 'drugX', 'drugC', 'DrugY', 'DrugY', 'drugC',\n",
       "       'DrugY', 'DrugY', 'DrugY', 'DrugY', 'drugX', 'drugC', 'drugA',\n",
       "       'DrugY', 'DrugY', 'DrugY', 'drugA', 'drugX', 'drugB', 'drugX',\n",
       "       'drugB', 'DrugY', 'DrugY', 'DrugY', 'drugB', 'DrugY', 'drugB',\n",
       "       'DrugY', 'drugB', 'drugX', 'DrugY', 'DrugY', 'drugA', 'DrugY',\n",
       "       'DrugY', 'drugA', 'drugA', 'drugX', 'drugX', 'DrugY', 'drugX',\n",
       "       'DrugY', 'DrugY', 'drugC', 'DrugY', 'drugC', 'drugX', 'drugA',\n",
       "       'DrugY', 'drugX', 'DrugY', 'DrugY', 'drugC', 'drugX', 'DrugY',\n",
       "       'DrugY', 'drugC', 'DrugY', 'drugX', 'DrugY', 'drugX', 'drugX',\n",
       "       'DrugY', 'drugA', 'drugX', 'DrugY', 'DrugY', 'DrugY', 'DrugY',\n",
       "       'drugX', 'DrugY', 'drugX', 'drugB', 'drugB', 'DrugY', 'drugX',\n",
       "       'drugA', 'drugX', 'drugB', 'drugA', 'drugA', 'DrugY', 'DrugY',\n",
       "       'drugC', 'drugX', 'DrugY', 'drugX', 'drugC', 'drugX', 'DrugY',\n",
       "       'DrugY', 'DrugY', 'drugX', 'DrugY', 'drugA', 'DrugY', 'drugX',\n",
       "       'drugX', 'drugA', 'DrugY', 'drugB', 'DrugY', 'drugA', 'DrugY',\n",
       "       'DrugY', 'drugX', 'drugX', 'DrugY', 'drugX', 'drugC', 'DrugY',\n",
       "       'drugA', 'drugA', 'drugA', 'drugA', 'drugA', 'drugA', 'drugA',\n",
       "       'drugA', 'drugA', 'drugA', 'drugA', 'drugA', 'drugA', 'drugA',\n",
       "       'drugA', 'drugA', 'drugA', 'drugA', 'drugA', 'drugA', 'drugA',\n",
       "       'drugA', 'drugA', 'drugA', 'drugA', 'drugA', 'drugA', 'drugA',\n",
       "       'drugA', 'drugA', 'drugA', 'drugA', 'drugA', 'drugA', 'drugA',\n",
       "       'drugA', 'drugA', 'drugA', 'drugA', 'drugA', 'drugA', 'drugA',\n",
       "       'drugA', 'drugB', 'drugB', 'drugB', 'drugB', 'drugB', 'drugB',\n",
       "       'drugB', 'drugB', 'drugB', 'drugB', 'drugB', 'drugB', 'drugB',\n",
       "       'drugB', 'drugB', 'drugB', 'drugB', 'drugB', 'drugB', 'drugB',\n",
       "       'drugB', 'drugB', 'drugB', 'drugB', 'drugB', 'drugB', 'drugB',\n",
       "       'drugB', 'drugB', 'drugB', 'drugB', 'drugB', 'drugB', 'drugB',\n",
       "       'drugB', 'drugB', 'drugB', 'drugB', 'drugB', 'drugB', 'drugB',\n",
       "       'drugB', 'drugB', 'drugB', 'drugB', 'drugB', 'drugB', 'drugB',\n",
       "       'drugC', 'drugC', 'drugC', 'drugC', 'drugC', 'drugC', 'drugC',\n",
       "       'drugC', 'drugC', 'drugC', 'drugC', 'drugC', 'drugC', 'drugC',\n",
       "       'drugC', 'drugC', 'drugC', 'drugC', 'drugC', 'drugC', 'drugC',\n",
       "       'drugC', 'drugC', 'drugC', 'drugC', 'drugC', 'drugC', 'drugC',\n",
       "       'drugC', 'drugC', 'drugC', 'drugC', 'drugC', 'drugC', 'drugC',\n",
       "       'drugC', 'drugC', 'drugC', 'drugC', 'drugC', 'drugC', 'drugC',\n",
       "       'drugC', 'drugC', 'drugC', 'drugC', 'drugC', 'drugC', 'drugC',\n",
       "       'drugX', 'drugX', 'drugX', 'drugX', 'drugX', 'drugX', 'drugX',\n",
       "       'drugX', 'drugX', 'drugX', 'drugX', 'drugX', 'drugX', 'drugX',\n",
       "       'drugX', 'drugX', 'drugX', 'drugX', 'drugX', 'drugX', 'drugX',\n",
       "       'drugX', 'drugX', 'drugX', 'drugX'], dtype=object)"
      ]
     },
     "execution_count": 290,
     "metadata": {},
     "output_type": "execute_result"
    }
   ],
   "source": [
    "y_pred_rf=rf.predict(x_train)\n",
    "y_pred_rf"
   ]
  },
  {
   "cell_type": "code",
   "execution_count": 291,
   "id": "53f816be",
   "metadata": {},
   "outputs": [
    {
     "name": "stdout",
     "output_type": "stream",
     "text": [
      "Accuracy: 1.0\n"
     ]
    }
   ],
   "source": [
    "accuracy=accuracy_score(y_pred_rf,y_train_s)\n",
    "print(f\"Accuracy: {accuracy}\")\n"
   ]
  },
  {
   "cell_type": "code",
   "execution_count": 292,
   "id": "c98ffbae",
   "metadata": {},
   "outputs": [
    {
     "data": {
      "text/plain": [
       "array(['drugC', 'drugX', 'DrugY', 'DrugY', 'DrugY', 'drugX', 'drugX',\n",
       "       'drugX', 'DrugY', 'drugX', 'drugA', 'DrugY', 'DrugY', 'DrugY',\n",
       "       'drugB', 'drugC', 'DrugY', 'DrugY', 'drugX', 'DrugY', 'DrugY',\n",
       "       'drugX', 'drugX', 'drugX', 'DrugY', 'DrugY', 'DrugY', 'DrugY',\n",
       "       'DrugY', 'drugX', 'drugX', 'drugC', 'drugA', 'drugX', 'DrugY',\n",
       "       'DrugY', 'drugX', 'DrugY', 'drugA', 'drugX', 'DrugY', 'drugA',\n",
       "       'DrugY', 'drugX', 'DrugY', 'drugX', 'DrugY', 'DrugY', 'drugA',\n",
       "       'DrugY', 'DrugY', 'drugB', 'DrugY', 'DrugY', 'drugC', 'DrugY',\n",
       "       'drugX', 'drugX', 'DrugY', 'drugB'], dtype=object)"
      ]
     },
     "execution_count": 292,
     "metadata": {},
     "output_type": "execute_result"
    }
   ],
   "source": [
    "pred_rf=rf.predict(x_test)\n",
    "pred_rf"
   ]
  },
  {
   "cell_type": "code",
   "execution_count": 293,
   "id": "b9e27cc0",
   "metadata": {},
   "outputs": [
    {
     "name": "stdout",
     "output_type": "stream",
     "text": [
      "accuracy:1.0\n"
     ]
    }
   ],
   "source": [
    "accuracy_rf=accuracy_score(pred_rf,y_test)\n",
    "print(f\"accuracy:{accuracy_rf}\")\n"
   ]
  },
  {
   "cell_type": "code",
   "execution_count": 294,
   "id": "569bc3c4",
   "metadata": {},
   "outputs": [
    {
     "name": "stdout",
     "output_type": "stream",
     "text": [
      "Classification Report:\n",
      "              precision    recall  f1-score   support\n",
      "\n",
      "       DrugY       1.00      1.00      1.00        30\n",
      "       drugA       1.00      1.00      1.00         5\n",
      "       drugB       1.00      1.00      1.00         3\n",
      "       drugC       1.00      1.00      1.00         4\n",
      "       drugX       1.00      1.00      1.00        18\n",
      "\n",
      "    accuracy                           1.00        60\n",
      "   macro avg       1.00      1.00      1.00        60\n",
      "weighted avg       1.00      1.00      1.00        60\n",
      "\n"
     ]
    }
   ],
   "source": [
    "report2 = classification_report(y_test, pred_rf)\n",
    "print(\"Classification Report:\")\n",
    "print(report2)"
   ]
  },
  {
   "cell_type": "markdown",
   "id": "78a976fc",
   "metadata": {},
   "source": [
    "<div id='2.3' style='background-color:;text-align:centre;padding:5px;border-radius:35px'>\n",
    "    <h2 style='color:#003f5c;font-family:Impact'> Label Encoding Target Variable </h2>\n",
    "</div>"
   ]
  },
  {
   "cell_type": "code",
   "execution_count": 331,
   "id": "5b13996f",
   "metadata": {},
   "outputs": [],
   "source": [
    "from sklearn.preprocessing import LabelEncoder\n",
    "lb=LabelEncoder()\n",
    "y_train=lb.fit_transform(y_train_s)\n",
    "y_test=lb.fit_transform(y_test)"
   ]
  },
  {
   "cell_type": "code",
   "execution_count": 322,
   "id": "aa533673",
   "metadata": {},
   "outputs": [
    {
     "data": {
      "text/plain": [
       "array([0, 0, 4, 0, 4, 0, 2, 0, 4, 4, 4, 0, 1, 1, 1, 0, 0, 4, 4, 0, 1, 1,\n",
       "       2, 3, 2, 0, 3, 0, 2, 4, 4, 3, 0, 0, 3, 0, 0, 0, 0, 4, 3, 1, 0, 0,\n",
       "       0, 1, 4, 2, 4, 2, 0, 0, 0, 2, 0, 2, 0, 2, 4, 0, 0, 1, 0, 0, 1, 1,\n",
       "       4, 4, 0, 4, 0, 0, 3, 0, 3, 4, 1, 0, 4, 0, 0, 3, 4, 0, 0, 3, 0, 4,\n",
       "       0, 4, 4, 0, 1, 4, 0, 0, 0, 0, 4, 0, 4, 2, 2, 0, 4, 1, 4, 2, 1, 1,\n",
       "       0, 0, 3, 4, 0, 4, 3, 4, 0, 0, 0, 4, 0, 1, 0, 4, 4, 1, 0, 2, 0, 1,\n",
       "       0, 0, 4, 4, 0, 4, 3, 0, 1, 1, 1, 1, 1, 1, 1, 1, 1, 1, 1, 1, 1, 1,\n",
       "       1, 1, 1, 1, 1, 1, 1, 1, 1, 1, 1, 1, 1, 1, 1, 1, 1, 1, 1, 1, 1, 1,\n",
       "       1, 1, 1, 1, 1, 1, 1, 2, 2, 2, 2, 2, 2, 2, 2, 2, 2, 2, 2, 2, 2, 2,\n",
       "       2, 2, 2, 2, 2, 2, 2, 2, 2, 2, 2, 2, 2, 2, 2, 2, 2, 2, 2, 2, 2, 2,\n",
       "       2, 2, 2, 2, 2, 2, 2, 2, 2, 2, 2, 3, 3, 3, 3, 3, 3, 3, 3, 3, 3, 3,\n",
       "       3, 3, 3, 3, 3, 3, 3, 3, 3, 3, 3, 3, 3, 3, 3, 3, 3, 3, 3, 3, 3, 3,\n",
       "       3, 3, 3, 3, 3, 3, 3, 3, 3, 3, 3, 3, 3, 3, 3, 3, 4, 4, 4, 4, 4, 4,\n",
       "       4, 4, 4, 4, 4, 4, 4, 4, 4, 4, 4, 4, 4, 4, 4, 4, 4, 4, 4])"
      ]
     },
     "execution_count": 322,
     "metadata": {},
     "output_type": "execute_result"
    }
   ],
   "source": [
    "y_train"
   ]
  },
  {
   "cell_type": "code",
   "execution_count": 332,
   "id": "1cb9dff2",
   "metadata": {},
   "outputs": [
    {
     "data": {
      "text/plain": [
       "array([3, 4, 0, 0, 0, 4, 4, 4, 0, 4, 1, 0, 0, 0, 2, 3, 0, 0, 4, 0, 0, 4,\n",
       "       4, 4, 0, 0, 0, 0, 0, 4, 4, 3, 1, 4, 0, 0, 4, 0, 1, 4, 0, 1, 0, 4,\n",
       "       0, 4, 0, 0, 1, 0, 0, 2, 0, 0, 3, 0, 4, 4, 0, 2], dtype=int64)"
      ]
     },
     "execution_count": 332,
     "metadata": {},
     "output_type": "execute_result"
    }
   ],
   "source": [
    "y_test"
   ]
  },
  {
   "cell_type": "markdown",
   "id": "67a6de98",
   "metadata": {},
   "source": [
    "<div id='2.3' style='background-color:;text-align:centre;padding:5px;border-radius:35px'>\n",
    "    <h2 style='color:#003f5c;font-family:Impact'>xgboost Classifier </h2>\n",
    "</div>"
   ]
  },
  {
   "cell_type": "code",
   "execution_count": 323,
   "id": "8c98ed59",
   "metadata": {},
   "outputs": [
    {
     "data": {
      "text/html": [
       "<style>#sk-container-id-13 {color: black;background-color: white;}#sk-container-id-13 pre{padding: 0;}#sk-container-id-13 div.sk-toggleable {background-color: white;}#sk-container-id-13 label.sk-toggleable__label {cursor: pointer;display: block;width: 100%;margin-bottom: 0;padding: 0.3em;box-sizing: border-box;text-align: center;}#sk-container-id-13 label.sk-toggleable__label-arrow:before {content: \"▸\";float: left;margin-right: 0.25em;color: #696969;}#sk-container-id-13 label.sk-toggleable__label-arrow:hover:before {color: black;}#sk-container-id-13 div.sk-estimator:hover label.sk-toggleable__label-arrow:before {color: black;}#sk-container-id-13 div.sk-toggleable__content {max-height: 0;max-width: 0;overflow: hidden;text-align: left;background-color: #f0f8ff;}#sk-container-id-13 div.sk-toggleable__content pre {margin: 0.2em;color: black;border-radius: 0.25em;background-color: #f0f8ff;}#sk-container-id-13 input.sk-toggleable__control:checked~div.sk-toggleable__content {max-height: 200px;max-width: 100%;overflow: auto;}#sk-container-id-13 input.sk-toggleable__control:checked~label.sk-toggleable__label-arrow:before {content: \"▾\";}#sk-container-id-13 div.sk-estimator input.sk-toggleable__control:checked~label.sk-toggleable__label {background-color: #d4ebff;}#sk-container-id-13 div.sk-label input.sk-toggleable__control:checked~label.sk-toggleable__label {background-color: #d4ebff;}#sk-container-id-13 input.sk-hidden--visually {border: 0;clip: rect(1px 1px 1px 1px);clip: rect(1px, 1px, 1px, 1px);height: 1px;margin: -1px;overflow: hidden;padding: 0;position: absolute;width: 1px;}#sk-container-id-13 div.sk-estimator {font-family: monospace;background-color: #f0f8ff;border: 1px dotted black;border-radius: 0.25em;box-sizing: border-box;margin-bottom: 0.5em;}#sk-container-id-13 div.sk-estimator:hover {background-color: #d4ebff;}#sk-container-id-13 div.sk-parallel-item::after {content: \"\";width: 100%;border-bottom: 1px solid gray;flex-grow: 1;}#sk-container-id-13 div.sk-label:hover label.sk-toggleable__label {background-color: #d4ebff;}#sk-container-id-13 div.sk-serial::before {content: \"\";position: absolute;border-left: 1px solid gray;box-sizing: border-box;top: 0;bottom: 0;left: 50%;z-index: 0;}#sk-container-id-13 div.sk-serial {display: flex;flex-direction: column;align-items: center;background-color: white;padding-right: 0.2em;padding-left: 0.2em;position: relative;}#sk-container-id-13 div.sk-item {position: relative;z-index: 1;}#sk-container-id-13 div.sk-parallel {display: flex;align-items: stretch;justify-content: center;background-color: white;position: relative;}#sk-container-id-13 div.sk-item::before, #sk-container-id-13 div.sk-parallel-item::before {content: \"\";position: absolute;border-left: 1px solid gray;box-sizing: border-box;top: 0;bottom: 0;left: 50%;z-index: -1;}#sk-container-id-13 div.sk-parallel-item {display: flex;flex-direction: column;z-index: 1;position: relative;background-color: white;}#sk-container-id-13 div.sk-parallel-item:first-child::after {align-self: flex-end;width: 50%;}#sk-container-id-13 div.sk-parallel-item:last-child::after {align-self: flex-start;width: 50%;}#sk-container-id-13 div.sk-parallel-item:only-child::after {width: 0;}#sk-container-id-13 div.sk-dashed-wrapped {border: 1px dashed gray;margin: 0 0.4em 0.5em 0.4em;box-sizing: border-box;padding-bottom: 0.4em;background-color: white;}#sk-container-id-13 div.sk-label label {font-family: monospace;font-weight: bold;display: inline-block;line-height: 1.2em;}#sk-container-id-13 div.sk-label-container {text-align: center;}#sk-container-id-13 div.sk-container {/* jupyter's `normalize.less` sets `[hidden] { display: none; }` but bootstrap.min.css set `[hidden] { display: none !important; }` so we also need the `!important` here to be able to override the default hidden behavior on the sphinx rendered scikit-learn.org. See: https://github.com/scikit-learn/scikit-learn/issues/21755 */display: inline-block !important;position: relative;}#sk-container-id-13 div.sk-text-repr-fallback {display: none;}</style><div id=\"sk-container-id-13\" class=\"sk-top-container\"><div class=\"sk-text-repr-fallback\"><pre>XGBClassifier(base_score=None, booster=None, callbacks=None,\n",
       "              colsample_bylevel=None, colsample_bynode=None,\n",
       "              colsample_bytree=None, device=None, early_stopping_rounds=None,\n",
       "              enable_categorical=False, eval_metric=None, feature_types=None,\n",
       "              gamma=None, grow_policy=None, importance_type=None,\n",
       "              interaction_constraints=None, learning_rate=0.1, max_bin=None,\n",
       "              max_cat_threshold=None, max_cat_to_onehot=None,\n",
       "              max_delta_step=None, max_depth=None, max_leaves=None,\n",
       "              min_child_weight=None, missing=nan, monotone_constraints=None,\n",
       "              multi_strategy=None, n_estimators=100, n_jobs=None,\n",
       "              num_parallel_tree=None, objective=&#x27;multi:softprob&#x27;, ...)</pre><b>In a Jupyter environment, please rerun this cell to show the HTML representation or trust the notebook. <br />On GitHub, the HTML representation is unable to render, please try loading this page with nbviewer.org.</b></div><div class=\"sk-container\" hidden><div class=\"sk-item\"><div class=\"sk-estimator sk-toggleable\"><input class=\"sk-toggleable__control sk-hidden--visually\" id=\"sk-estimator-id-13\" type=\"checkbox\" checked><label for=\"sk-estimator-id-13\" class=\"sk-toggleable__label sk-toggleable__label-arrow\">XGBClassifier</label><div class=\"sk-toggleable__content\"><pre>XGBClassifier(base_score=None, booster=None, callbacks=None,\n",
       "              colsample_bylevel=None, colsample_bynode=None,\n",
       "              colsample_bytree=None, device=None, early_stopping_rounds=None,\n",
       "              enable_categorical=False, eval_metric=None, feature_types=None,\n",
       "              gamma=None, grow_policy=None, importance_type=None,\n",
       "              interaction_constraints=None, learning_rate=0.1, max_bin=None,\n",
       "              max_cat_threshold=None, max_cat_to_onehot=None,\n",
       "              max_delta_step=None, max_depth=None, max_leaves=None,\n",
       "              min_child_weight=None, missing=nan, monotone_constraints=None,\n",
       "              multi_strategy=None, n_estimators=100, n_jobs=None,\n",
       "              num_parallel_tree=None, objective=&#x27;multi:softprob&#x27;, ...)</pre></div></div></div></div></div>"
      ],
      "text/plain": [
       "XGBClassifier(base_score=None, booster=None, callbacks=None,\n",
       "              colsample_bylevel=None, colsample_bynode=None,\n",
       "              colsample_bytree=None, device=None, early_stopping_rounds=None,\n",
       "              enable_categorical=False, eval_metric=None, feature_types=None,\n",
       "              gamma=None, grow_policy=None, importance_type=None,\n",
       "              interaction_constraints=None, learning_rate=0.1, max_bin=None,\n",
       "              max_cat_threshold=None, max_cat_to_onehot=None,\n",
       "              max_delta_step=None, max_depth=None, max_leaves=None,\n",
       "              min_child_weight=None, missing=nan, monotone_constraints=None,\n",
       "              multi_strategy=None, n_estimators=100, n_jobs=None,\n",
       "              num_parallel_tree=None, objective='multi:softprob', ...)"
      ]
     },
     "execution_count": 323,
     "metadata": {},
     "output_type": "execute_result"
    }
   ],
   "source": [
    "import xgboost as xgb\n",
    "xgb_c=xgb.XGBClassifier(n_estimators=100, learning_rate=0.1, random_state=42)\n",
    "xgb_c.fit(x_train,y_train)"
   ]
  },
  {
   "cell_type": "code",
   "execution_count": 324,
   "id": "f5d76ed9",
   "metadata": {},
   "outputs": [
    {
     "data": {
      "text/plain": [
       "array([0, 0, 4, 0, 4, 0, 2, 0, 4, 4, 4, 0, 1, 1, 1, 0, 0, 4, 4, 0, 1, 1,\n",
       "       2, 3, 2, 0, 3, 0, 2, 4, 4, 3, 0, 0, 3, 0, 0, 0, 0, 4, 3, 1, 0, 0,\n",
       "       0, 1, 4, 2, 4, 2, 0, 0, 0, 2, 0, 2, 0, 2, 4, 0, 0, 1, 0, 0, 1, 1,\n",
       "       4, 4, 0, 4, 0, 0, 3, 0, 3, 4, 1, 0, 4, 0, 0, 3, 4, 0, 0, 3, 0, 4,\n",
       "       0, 4, 4, 0, 1, 4, 0, 0, 0, 0, 4, 0, 4, 2, 2, 0, 4, 1, 4, 2, 1, 1,\n",
       "       0, 0, 3, 4, 0, 4, 3, 4, 0, 0, 0, 4, 0, 1, 0, 4, 4, 1, 0, 2, 0, 1,\n",
       "       0, 0, 4, 4, 0, 4, 3, 0, 1, 1, 1, 1, 1, 1, 1, 1, 1, 1, 1, 1, 1, 1,\n",
       "       1, 1, 1, 1, 1, 1, 1, 1, 1, 1, 1, 1, 1, 1, 1, 1, 1, 1, 1, 1, 1, 1,\n",
       "       1, 1, 1, 1, 1, 1, 1, 2, 2, 2, 2, 2, 2, 2, 2, 2, 2, 2, 2, 2, 2, 2,\n",
       "       2, 2, 2, 2, 2, 2, 2, 2, 2, 2, 2, 2, 2, 2, 2, 2, 2, 2, 2, 2, 2, 2,\n",
       "       2, 2, 2, 2, 2, 2, 2, 2, 2, 2, 2, 3, 3, 3, 3, 3, 3, 3, 3, 3, 3, 3,\n",
       "       3, 3, 3, 3, 3, 3, 3, 3, 3, 3, 3, 3, 3, 3, 3, 3, 3, 3, 3, 3, 3, 3,\n",
       "       3, 3, 3, 3, 3, 3, 3, 3, 3, 3, 3, 3, 3, 3, 3, 3, 4, 4, 4, 4, 4, 4,\n",
       "       4, 4, 4, 4, 4, 4, 4, 4, 4, 4, 4, 4, 4, 4, 4, 4, 4, 4, 4],\n",
       "      dtype=int64)"
      ]
     },
     "execution_count": 324,
     "metadata": {},
     "output_type": "execute_result"
    }
   ],
   "source": [
    "y_pred_xgb_c=xgb_c.predict(x_train)\n",
    "y_pred_xgb_c"
   ]
  },
  {
   "cell_type": "code",
   "execution_count": 325,
   "id": "adb7a6d3",
   "metadata": {},
   "outputs": [
    {
     "data": {
      "text/plain": [
       "1.0"
      ]
     },
     "execution_count": 325,
     "metadata": {},
     "output_type": "execute_result"
    }
   ],
   "source": [
    "accuracy_xgb_c=accuracy_score(y_train,y_pred_xgb_c)\n",
    "accuracy_xgb_c"
   ]
  },
  {
   "cell_type": "code",
   "execution_count": 326,
   "id": "f7cf8e56",
   "metadata": {},
   "outputs": [
    {
     "name": "stdout",
     "output_type": "stream",
     "text": [
      "Classification Report:\n",
      "              precision    recall  f1-score   support\n",
      "\n",
      "           0       1.00      1.00      1.00        61\n",
      "           1       1.00      1.00      1.00        61\n",
      "           2       1.00      1.00      1.00        61\n",
      "           3       1.00      1.00      1.00        61\n",
      "           4       1.00      1.00      1.00        61\n",
      "\n",
      "    accuracy                           1.00       305\n",
      "   macro avg       1.00      1.00      1.00       305\n",
      "weighted avg       1.00      1.00      1.00       305\n",
      "\n"
     ]
    }
   ],
   "source": [
    "report = classification_report(y_train, y_pred_xgb_c)\n",
    "print(\"Classification Report:\")\n",
    "print(report)"
   ]
  },
  {
   "cell_type": "code",
   "execution_count": null,
   "id": "fc22c2df",
   "metadata": {},
   "outputs": [],
   "source": []
  },
  {
   "cell_type": "code",
   "execution_count": 333,
   "id": "f3270b6e",
   "metadata": {},
   "outputs": [
    {
     "data": {
      "text/plain": [
       "array([3, 4, 0, 0, 0, 4, 4, 4, 0, 4, 1, 0, 0, 0, 2, 3, 0, 0, 4, 0, 0, 4,\n",
       "       4, 4, 0, 0, 0, 0, 0, 4, 4, 3, 1, 4, 0, 0, 4, 0, 1, 4, 0, 1, 0, 4,\n",
       "       0, 4, 0, 0, 1, 0, 0, 2, 0, 0, 3, 0, 4, 4, 0, 2], dtype=int64)"
      ]
     },
     "execution_count": 333,
     "metadata": {},
     "output_type": "execute_result"
    }
   ],
   "source": [
    "y_pred_xgb_c1=xgb_c.predict(x_test)\n",
    "y_pred_xgb_c1"
   ]
  },
  {
   "cell_type": "code",
   "execution_count": 334,
   "id": "07481280",
   "metadata": {},
   "outputs": [
    {
     "data": {
      "text/plain": [
       "1.0"
      ]
     },
     "execution_count": 334,
     "metadata": {},
     "output_type": "execute_result"
    }
   ],
   "source": [
    "accuracy_xgb_c1=accuracy_score(y_test,y_pred_xgb_c1)\n",
    "accuracy_xgb_c1"
   ]
  },
  {
   "cell_type": "code",
   "execution_count": 335,
   "id": "2e2fdb5e",
   "metadata": {},
   "outputs": [
    {
     "name": "stdout",
     "output_type": "stream",
     "text": [
      "Classification Report:\n",
      "              precision    recall  f1-score   support\n",
      "\n",
      "           0       1.00      1.00      1.00        30\n",
      "           1       1.00      1.00      1.00         5\n",
      "           2       1.00      1.00      1.00         3\n",
      "           3       1.00      1.00      1.00         4\n",
      "           4       1.00      1.00      1.00        18\n",
      "\n",
      "    accuracy                           1.00        60\n",
      "   macro avg       1.00      1.00      1.00        60\n",
      "weighted avg       1.00      1.00      1.00        60\n",
      "\n"
     ]
    }
   ],
   "source": [
    "report = classification_report(y_test, y_pred_xgb_c1)\n",
    "print(\"Classification Report:\")\n",
    "print(report)"
   ]
  },
  {
   "cell_type": "markdown",
   "id": "d7c4cfa3",
   "metadata": {},
   "source": [
    "<div id='2.3' style='background-color:;text-align:centre;padding:5px;border-radius:35px'>\n",
    "    <h2 style='color:#003f5c;font-family:Impact'>Model Comparison </h2>\n",
    "</div>"
   ]
  },
  {
   "cell_type": "code",
   "execution_count": 336,
   "id": "3f0d20f2",
   "metadata": {},
   "outputs": [
    {
     "data": {
      "text/html": [
       "<div>\n",
       "<style scoped>\n",
       "    .dataframe tbody tr th:only-of-type {\n",
       "        vertical-align: middle;\n",
       "    }\n",
       "\n",
       "    .dataframe tbody tr th {\n",
       "        vertical-align: top;\n",
       "    }\n",
       "\n",
       "    .dataframe thead th {\n",
       "        text-align: right;\n",
       "    }\n",
       "</style>\n",
       "<table border=\"1\" class=\"dataframe\">\n",
       "  <thead>\n",
       "    <tr style=\"text-align: right;\">\n",
       "      <th></th>\n",
       "      <th>Model</th>\n",
       "      <th>Accuracy</th>\n",
       "    </tr>\n",
       "  </thead>\n",
       "  <tbody>\n",
       "    <tr>\n",
       "      <th>2</th>\n",
       "      <td>Decision Tree</td>\n",
       "      <td>100.000000</td>\n",
       "    </tr>\n",
       "    <tr>\n",
       "      <th>3</th>\n",
       "      <td>RandomForestClassifier</td>\n",
       "      <td>100.000000</td>\n",
       "    </tr>\n",
       "    <tr>\n",
       "      <th>4</th>\n",
       "      <td>xgboost</td>\n",
       "      <td>100.000000</td>\n",
       "    </tr>\n",
       "    <tr>\n",
       "      <th>0</th>\n",
       "      <td>Logistic Regression</td>\n",
       "      <td>96.666667</td>\n",
       "    </tr>\n",
       "    <tr>\n",
       "      <th>1</th>\n",
       "      <td>K Neighbors</td>\n",
       "      <td>76.666667</td>\n",
       "    </tr>\n",
       "  </tbody>\n",
       "</table>\n",
       "</div>"
      ],
      "text/plain": [
       "                    Model    Accuracy\n",
       "2           Decision Tree  100.000000\n",
       "3  RandomForestClassifier  100.000000\n",
       "4                 xgboost  100.000000\n",
       "0     Logistic Regression   96.666667\n",
       "1             K Neighbors   76.666667"
      ]
     },
     "execution_count": 336,
     "metadata": {},
     "output_type": "execute_result"
    }
   ],
   "source": [
    "Models = pd.DataFrame({'Model': ['Logistic Regression', 'K Neighbors', 'Decision Tree','RandomForestClassifier', 'xgboost'], \n",
    "                        'Accuracy': [accuracy_lr*100, accuracy_kn*100, accuracy_dt*100, accuracy_rf*100, accuracy_xgb_c1*100]})\n",
    "Models.sort_values(by='Accuracy', ascending=False)"
   ]
  },
  {
   "cell_type": "code",
   "execution_count": null,
   "id": "d05f0b5c",
   "metadata": {},
   "outputs": [],
   "source": []
  },
  {
   "cell_type": "code",
   "execution_count": 358,
   "id": "8310fb71",
   "metadata": {},
   "outputs": [],
   "source": [
    "import pickle"
   ]
  },
  {
   "cell_type": "code",
   "execution_count": 388,
   "id": "f328089b",
   "metadata": {},
   "outputs": [],
   "source": [
    "pickle.dump(rf,open('final_Model.pkl','wb'))"
   ]
  },
  {
   "cell_type": "code",
   "execution_count": 389,
   "id": "9ae4fea6",
   "metadata": {},
   "outputs": [],
   "source": [
    "pickle.dump(scaler,open('final_Scaler.pkl','wb'))"
   ]
  },
  {
   "cell_type": "code",
   "execution_count": 390,
   "id": "32a49ce7",
   "metadata": {},
   "outputs": [],
   "source": [
    "model = pickle.load(open('final_Model.pkl','rb'))"
   ]
  },
  {
   "cell_type": "code",
   "execution_count": 391,
   "id": "58226242",
   "metadata": {},
   "outputs": [],
   "source": [
    "Scaler = pickle.load(open('final_Scaler.pkl','rb'))"
   ]
  },
  {
   "cell_type": "code",
   "execution_count": 398,
   "id": "f20c210d",
   "metadata": {},
   "outputs": [],
   "source": [
    "tt = np.array([[23,0,2,0,25]])"
   ]
  },
  {
   "cell_type": "code",
   "execution_count": 399,
   "id": "ce28fa58",
   "metadata": {},
   "outputs": [],
   "source": [
    "sc1 = Scaler.transform(tt)"
   ]
  },
  {
   "cell_type": "code",
   "execution_count": 400,
   "id": "c5fa7551",
   "metadata": {},
   "outputs": [],
   "source": [
    "tk = np.array([[47,1,0,0,13]])"
   ]
  },
  {
   "cell_type": "code",
   "execution_count": 401,
   "id": "51372856",
   "metadata": {},
   "outputs": [],
   "source": [
    "sc = Scaler.transform(tk)"
   ]
  },
  {
   "cell_type": "code",
   "execution_count": 402,
   "id": "f57ac23e",
   "metadata": {},
   "outputs": [
    {
     "data": {
      "text/plain": [
       "array(['DrugY'], dtype=object)"
      ]
     },
     "execution_count": 402,
     "metadata": {},
     "output_type": "execute_result"
    }
   ],
   "source": [
    "model.predict(sc1)"
   ]
  },
  {
   "cell_type": "code",
   "execution_count": 403,
   "id": "4ef9d79a",
   "metadata": {},
   "outputs": [
    {
     "data": {
      "text/plain": [
       "array(['drugC'], dtype=object)"
      ]
     },
     "execution_count": 403,
     "metadata": {},
     "output_type": "execute_result"
    }
   ],
   "source": [
    "model.predict(sc)"
   ]
  },
  {
   "cell_type": "code",
   "execution_count": 240,
   "id": "96a94e52",
   "metadata": {},
   "outputs": [
    {
     "data": {
      "text/html": [
       "<div>\n",
       "<style scoped>\n",
       "    .dataframe tbody tr th:only-of-type {\n",
       "        vertical-align: middle;\n",
       "    }\n",
       "\n",
       "    .dataframe tbody tr th {\n",
       "        vertical-align: top;\n",
       "    }\n",
       "\n",
       "    .dataframe thead th {\n",
       "        text-align: right;\n",
       "    }\n",
       "</style>\n",
       "<table border=\"1\" class=\"dataframe\">\n",
       "  <thead>\n",
       "    <tr style=\"text-align: right;\">\n",
       "      <th></th>\n",
       "      <th>Age</th>\n",
       "      <th>Sex</th>\n",
       "      <th>BP</th>\n",
       "      <th>Cholesterol</th>\n",
       "      <th>Na_to_K</th>\n",
       "      <th>Drug</th>\n",
       "    </tr>\n",
       "  </thead>\n",
       "  <tbody>\n",
       "    <tr>\n",
       "      <th>0</th>\n",
       "      <td>23</td>\n",
       "      <td>0</td>\n",
       "      <td>2</td>\n",
       "      <td>0</td>\n",
       "      <td>25.355</td>\n",
       "      <td>DrugY</td>\n",
       "    </tr>\n",
       "    <tr>\n",
       "      <th>1</th>\n",
       "      <td>47</td>\n",
       "      <td>1</td>\n",
       "      <td>0</td>\n",
       "      <td>0</td>\n",
       "      <td>13.093</td>\n",
       "      <td>drugC</td>\n",
       "    </tr>\n",
       "    <tr>\n",
       "      <th>2</th>\n",
       "      <td>47</td>\n",
       "      <td>1</td>\n",
       "      <td>0</td>\n",
       "      <td>0</td>\n",
       "      <td>10.114</td>\n",
       "      <td>drugC</td>\n",
       "    </tr>\n",
       "    <tr>\n",
       "      <th>3</th>\n",
       "      <td>28</td>\n",
       "      <td>0</td>\n",
       "      <td>1</td>\n",
       "      <td>0</td>\n",
       "      <td>7.798</td>\n",
       "      <td>drugX</td>\n",
       "    </tr>\n",
       "    <tr>\n",
       "      <th>4</th>\n",
       "      <td>61</td>\n",
       "      <td>0</td>\n",
       "      <td>0</td>\n",
       "      <td>0</td>\n",
       "      <td>18.043</td>\n",
       "      <td>DrugY</td>\n",
       "    </tr>\n",
       "    <tr>\n",
       "      <th>...</th>\n",
       "      <td>...</td>\n",
       "      <td>...</td>\n",
       "      <td>...</td>\n",
       "      <td>...</td>\n",
       "      <td>...</td>\n",
       "      <td>...</td>\n",
       "    </tr>\n",
       "    <tr>\n",
       "      <th>195</th>\n",
       "      <td>56</td>\n",
       "      <td>0</td>\n",
       "      <td>0</td>\n",
       "      <td>0</td>\n",
       "      <td>11.567</td>\n",
       "      <td>drugC</td>\n",
       "    </tr>\n",
       "    <tr>\n",
       "      <th>196</th>\n",
       "      <td>16</td>\n",
       "      <td>1</td>\n",
       "      <td>0</td>\n",
       "      <td>0</td>\n",
       "      <td>12.006</td>\n",
       "      <td>drugC</td>\n",
       "    </tr>\n",
       "    <tr>\n",
       "      <th>197</th>\n",
       "      <td>52</td>\n",
       "      <td>1</td>\n",
       "      <td>1</td>\n",
       "      <td>0</td>\n",
       "      <td>9.894</td>\n",
       "      <td>drugX</td>\n",
       "    </tr>\n",
       "    <tr>\n",
       "      <th>198</th>\n",
       "      <td>23</td>\n",
       "      <td>1</td>\n",
       "      <td>1</td>\n",
       "      <td>1</td>\n",
       "      <td>14.020</td>\n",
       "      <td>drugX</td>\n",
       "    </tr>\n",
       "    <tr>\n",
       "      <th>199</th>\n",
       "      <td>40</td>\n",
       "      <td>0</td>\n",
       "      <td>0</td>\n",
       "      <td>1</td>\n",
       "      <td>11.349</td>\n",
       "      <td>drugX</td>\n",
       "    </tr>\n",
       "  </tbody>\n",
       "</table>\n",
       "<p>200 rows × 6 columns</p>\n",
       "</div>"
      ],
      "text/plain": [
       "     Age  Sex  BP  Cholesterol  Na_to_K   Drug\n",
       "0     23    0   2            0   25.355  DrugY\n",
       "1     47    1   0            0   13.093  drugC\n",
       "2     47    1   0            0   10.114  drugC\n",
       "3     28    0   1            0    7.798  drugX\n",
       "4     61    0   0            0   18.043  DrugY\n",
       "..   ...  ...  ..          ...      ...    ...\n",
       "195   56    0   0            0   11.567  drugC\n",
       "196   16    1   0            0   12.006  drugC\n",
       "197   52    1   1            0    9.894  drugX\n",
       "198   23    1   1            1   14.020  drugX\n",
       "199   40    0   0            1   11.349  drugX\n",
       "\n",
       "[200 rows x 6 columns]"
      ]
     },
     "execution_count": 240,
     "metadata": {},
     "output_type": "execute_result"
    }
   ],
   "source": [
    "data"
   ]
  }
 ],
 "metadata": {
  "kernelspec": {
   "display_name": "Python 3 (ipykernel)",
   "language": "python",
   "name": "python3"
  },
  "language_info": {
   "codemirror_mode": {
    "name": "ipython",
    "version": 3
   },
   "file_extension": ".py",
   "mimetype": "text/x-python",
   "name": "python",
   "nbconvert_exporter": "python",
   "pygments_lexer": "ipython3",
   "version": "3.10.9"
  }
 },
 "nbformat": 4,
 "nbformat_minor": 5
}
